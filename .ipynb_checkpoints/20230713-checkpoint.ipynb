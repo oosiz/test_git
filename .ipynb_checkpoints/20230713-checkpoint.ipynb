{
 "cells": [
  {
   "cell_type": "code",
   "execution_count": 2,
   "id": "c1c9147e",
   "metadata": {},
   "outputs": [],
   "source": [
    "import pandas as pd"
   ]
  },
  {
   "cell_type": "code",
   "execution_count": 10,
   "id": "d1110930",
   "metadata": {},
   "outputs": [],
   "source": [
    "import scipy.stats as stats"
   ]
  },
  {
   "cell_type": "code",
   "execution_count": 171,
   "id": "ac03788d",
   "metadata": {},
   "outputs": [
    {
     "data": {
      "text/html": [
       "<div>\n",
       "<style scoped>\n",
       "    .dataframe tbody tr th:only-of-type {\n",
       "        vertical-align: middle;\n",
       "    }\n",
       "\n",
       "    .dataframe tbody tr th {\n",
       "        vertical-align: top;\n",
       "    }\n",
       "\n",
       "    .dataframe thead th {\n",
       "        text-align: right;\n",
       "    }\n",
       "</style>\n",
       "<table border=\"1\" class=\"dataframe\">\n",
       "  <thead>\n",
       "    <tr style=\"text-align: right;\">\n",
       "      <th></th>\n",
       "      <th>연도구분</th>\n",
       "      <th>지역구분</th>\n",
       "      <th>소재지명</th>\n",
       "      <th>재산구분</th>\n",
       "      <th>공부지목</th>\n",
       "      <th>대장면적(제곱미터)</th>\n",
       "      <th>대장금액(원)</th>\n",
       "      <th>처분구분명</th>\n",
       "      <th>계약일자</th>\n",
       "      <th>부점명</th>\n",
       "      <th>팀명</th>\n",
       "    </tr>\n",
       "  </thead>\n",
       "  <tbody>\n",
       "    <tr>\n",
       "      <th>0</th>\n",
       "      <td>2014</td>\n",
       "      <td>전라북도</td>\n",
       "      <td>전라북도 정읍시 상동  725</td>\n",
       "      <td>토지</td>\n",
       "      <td>전</td>\n",
       "      <td>56.0</td>\n",
       "      <td>9968000.0</td>\n",
       "      <td>처분(매각수의)</td>\n",
       "      <td>2014-01-01</td>\n",
       "      <td>전북지역본부</td>\n",
       "      <td>국유재산관리1팀</td>\n",
       "    </tr>\n",
       "    <tr>\n",
       "      <th>1</th>\n",
       "      <td>2014</td>\n",
       "      <td>울산광역시</td>\n",
       "      <td>울산광역시 북구 천곡동  709-1</td>\n",
       "      <td>토지</td>\n",
       "      <td>임야</td>\n",
       "      <td>225.0</td>\n",
       "      <td>13770000.0</td>\n",
       "      <td>처분(매각수의)</td>\n",
       "      <td>2014-01-01</td>\n",
       "      <td>국유재산관리부</td>\n",
       "      <td>국유울산팀</td>\n",
       "    </tr>\n",
       "    <tr>\n",
       "      <th>2</th>\n",
       "      <td>2014</td>\n",
       "      <td>전라북도</td>\n",
       "      <td>전라북도 정읍시 산내면 종성리 727-21</td>\n",
       "      <td>토지</td>\n",
       "      <td>답</td>\n",
       "      <td>105.0</td>\n",
       "      <td>1075200.0</td>\n",
       "      <td>처분(매각수의)</td>\n",
       "      <td>2014-01-01</td>\n",
       "      <td>전북지역본부</td>\n",
       "      <td>국유재산관리1팀</td>\n",
       "    </tr>\n",
       "    <tr>\n",
       "      <th>3</th>\n",
       "      <td>2014</td>\n",
       "      <td>전라북도</td>\n",
       "      <td>전라북도 정읍시 산내면 종성리 727-16</td>\n",
       "      <td>토지</td>\n",
       "      <td>답</td>\n",
       "      <td>184.0</td>\n",
       "      <td>1884160.0</td>\n",
       "      <td>처분(매각수의)</td>\n",
       "      <td>2014-01-01</td>\n",
       "      <td>전북지역본부</td>\n",
       "      <td>국유재산관리1팀</td>\n",
       "    </tr>\n",
       "    <tr>\n",
       "      <th>4</th>\n",
       "      <td>2014</td>\n",
       "      <td>전라북도</td>\n",
       "      <td>전라북도 김제시 검산동  424-3</td>\n",
       "      <td>토지</td>\n",
       "      <td>전</td>\n",
       "      <td>2106.0</td>\n",
       "      <td>23797800.0</td>\n",
       "      <td>처분(매각수의)</td>\n",
       "      <td>2014-01-01</td>\n",
       "      <td>전북지역본부</td>\n",
       "      <td>국유재산관리2팀</td>\n",
       "    </tr>\n",
       "    <tr>\n",
       "      <th>...</th>\n",
       "      <td>...</td>\n",
       "      <td>...</td>\n",
       "      <td>...</td>\n",
       "      <td>...</td>\n",
       "      <td>...</td>\n",
       "      <td>...</td>\n",
       "      <td>...</td>\n",
       "      <td>...</td>\n",
       "      <td>...</td>\n",
       "      <td>...</td>\n",
       "      <td>...</td>\n",
       "    </tr>\n",
       "    <tr>\n",
       "      <th>141312</th>\n",
       "      <td>2022</td>\n",
       "      <td>제주특별자치도</td>\n",
       "      <td>제주특별자치도 서귀포시 표선면 하천리 1500-4</td>\n",
       "      <td>토지</td>\n",
       "      <td>임야</td>\n",
       "      <td>208.0</td>\n",
       "      <td>29952000.0</td>\n",
       "      <td>처분(매각수의)</td>\n",
       "      <td>2022-11-09</td>\n",
       "      <td>광주전남지역본부</td>\n",
       "      <td>국유제주지사</td>\n",
       "    </tr>\n",
       "    <tr>\n",
       "      <th>141313</th>\n",
       "      <td>2022</td>\n",
       "      <td>제주특별자치도</td>\n",
       "      <td>제주특별자치도 서귀포시 표선면 세화리 2451-3</td>\n",
       "      <td>토지</td>\n",
       "      <td>전</td>\n",
       "      <td>1257.0</td>\n",
       "      <td>56062200.0</td>\n",
       "      <td>처분(매각수의)</td>\n",
       "      <td>2022-12-29</td>\n",
       "      <td>광주전남지역본부</td>\n",
       "      <td>국유제주지사</td>\n",
       "    </tr>\n",
       "    <tr>\n",
       "      <th>141314</th>\n",
       "      <td>2022</td>\n",
       "      <td>제주특별자치도</td>\n",
       "      <td>제주특별자치도 서귀포시 표선면 세화리 2451-10</td>\n",
       "      <td>토지</td>\n",
       "      <td>전</td>\n",
       "      <td>2974.0</td>\n",
       "      <td>132640400.0</td>\n",
       "      <td>처분(매각수의)</td>\n",
       "      <td>2022-12-29</td>\n",
       "      <td>광주전남지역본부</td>\n",
       "      <td>국유제주지사</td>\n",
       "    </tr>\n",
       "    <tr>\n",
       "      <th>141315</th>\n",
       "      <td>2022</td>\n",
       "      <td>제주특별자치도</td>\n",
       "      <td>제주특별자치도 서귀포시 표선면 토산리 32-3</td>\n",
       "      <td>토지</td>\n",
       "      <td>유지</td>\n",
       "      <td>80.0</td>\n",
       "      <td>32160000.0</td>\n",
       "      <td>처분(매각수의)</td>\n",
       "      <td>2022-08-04</td>\n",
       "      <td>광주전남지역본부</td>\n",
       "      <td>국유제주지사</td>\n",
       "    </tr>\n",
       "    <tr>\n",
       "      <th>141316</th>\n",
       "      <td>2022</td>\n",
       "      <td>제주특별자치도</td>\n",
       "      <td>제주특별자치도 서귀포시 표선면 토산리 1033</td>\n",
       "      <td>토지</td>\n",
       "      <td>묘지</td>\n",
       "      <td>178.0</td>\n",
       "      <td>2776800.0</td>\n",
       "      <td>처분(매각수의)</td>\n",
       "      <td>2022-11-22</td>\n",
       "      <td>광주전남지역본부</td>\n",
       "      <td>국유제주지사</td>\n",
       "    </tr>\n",
       "  </tbody>\n",
       "</table>\n",
       "<p>141317 rows × 11 columns</p>\n",
       "</div>"
      ],
      "text/plain": [
       "        연도구분     지역구분                          소재지명 재산구분 공부지목  대장면적(제곱미터)  \\\n",
       "0       2014     전라북도              전라북도 정읍시 상동  725   토지    전        56.0   \n",
       "1       2014    울산광역시           울산광역시 북구 천곡동  709-1   토지   임야       225.0   \n",
       "2       2014     전라북도       전라북도 정읍시 산내면 종성리 727-21   토지    답       105.0   \n",
       "3       2014     전라북도       전라북도 정읍시 산내면 종성리 727-16   토지    답       184.0   \n",
       "4       2014     전라북도           전라북도 김제시 검산동  424-3   토지    전      2106.0   \n",
       "...      ...      ...                           ...  ...  ...         ...   \n",
       "141312  2022  제주특별자치도   제주특별자치도 서귀포시 표선면 하천리 1500-4   토지   임야       208.0   \n",
       "141313  2022  제주특별자치도   제주특별자치도 서귀포시 표선면 세화리 2451-3   토지    전      1257.0   \n",
       "141314  2022  제주특별자치도  제주특별자치도 서귀포시 표선면 세화리 2451-10   토지    전      2974.0   \n",
       "141315  2022  제주특별자치도     제주특별자치도 서귀포시 표선면 토산리 32-3   토지   유지        80.0   \n",
       "141316  2022  제주특별자치도     제주특별자치도 서귀포시 표선면 토산리 1033   토지   묘지       178.0   \n",
       "\n",
       "            대장금액(원)     처분구분명        계약일자       부점명        팀명  \n",
       "0         9968000.0  처분(매각수의)  2014-01-01    전북지역본부  국유재산관리1팀  \n",
       "1        13770000.0  처분(매각수의)  2014-01-01   국유재산관리부     국유울산팀  \n",
       "2         1075200.0  처분(매각수의)  2014-01-01    전북지역본부  국유재산관리1팀  \n",
       "3         1884160.0  처분(매각수의)  2014-01-01    전북지역본부  국유재산관리1팀  \n",
       "4        23797800.0  처분(매각수의)  2014-01-01    전북지역본부  국유재산관리2팀  \n",
       "...             ...       ...         ...       ...       ...  \n",
       "141312   29952000.0  처분(매각수의)  2022-11-09  광주전남지역본부    국유제주지사  \n",
       "141313   56062200.0  처분(매각수의)  2022-12-29  광주전남지역본부    국유제주지사  \n",
       "141314  132640400.0  처분(매각수의)  2022-12-29  광주전남지역본부    국유제주지사  \n",
       "141315   32160000.0  처분(매각수의)  2022-08-04  광주전남지역본부    국유제주지사  \n",
       "141316    2776800.0  처분(매각수의)  2022-11-22  광주전남지역본부    국유제주지사  \n",
       "\n",
       "[141317 rows x 11 columns]"
      ]
     },
     "execution_count": 171,
     "metadata": {},
     "output_type": "execute_result"
    }
   ],
   "source": [
    "df = pd.read_csv('C:/Users/pg627/Downloads/한국자산관리공사_국유부동산 매각현황_20221231.csv', encoding='utf-8')\n",
    "df"
   ]
  },
  {
   "cell_type": "code",
   "execution_count": 3,
   "id": "1314eb29",
   "metadata": {},
   "outputs": [],
   "source": [
    "chi = pd.DataFrame([[10,20],[20,5]], columns=['A', 'B'], index=['a','b'])"
   ]
  },
  {
   "cell_type": "code",
   "execution_count": 4,
   "id": "82e33fdb",
   "metadata": {},
   "outputs": [
    {
     "data": {
      "text/html": [
       "<div>\n",
       "<style scoped>\n",
       "    .dataframe tbody tr th:only-of-type {\n",
       "        vertical-align: middle;\n",
       "    }\n",
       "\n",
       "    .dataframe tbody tr th {\n",
       "        vertical-align: top;\n",
       "    }\n",
       "\n",
       "    .dataframe thead th {\n",
       "        text-align: right;\n",
       "    }\n",
       "</style>\n",
       "<table border=\"1\" class=\"dataframe\">\n",
       "  <thead>\n",
       "    <tr style=\"text-align: right;\">\n",
       "      <th></th>\n",
       "      <th>A</th>\n",
       "      <th>B</th>\n",
       "    </tr>\n",
       "  </thead>\n",
       "  <tbody>\n",
       "    <tr>\n",
       "      <th>a</th>\n",
       "      <td>10</td>\n",
       "      <td>20</td>\n",
       "    </tr>\n",
       "    <tr>\n",
       "      <th>b</th>\n",
       "      <td>20</td>\n",
       "      <td>5</td>\n",
       "    </tr>\n",
       "  </tbody>\n",
       "</table>\n",
       "</div>"
      ],
      "text/plain": [
       "    A   B\n",
       "a  10  20\n",
       "b  20   5"
      ]
     },
     "execution_count": 4,
     "metadata": {},
     "output_type": "execute_result"
    }
   ],
   "source": [
    "chi"
   ]
  },
  {
   "cell_type": "code",
   "execution_count": 13,
   "id": "bfef9651",
   "metadata": {},
   "outputs": [
    {
     "data": {
      "text/plain": [
       "0.00142782991476716"
      ]
     },
     "execution_count": 13,
     "metadata": {},
     "output_type": "execute_result"
    }
   ],
   "source": [
    "stats.chi2_contingency(chi)[1]"
   ]
  },
  {
   "cell_type": "code",
   "execution_count": 17,
   "id": "3c5e6188",
   "metadata": {},
   "outputs": [],
   "source": [
    "chi2 = pd.DataFrame([[10,5,8,3,6],[8,3,7,4,10]], # 합 동일\n",
    "                    columns=['a','b','c','d','e'],\n",
    "                    index=['1회차', '2회차'])"
   ]
  },
  {
   "cell_type": "markdown",
   "id": "298dc370",
   "metadata": {},
   "source": [
    "고정된 숫자에서 두 그룹간의 빈도 차이가 나는지 안나는지 확인"
   ]
  },
  {
   "cell_type": "code",
   "execution_count": null,
   "id": "f7e74576",
   "metadata": {},
   "outputs": [],
   "source": []
  },
  {
   "cell_type": "code",
   "execution_count": 18,
   "id": "c1179a7e",
   "metadata": {},
   "outputs": [
    {
     "data": {
      "text/html": [
       "<div>\n",
       "<style scoped>\n",
       "    .dataframe tbody tr th:only-of-type {\n",
       "        vertical-align: middle;\n",
       "    }\n",
       "\n",
       "    .dataframe tbody tr th {\n",
       "        vertical-align: top;\n",
       "    }\n",
       "\n",
       "    .dataframe thead th {\n",
       "        text-align: right;\n",
       "    }\n",
       "</style>\n",
       "<table border=\"1\" class=\"dataframe\">\n",
       "  <thead>\n",
       "    <tr style=\"text-align: right;\">\n",
       "      <th></th>\n",
       "      <th>a</th>\n",
       "      <th>b</th>\n",
       "      <th>c</th>\n",
       "      <th>d</th>\n",
       "      <th>e</th>\n",
       "    </tr>\n",
       "  </thead>\n",
       "  <tbody>\n",
       "    <tr>\n",
       "      <th>1회차</th>\n",
       "      <td>10</td>\n",
       "      <td>5</td>\n",
       "      <td>8</td>\n",
       "      <td>3</td>\n",
       "      <td>6</td>\n",
       "    </tr>\n",
       "    <tr>\n",
       "      <th>2회차</th>\n",
       "      <td>8</td>\n",
       "      <td>3</td>\n",
       "      <td>7</td>\n",
       "      <td>4</td>\n",
       "      <td>10</td>\n",
       "    </tr>\n",
       "  </tbody>\n",
       "</table>\n",
       "</div>"
      ],
      "text/plain": [
       "      a  b  c  d   e\n",
       "1회차  10  5  8  3   6\n",
       "2회차   8  3  7  4  10"
      ]
     },
     "execution_count": 18,
     "metadata": {},
     "output_type": "execute_result"
    }
   ],
   "source": [
    "chi2"
   ]
  },
  {
   "cell_type": "code",
   "execution_count": 19,
   "id": "c48d81b0",
   "metadata": {},
   "outputs": [
    {
     "data": {
      "text/plain": [
       "Power_divergenceResult(statistic=3.8261904761904764, pvalue=0.4300391334165975)"
      ]
     },
     "execution_count": 19,
     "metadata": {},
     "output_type": "execute_result"
    }
   ],
   "source": [
    "stats.chisquare(chi2.loc['1회차'], chi2.loc['2회차'])"
   ]
  },
  {
   "cell_type": "markdown",
   "id": "e3a57077",
   "metadata": {},
   "source": [
    "pvalue가 0.05이하\n",
    "두 그룹간의 빈도 차이가 없다."
   ]
  },
  {
   "cell_type": "code",
   "execution_count": 23,
   "id": "bcc1cb95",
   "metadata": {},
   "outputs": [
    {
     "data": {
      "text/html": [
       "<div>\n",
       "<style scoped>\n",
       "    .dataframe tbody tr th:only-of-type {\n",
       "        vertical-align: middle;\n",
       "    }\n",
       "\n",
       "    .dataframe tbody tr th {\n",
       "        vertical-align: top;\n",
       "    }\n",
       "\n",
       "    .dataframe thead th {\n",
       "        text-align: right;\n",
       "    }\n",
       "</style>\n",
       "<table border=\"1\" class=\"dataframe\">\n",
       "  <thead>\n",
       "    <tr style=\"text-align: right;\">\n",
       "      <th></th>\n",
       "      <th>연도구분</th>\n",
       "      <th>지역구분</th>\n",
       "      <th>소재지명</th>\n",
       "      <th>재산구분</th>\n",
       "      <th>공부지목</th>\n",
       "      <th>대장면적(제곱미터)</th>\n",
       "      <th>대장금액(원)</th>\n",
       "      <th>처분구분명</th>\n",
       "      <th>계약일자</th>\n",
       "      <th>부점명</th>\n",
       "      <th>팀명</th>\n",
       "      <th>팀명2</th>\n",
       "    </tr>\n",
       "  </thead>\n",
       "  <tbody>\n",
       "    <tr>\n",
       "      <th>0</th>\n",
       "      <td>2014</td>\n",
       "      <td>전라북도</td>\n",
       "      <td>전라북도 정읍시 상동  725</td>\n",
       "      <td>토지</td>\n",
       "      <td>전</td>\n",
       "      <td>56.0</td>\n",
       "      <td>9968000.0</td>\n",
       "      <td>처분(매각수의)</td>\n",
       "      <td>2014-01-01</td>\n",
       "      <td>전북지역본부</td>\n",
       "      <td>국유재산관리1팀</td>\n",
       "      <td>전북지역본부국유재산관리1팀</td>\n",
       "    </tr>\n",
       "    <tr>\n",
       "      <th>1</th>\n",
       "      <td>2014</td>\n",
       "      <td>울산광역시</td>\n",
       "      <td>울산광역시 북구 천곡동  709-1</td>\n",
       "      <td>토지</td>\n",
       "      <td>임야</td>\n",
       "      <td>225.0</td>\n",
       "      <td>13770000.0</td>\n",
       "      <td>처분(매각수의)</td>\n",
       "      <td>2014-01-01</td>\n",
       "      <td>국유재산관리부</td>\n",
       "      <td>국유울산팀</td>\n",
       "      <td>국유재산관리부국유울산팀</td>\n",
       "    </tr>\n",
       "    <tr>\n",
       "      <th>2</th>\n",
       "      <td>2014</td>\n",
       "      <td>전라북도</td>\n",
       "      <td>전라북도 정읍시 산내면 종성리 727-21</td>\n",
       "      <td>토지</td>\n",
       "      <td>답</td>\n",
       "      <td>105.0</td>\n",
       "      <td>1075200.0</td>\n",
       "      <td>처분(매각수의)</td>\n",
       "      <td>2014-01-01</td>\n",
       "      <td>전북지역본부</td>\n",
       "      <td>국유재산관리1팀</td>\n",
       "      <td>전북지역본부국유재산관리1팀</td>\n",
       "    </tr>\n",
       "    <tr>\n",
       "      <th>3</th>\n",
       "      <td>2014</td>\n",
       "      <td>전라북도</td>\n",
       "      <td>전라북도 정읍시 산내면 종성리 727-16</td>\n",
       "      <td>토지</td>\n",
       "      <td>답</td>\n",
       "      <td>184.0</td>\n",
       "      <td>1884160.0</td>\n",
       "      <td>처분(매각수의)</td>\n",
       "      <td>2014-01-01</td>\n",
       "      <td>전북지역본부</td>\n",
       "      <td>국유재산관리1팀</td>\n",
       "      <td>전북지역본부국유재산관리1팀</td>\n",
       "    </tr>\n",
       "    <tr>\n",
       "      <th>4</th>\n",
       "      <td>2014</td>\n",
       "      <td>전라북도</td>\n",
       "      <td>전라북도 김제시 검산동  424-3</td>\n",
       "      <td>토지</td>\n",
       "      <td>전</td>\n",
       "      <td>2106.0</td>\n",
       "      <td>23797800.0</td>\n",
       "      <td>처분(매각수의)</td>\n",
       "      <td>2014-01-01</td>\n",
       "      <td>전북지역본부</td>\n",
       "      <td>국유재산관리2팀</td>\n",
       "      <td>전북지역본부국유재산관리2팀</td>\n",
       "    </tr>\n",
       "    <tr>\n",
       "      <th>...</th>\n",
       "      <td>...</td>\n",
       "      <td>...</td>\n",
       "      <td>...</td>\n",
       "      <td>...</td>\n",
       "      <td>...</td>\n",
       "      <td>...</td>\n",
       "      <td>...</td>\n",
       "      <td>...</td>\n",
       "      <td>...</td>\n",
       "      <td>...</td>\n",
       "      <td>...</td>\n",
       "      <td>...</td>\n",
       "    </tr>\n",
       "    <tr>\n",
       "      <th>141312</th>\n",
       "      <td>2022</td>\n",
       "      <td>제주특별자치도</td>\n",
       "      <td>제주특별자치도 서귀포시 표선면 하천리 1500-4</td>\n",
       "      <td>토지</td>\n",
       "      <td>임야</td>\n",
       "      <td>208.0</td>\n",
       "      <td>29952000.0</td>\n",
       "      <td>처분(매각수의)</td>\n",
       "      <td>2022-11-09</td>\n",
       "      <td>광주전남지역본부</td>\n",
       "      <td>국유제주지사</td>\n",
       "      <td>광주전남지역본부국유제주지사</td>\n",
       "    </tr>\n",
       "    <tr>\n",
       "      <th>141313</th>\n",
       "      <td>2022</td>\n",
       "      <td>제주특별자치도</td>\n",
       "      <td>제주특별자치도 서귀포시 표선면 세화리 2451-3</td>\n",
       "      <td>토지</td>\n",
       "      <td>전</td>\n",
       "      <td>1257.0</td>\n",
       "      <td>56062200.0</td>\n",
       "      <td>처분(매각수의)</td>\n",
       "      <td>2022-12-29</td>\n",
       "      <td>광주전남지역본부</td>\n",
       "      <td>국유제주지사</td>\n",
       "      <td>광주전남지역본부국유제주지사</td>\n",
       "    </tr>\n",
       "    <tr>\n",
       "      <th>141314</th>\n",
       "      <td>2022</td>\n",
       "      <td>제주특별자치도</td>\n",
       "      <td>제주특별자치도 서귀포시 표선면 세화리 2451-10</td>\n",
       "      <td>토지</td>\n",
       "      <td>전</td>\n",
       "      <td>2974.0</td>\n",
       "      <td>132640400.0</td>\n",
       "      <td>처분(매각수의)</td>\n",
       "      <td>2022-12-29</td>\n",
       "      <td>광주전남지역본부</td>\n",
       "      <td>국유제주지사</td>\n",
       "      <td>광주전남지역본부국유제주지사</td>\n",
       "    </tr>\n",
       "    <tr>\n",
       "      <th>141315</th>\n",
       "      <td>2022</td>\n",
       "      <td>제주특별자치도</td>\n",
       "      <td>제주특별자치도 서귀포시 표선면 토산리 32-3</td>\n",
       "      <td>토지</td>\n",
       "      <td>유지</td>\n",
       "      <td>80.0</td>\n",
       "      <td>32160000.0</td>\n",
       "      <td>처분(매각수의)</td>\n",
       "      <td>2022-08-04</td>\n",
       "      <td>광주전남지역본부</td>\n",
       "      <td>국유제주지사</td>\n",
       "      <td>광주전남지역본부국유제주지사</td>\n",
       "    </tr>\n",
       "    <tr>\n",
       "      <th>141316</th>\n",
       "      <td>2022</td>\n",
       "      <td>제주특별자치도</td>\n",
       "      <td>제주특별자치도 서귀포시 표선면 토산리 1033</td>\n",
       "      <td>토지</td>\n",
       "      <td>묘지</td>\n",
       "      <td>178.0</td>\n",
       "      <td>2776800.0</td>\n",
       "      <td>처분(매각수의)</td>\n",
       "      <td>2022-11-22</td>\n",
       "      <td>광주전남지역본부</td>\n",
       "      <td>국유제주지사</td>\n",
       "      <td>광주전남지역본부국유제주지사</td>\n",
       "    </tr>\n",
       "  </tbody>\n",
       "</table>\n",
       "<p>141317 rows × 12 columns</p>\n",
       "</div>"
      ],
      "text/plain": [
       "        연도구분     지역구분                          소재지명 재산구분 공부지목  대장면적(제곱미터)  \\\n",
       "0       2014     전라북도              전라북도 정읍시 상동  725   토지    전        56.0   \n",
       "1       2014    울산광역시           울산광역시 북구 천곡동  709-1   토지   임야       225.0   \n",
       "2       2014     전라북도       전라북도 정읍시 산내면 종성리 727-21   토지    답       105.0   \n",
       "3       2014     전라북도       전라북도 정읍시 산내면 종성리 727-16   토지    답       184.0   \n",
       "4       2014     전라북도           전라북도 김제시 검산동  424-3   토지    전      2106.0   \n",
       "...      ...      ...                           ...  ...  ...         ...   \n",
       "141312  2022  제주특별자치도   제주특별자치도 서귀포시 표선면 하천리 1500-4   토지   임야       208.0   \n",
       "141313  2022  제주특별자치도   제주특별자치도 서귀포시 표선면 세화리 2451-3   토지    전      1257.0   \n",
       "141314  2022  제주특별자치도  제주특별자치도 서귀포시 표선면 세화리 2451-10   토지    전      2974.0   \n",
       "141315  2022  제주특별자치도     제주특별자치도 서귀포시 표선면 토산리 32-3   토지   유지        80.0   \n",
       "141316  2022  제주특별자치도     제주특별자치도 서귀포시 표선면 토산리 1033   토지   묘지       178.0   \n",
       "\n",
       "            대장금액(원)     처분구분명        계약일자       부점명        팀명             팀명2  \n",
       "0         9968000.0  처분(매각수의)  2014-01-01    전북지역본부  국유재산관리1팀  전북지역본부국유재산관리1팀  \n",
       "1        13770000.0  처분(매각수의)  2014-01-01   국유재산관리부     국유울산팀    국유재산관리부국유울산팀  \n",
       "2         1075200.0  처분(매각수의)  2014-01-01    전북지역본부  국유재산관리1팀  전북지역본부국유재산관리1팀  \n",
       "3         1884160.0  처분(매각수의)  2014-01-01    전북지역본부  국유재산관리1팀  전북지역본부국유재산관리1팀  \n",
       "4        23797800.0  처분(매각수의)  2014-01-01    전북지역본부  국유재산관리2팀  전북지역본부국유재산관리2팀  \n",
       "...             ...       ...         ...       ...       ...             ...  \n",
       "141312   29952000.0  처분(매각수의)  2022-11-09  광주전남지역본부    국유제주지사  광주전남지역본부국유제주지사  \n",
       "141313   56062200.0  처분(매각수의)  2022-12-29  광주전남지역본부    국유제주지사  광주전남지역본부국유제주지사  \n",
       "141314  132640400.0  처분(매각수의)  2022-12-29  광주전남지역본부    국유제주지사  광주전남지역본부국유제주지사  \n",
       "141315   32160000.0  처분(매각수의)  2022-08-04  광주전남지역본부    국유제주지사  광주전남지역본부국유제주지사  \n",
       "141316    2776800.0  처분(매각수의)  2022-11-22  광주전남지역본부    국유제주지사  광주전남지역본부국유제주지사  \n",
       "\n",
       "[141317 rows x 12 columns]"
      ]
     },
     "execution_count": 23,
     "metadata": {},
     "output_type": "execute_result"
    }
   ],
   "source": [
    "df['팀명2'] = df['부점명']+df['팀명']\n",
    "df"
   ]
  },
  {
   "cell_type": "code",
   "execution_count": 24,
   "id": "3ca2f823",
   "metadata": {},
   "outputs": [
    {
     "data": {
      "text/html": [
       "<div>\n",
       "<style scoped>\n",
       "    .dataframe tbody tr th:only-of-type {\n",
       "        vertical-align: middle;\n",
       "    }\n",
       "\n",
       "    .dataframe tbody tr th {\n",
       "        vertical-align: top;\n",
       "    }\n",
       "\n",
       "    .dataframe thead th {\n",
       "        text-align: right;\n",
       "    }\n",
       "</style>\n",
       "<table border=\"1\" class=\"dataframe\">\n",
       "  <thead>\n",
       "    <tr style=\"text-align: right;\">\n",
       "      <th></th>\n",
       "      <th>연도구분</th>\n",
       "      <th>지역구분</th>\n",
       "      <th>소재지명</th>\n",
       "      <th>재산구분</th>\n",
       "      <th>공부지목</th>\n",
       "      <th>대장면적(제곱미터)</th>\n",
       "      <th>대장금액(원)</th>\n",
       "      <th>처분구분명</th>\n",
       "      <th>계약일자</th>\n",
       "      <th>부점명</th>\n",
       "      <th>팀명</th>\n",
       "      <th>팀명2</th>\n",
       "    </tr>\n",
       "  </thead>\n",
       "  <tbody>\n",
       "    <tr>\n",
       "      <th>0</th>\n",
       "      <td>2014</td>\n",
       "      <td>전라북도</td>\n",
       "      <td>전라북도 정읍시 상동  725</td>\n",
       "      <td>토지</td>\n",
       "      <td>전</td>\n",
       "      <td>56.0</td>\n",
       "      <td>9968000.0</td>\n",
       "      <td>처분(매각수의)</td>\n",
       "      <td>2014-01-01</td>\n",
       "      <td>전북지역본부</td>\n",
       "      <td>국유재산관리1팀</td>\n",
       "      <td>전북지역본부국유재산관리1팀</td>\n",
       "    </tr>\n",
       "    <tr>\n",
       "      <th>1</th>\n",
       "      <td>2014</td>\n",
       "      <td>울산광역시</td>\n",
       "      <td>울산광역시 북구 천곡동  709-1</td>\n",
       "      <td>토지</td>\n",
       "      <td>임야</td>\n",
       "      <td>225.0</td>\n",
       "      <td>13770000.0</td>\n",
       "      <td>처분(매각수의)</td>\n",
       "      <td>2014-01-01</td>\n",
       "      <td>국유재산관리부</td>\n",
       "      <td>국유울산팀</td>\n",
       "      <td>국유재산관리부국유울산팀</td>\n",
       "    </tr>\n",
       "    <tr>\n",
       "      <th>2</th>\n",
       "      <td>2014</td>\n",
       "      <td>전라북도</td>\n",
       "      <td>전라북도 정읍시 산내면 종성리 727-21</td>\n",
       "      <td>토지</td>\n",
       "      <td>답</td>\n",
       "      <td>105.0</td>\n",
       "      <td>1075200.0</td>\n",
       "      <td>처분(매각수의)</td>\n",
       "      <td>2014-01-01</td>\n",
       "      <td>전북지역본부</td>\n",
       "      <td>국유재산관리1팀</td>\n",
       "      <td>전북지역본부국유재산관리1팀</td>\n",
       "    </tr>\n",
       "    <tr>\n",
       "      <th>3</th>\n",
       "      <td>2014</td>\n",
       "      <td>전라북도</td>\n",
       "      <td>전라북도 정읍시 산내면 종성리 727-16</td>\n",
       "      <td>토지</td>\n",
       "      <td>답</td>\n",
       "      <td>184.0</td>\n",
       "      <td>1884160.0</td>\n",
       "      <td>처분(매각수의)</td>\n",
       "      <td>2014-01-01</td>\n",
       "      <td>전북지역본부</td>\n",
       "      <td>국유재산관리1팀</td>\n",
       "      <td>전북지역본부국유재산관리1팀</td>\n",
       "    </tr>\n",
       "    <tr>\n",
       "      <th>4</th>\n",
       "      <td>2014</td>\n",
       "      <td>전라북도</td>\n",
       "      <td>전라북도 김제시 검산동  424-3</td>\n",
       "      <td>토지</td>\n",
       "      <td>전</td>\n",
       "      <td>2106.0</td>\n",
       "      <td>23797800.0</td>\n",
       "      <td>처분(매각수의)</td>\n",
       "      <td>2014-01-01</td>\n",
       "      <td>전북지역본부</td>\n",
       "      <td>국유재산관리2팀</td>\n",
       "      <td>전북지역본부국유재산관리2팀</td>\n",
       "    </tr>\n",
       "    <tr>\n",
       "      <th>...</th>\n",
       "      <td>...</td>\n",
       "      <td>...</td>\n",
       "      <td>...</td>\n",
       "      <td>...</td>\n",
       "      <td>...</td>\n",
       "      <td>...</td>\n",
       "      <td>...</td>\n",
       "      <td>...</td>\n",
       "      <td>...</td>\n",
       "      <td>...</td>\n",
       "      <td>...</td>\n",
       "      <td>...</td>\n",
       "    </tr>\n",
       "    <tr>\n",
       "      <th>495</th>\n",
       "      <td>2014</td>\n",
       "      <td>경기도</td>\n",
       "      <td>경기도 여주시 가남읍 신해리 605-1</td>\n",
       "      <td>토지</td>\n",
       "      <td>답</td>\n",
       "      <td>20.0</td>\n",
       "      <td>576000.0</td>\n",
       "      <td>처분(매각수의)</td>\n",
       "      <td>2014-01-09</td>\n",
       "      <td>경기지역본부</td>\n",
       "      <td>국유재산관리2팀</td>\n",
       "      <td>경기지역본부국유재산관리2팀</td>\n",
       "    </tr>\n",
       "    <tr>\n",
       "      <th>496</th>\n",
       "      <td>2014</td>\n",
       "      <td>경기도</td>\n",
       "      <td>경기도 여주시 가남읍 신해리 606-2</td>\n",
       "      <td>토지</td>\n",
       "      <td>답</td>\n",
       "      <td>13.0</td>\n",
       "      <td>354120.0</td>\n",
       "      <td>처분(매각수의)</td>\n",
       "      <td>2014-01-09</td>\n",
       "      <td>경기지역본부</td>\n",
       "      <td>국유재산관리2팀</td>\n",
       "      <td>경기지역본부국유재산관리2팀</td>\n",
       "    </tr>\n",
       "    <tr>\n",
       "      <th>497</th>\n",
       "      <td>2014</td>\n",
       "      <td>경기도</td>\n",
       "      <td>경기도 여주시 가남읍 신해리 606-5</td>\n",
       "      <td>토지</td>\n",
       "      <td>답</td>\n",
       "      <td>267.0</td>\n",
       "      <td>8490600.0</td>\n",
       "      <td>처분(매각수의)</td>\n",
       "      <td>2014-01-09</td>\n",
       "      <td>경기지역본부</td>\n",
       "      <td>국유재산관리2팀</td>\n",
       "      <td>경기지역본부국유재산관리2팀</td>\n",
       "    </tr>\n",
       "    <tr>\n",
       "      <th>498</th>\n",
       "      <td>2014</td>\n",
       "      <td>경기도</td>\n",
       "      <td>경기도 여주시 가남읍 신해리 603-8</td>\n",
       "      <td>토지</td>\n",
       "      <td>답</td>\n",
       "      <td>13.0</td>\n",
       "      <td>374400.0</td>\n",
       "      <td>처분(매각수의)</td>\n",
       "      <td>2014-01-09</td>\n",
       "      <td>경기지역본부</td>\n",
       "      <td>국유재산관리2팀</td>\n",
       "      <td>경기지역본부국유재산관리2팀</td>\n",
       "    </tr>\n",
       "    <tr>\n",
       "      <th>499</th>\n",
       "      <td>2014</td>\n",
       "      <td>경기도</td>\n",
       "      <td>경기도 여주시 가남읍 신해리 606-4</td>\n",
       "      <td>토지</td>\n",
       "      <td>답</td>\n",
       "      <td>89.0</td>\n",
       "      <td>2424360.0</td>\n",
       "      <td>처분(매각수의)</td>\n",
       "      <td>2014-01-09</td>\n",
       "      <td>경기지역본부</td>\n",
       "      <td>국유재산관리2팀</td>\n",
       "      <td>경기지역본부국유재산관리2팀</td>\n",
       "    </tr>\n",
       "  </tbody>\n",
       "</table>\n",
       "<p>500 rows × 12 columns</p>\n",
       "</div>"
      ],
      "text/plain": [
       "     연도구분   지역구분                     소재지명 재산구분 공부지목  대장면적(제곱미터)     대장금액(원)  \\\n",
       "0    2014   전라북도         전라북도 정읍시 상동  725   토지    전        56.0   9968000.0   \n",
       "1    2014  울산광역시      울산광역시 북구 천곡동  709-1   토지   임야       225.0  13770000.0   \n",
       "2    2014   전라북도  전라북도 정읍시 산내면 종성리 727-21   토지    답       105.0   1075200.0   \n",
       "3    2014   전라북도  전라북도 정읍시 산내면 종성리 727-16   토지    답       184.0   1884160.0   \n",
       "4    2014   전라북도      전라북도 김제시 검산동  424-3   토지    전      2106.0  23797800.0   \n",
       "..    ...    ...                      ...  ...  ...         ...         ...   \n",
       "495  2014    경기도    경기도 여주시 가남읍 신해리 605-1   토지    답        20.0    576000.0   \n",
       "496  2014    경기도    경기도 여주시 가남읍 신해리 606-2   토지    답        13.0    354120.0   \n",
       "497  2014    경기도    경기도 여주시 가남읍 신해리 606-5   토지    답       267.0   8490600.0   \n",
       "498  2014    경기도    경기도 여주시 가남읍 신해리 603-8   토지    답        13.0    374400.0   \n",
       "499  2014    경기도    경기도 여주시 가남읍 신해리 606-4   토지    답        89.0   2424360.0   \n",
       "\n",
       "        처분구분명        계약일자      부점명        팀명             팀명2  \n",
       "0    처분(매각수의)  2014-01-01   전북지역본부  국유재산관리1팀  전북지역본부국유재산관리1팀  \n",
       "1    처분(매각수의)  2014-01-01  국유재산관리부     국유울산팀    국유재산관리부국유울산팀  \n",
       "2    처분(매각수의)  2014-01-01   전북지역본부  국유재산관리1팀  전북지역본부국유재산관리1팀  \n",
       "3    처분(매각수의)  2014-01-01   전북지역본부  국유재산관리1팀  전북지역본부국유재산관리1팀  \n",
       "4    처분(매각수의)  2014-01-01   전북지역본부  국유재산관리2팀  전북지역본부국유재산관리2팀  \n",
       "..        ...         ...      ...       ...             ...  \n",
       "495  처분(매각수의)  2014-01-09   경기지역본부  국유재산관리2팀  경기지역본부국유재산관리2팀  \n",
       "496  처분(매각수의)  2014-01-09   경기지역본부  국유재산관리2팀  경기지역본부국유재산관리2팀  \n",
       "497  처분(매각수의)  2014-01-09   경기지역본부  국유재산관리2팀  경기지역본부국유재산관리2팀  \n",
       "498  처분(매각수의)  2014-01-09   경기지역본부  국유재산관리2팀  경기지역본부국유재산관리2팀  \n",
       "499  처분(매각수의)  2014-01-09   경기지역본부  국유재산관리2팀  경기지역본부국유재산관리2팀  \n",
       "\n",
       "[500 rows x 12 columns]"
      ]
     },
     "execution_count": 24,
     "metadata": {},
     "output_type": "execute_result"
    }
   ],
   "source": [
    "df_x = df.head(500)\n",
    "df_x"
   ]
  },
  {
   "cell_type": "code",
   "execution_count": 27,
   "id": "26d96271",
   "metadata": {},
   "outputs": [],
   "source": [
    "df_y = df_x[['대장금액(원)', '대장면적(제곱미터)']]"
   ]
  },
  {
   "cell_type": "code",
   "execution_count": 29,
   "id": "71397f97",
   "metadata": {},
   "outputs": [
    {
     "data": {
      "text/html": [
       "<div>\n",
       "<style scoped>\n",
       "    .dataframe tbody tr th:only-of-type {\n",
       "        vertical-align: middle;\n",
       "    }\n",
       "\n",
       "    .dataframe tbody tr th {\n",
       "        vertical-align: top;\n",
       "    }\n",
       "\n",
       "    .dataframe thead th {\n",
       "        text-align: right;\n",
       "    }\n",
       "</style>\n",
       "<table border=\"1\" class=\"dataframe\">\n",
       "  <thead>\n",
       "    <tr style=\"text-align: right;\">\n",
       "      <th></th>\n",
       "      <th>대장금액(원)</th>\n",
       "      <th>대장면적(제곱미터)</th>\n",
       "    </tr>\n",
       "  </thead>\n",
       "  <tbody>\n",
       "    <tr>\n",
       "      <th>0</th>\n",
       "      <td>9968000.0</td>\n",
       "      <td>56.0</td>\n",
       "    </tr>\n",
       "    <tr>\n",
       "      <th>1</th>\n",
       "      <td>13770000.0</td>\n",
       "      <td>225.0</td>\n",
       "    </tr>\n",
       "    <tr>\n",
       "      <th>2</th>\n",
       "      <td>1075200.0</td>\n",
       "      <td>105.0</td>\n",
       "    </tr>\n",
       "    <tr>\n",
       "      <th>3</th>\n",
       "      <td>1884160.0</td>\n",
       "      <td>184.0</td>\n",
       "    </tr>\n",
       "    <tr>\n",
       "      <th>4</th>\n",
       "      <td>23797800.0</td>\n",
       "      <td>2106.0</td>\n",
       "    </tr>\n",
       "    <tr>\n",
       "      <th>...</th>\n",
       "      <td>...</td>\n",
       "      <td>...</td>\n",
       "    </tr>\n",
       "    <tr>\n",
       "      <th>495</th>\n",
       "      <td>576000.0</td>\n",
       "      <td>20.0</td>\n",
       "    </tr>\n",
       "    <tr>\n",
       "      <th>496</th>\n",
       "      <td>354120.0</td>\n",
       "      <td>13.0</td>\n",
       "    </tr>\n",
       "    <tr>\n",
       "      <th>497</th>\n",
       "      <td>8490600.0</td>\n",
       "      <td>267.0</td>\n",
       "    </tr>\n",
       "    <tr>\n",
       "      <th>498</th>\n",
       "      <td>374400.0</td>\n",
       "      <td>13.0</td>\n",
       "    </tr>\n",
       "    <tr>\n",
       "      <th>499</th>\n",
       "      <td>2424360.0</td>\n",
       "      <td>89.0</td>\n",
       "    </tr>\n",
       "  </tbody>\n",
       "</table>\n",
       "<p>500 rows × 2 columns</p>\n",
       "</div>"
      ],
      "text/plain": [
       "        대장금액(원)  대장면적(제곱미터)\n",
       "0     9968000.0        56.0\n",
       "1    13770000.0       225.0\n",
       "2     1075200.0       105.0\n",
       "3     1884160.0       184.0\n",
       "4    23797800.0      2106.0\n",
       "..          ...         ...\n",
       "495    576000.0        20.0\n",
       "496    354120.0        13.0\n",
       "497   8490600.0       267.0\n",
       "498    374400.0        13.0\n",
       "499   2424360.0        89.0\n",
       "\n",
       "[500 rows x 2 columns]"
      ]
     },
     "execution_count": 29,
     "metadata": {},
     "output_type": "execute_result"
    }
   ],
   "source": [
    "df_y"
   ]
  },
  {
   "cell_type": "code",
   "execution_count": 30,
   "id": "37868a3d",
   "metadata": {},
   "outputs": [
    {
     "data": {
      "text/plain": [
       "SignificanceResult(statistic=0.5209301903931852, pvalue=3.9677004248376504e-36)"
      ]
     },
     "execution_count": 30,
     "metadata": {},
     "output_type": "execute_result"
    }
   ],
   "source": [
    "# stats.pearsonr 선형\n",
    "stats.spearmanr(df_y['대장금액(원)'], df_y['대장면적(제곱미터)'])"
   ]
  },
  {
   "cell_type": "code",
   "execution_count": 31,
   "id": "a1940c13",
   "metadata": {},
   "outputs": [],
   "source": [
    "import seaborn as sns"
   ]
  },
  {
   "cell_type": "code",
   "execution_count": 33,
   "id": "3fa23cd6",
   "metadata": {},
   "outputs": [
    {
     "data": {
      "text/plain": [
       "<Axes: xlabel='대장금액(원)', ylabel='대장면적(제곱미터)'>"
      ]
     },
     "execution_count": 33,
     "metadata": {},
     "output_type": "execute_result"
    },
    {
     "name": "stderr",
     "output_type": "stream",
     "text": [
      "C:\\ProgramData\\anaconda3\\lib\\site-packages\\IPython\\core\\events.py:89: UserWarning: Glyph 45824 (\\N{HANGUL SYLLABLE DAE}) missing from current font.\n",
      "  func(*args, **kwargs)\n",
      "C:\\ProgramData\\anaconda3\\lib\\site-packages\\IPython\\core\\events.py:89: UserWarning: Glyph 51109 (\\N{HANGUL SYLLABLE JANG}) missing from current font.\n",
      "  func(*args, **kwargs)\n",
      "C:\\ProgramData\\anaconda3\\lib\\site-packages\\IPython\\core\\events.py:89: UserWarning: Glyph 44552 (\\N{HANGUL SYLLABLE GEUM}) missing from current font.\n",
      "  func(*args, **kwargs)\n",
      "C:\\ProgramData\\anaconda3\\lib\\site-packages\\IPython\\core\\events.py:89: UserWarning: Glyph 50529 (\\N{HANGUL SYLLABLE AEG}) missing from current font.\n",
      "  func(*args, **kwargs)\n",
      "C:\\ProgramData\\anaconda3\\lib\\site-packages\\IPython\\core\\events.py:89: UserWarning: Glyph 50896 (\\N{HANGUL SYLLABLE WEON}) missing from current font.\n",
      "  func(*args, **kwargs)\n",
      "C:\\ProgramData\\anaconda3\\lib\\site-packages\\IPython\\core\\events.py:89: UserWarning: Glyph 47732 (\\N{HANGUL SYLLABLE MYEON}) missing from current font.\n",
      "  func(*args, **kwargs)\n",
      "C:\\ProgramData\\anaconda3\\lib\\site-packages\\IPython\\core\\events.py:89: UserWarning: Glyph 51201 (\\N{HANGUL SYLLABLE JEOG}) missing from current font.\n",
      "  func(*args, **kwargs)\n",
      "C:\\ProgramData\\anaconda3\\lib\\site-packages\\IPython\\core\\events.py:89: UserWarning: Glyph 51228 (\\N{HANGUL SYLLABLE JE}) missing from current font.\n",
      "  func(*args, **kwargs)\n",
      "C:\\ProgramData\\anaconda3\\lib\\site-packages\\IPython\\core\\events.py:89: UserWarning: Glyph 44273 (\\N{HANGUL SYLLABLE GOB}) missing from current font.\n",
      "  func(*args, **kwargs)\n",
      "C:\\ProgramData\\anaconda3\\lib\\site-packages\\IPython\\core\\events.py:89: UserWarning: Glyph 48120 (\\N{HANGUL SYLLABLE MI}) missing from current font.\n",
      "  func(*args, **kwargs)\n",
      "C:\\ProgramData\\anaconda3\\lib\\site-packages\\IPython\\core\\events.py:89: UserWarning: Glyph 53552 (\\N{HANGUL SYLLABLE TEO}) missing from current font.\n",
      "  func(*args, **kwargs)\n",
      "C:\\ProgramData\\anaconda3\\lib\\site-packages\\IPython\\core\\pylabtools.py:152: UserWarning: Glyph 45824 (\\N{HANGUL SYLLABLE DAE}) missing from current font.\n",
      "  fig.canvas.print_figure(bytes_io, **kw)\n",
      "C:\\ProgramData\\anaconda3\\lib\\site-packages\\IPython\\core\\pylabtools.py:152: UserWarning: Glyph 51109 (\\N{HANGUL SYLLABLE JANG}) missing from current font.\n",
      "  fig.canvas.print_figure(bytes_io, **kw)\n",
      "C:\\ProgramData\\anaconda3\\lib\\site-packages\\IPython\\core\\pylabtools.py:152: UserWarning: Glyph 44552 (\\N{HANGUL SYLLABLE GEUM}) missing from current font.\n",
      "  fig.canvas.print_figure(bytes_io, **kw)\n",
      "C:\\ProgramData\\anaconda3\\lib\\site-packages\\IPython\\core\\pylabtools.py:152: UserWarning: Glyph 50529 (\\N{HANGUL SYLLABLE AEG}) missing from current font.\n",
      "  fig.canvas.print_figure(bytes_io, **kw)\n",
      "C:\\ProgramData\\anaconda3\\lib\\site-packages\\IPython\\core\\pylabtools.py:152: UserWarning: Glyph 50896 (\\N{HANGUL SYLLABLE WEON}) missing from current font.\n",
      "  fig.canvas.print_figure(bytes_io, **kw)\n",
      "C:\\ProgramData\\anaconda3\\lib\\site-packages\\IPython\\core\\pylabtools.py:152: UserWarning: Glyph 47732 (\\N{HANGUL SYLLABLE MYEON}) missing from current font.\n",
      "  fig.canvas.print_figure(bytes_io, **kw)\n",
      "C:\\ProgramData\\anaconda3\\lib\\site-packages\\IPython\\core\\pylabtools.py:152: UserWarning: Glyph 51201 (\\N{HANGUL SYLLABLE JEOG}) missing from current font.\n",
      "  fig.canvas.print_figure(bytes_io, **kw)\n",
      "C:\\ProgramData\\anaconda3\\lib\\site-packages\\IPython\\core\\pylabtools.py:152: UserWarning: Glyph 51228 (\\N{HANGUL SYLLABLE JE}) missing from current font.\n",
      "  fig.canvas.print_figure(bytes_io, **kw)\n",
      "C:\\ProgramData\\anaconda3\\lib\\site-packages\\IPython\\core\\pylabtools.py:152: UserWarning: Glyph 44273 (\\N{HANGUL SYLLABLE GOB}) missing from current font.\n",
      "  fig.canvas.print_figure(bytes_io, **kw)\n",
      "C:\\ProgramData\\anaconda3\\lib\\site-packages\\IPython\\core\\pylabtools.py:152: UserWarning: Glyph 48120 (\\N{HANGUL SYLLABLE MI}) missing from current font.\n",
      "  fig.canvas.print_figure(bytes_io, **kw)\n",
      "C:\\ProgramData\\anaconda3\\lib\\site-packages\\IPython\\core\\pylabtools.py:152: UserWarning: Glyph 53552 (\\N{HANGUL SYLLABLE TEO}) missing from current font.\n",
      "  fig.canvas.print_figure(bytes_io, **kw)\n"
     ]
    },
    {
     "data": {
      "image/png": "[encoded data removed]",
      "text/plain": [
       "<Figure size 640x480 with 1 Axes>"
      ]
     },
     "metadata": {},
     "output_type": "display_data"
    }
   ],
   "source": [
    "# 상관관계는 raw데이터로 확인함\n",
    "sns.scatterplot(x = df_y['대장금액(원)'], y=df_y['대장면적(제곱미터)'])"
   ]
  },
  {
   "cell_type": "code",
   "execution_count": 35,
   "id": "3781ff10",
   "metadata": {},
   "outputs": [],
   "source": [
    "import numpy as np"
   ]
  },
  {
   "cell_type": "markdown",
   "id": "264d17c7",
   "metadata": {},
   "source": [
    "pvalue, rvalue, regplot"
   ]
  },
  {
   "cell_type": "code",
   "execution_count": 39,
   "id": "9e182a20",
   "metadata": {},
   "outputs": [
    {
     "name": "stderr",
     "output_type": "stream",
     "text": [
      "C:\\Users\\pg627\\AppData\\Local\\Temp\\ipykernel_29080\\174182893.py:2: SettingWithCopyWarning: \n",
      "A value is trying to be set on a copy of a slice from a DataFrame.\n",
      "Try using .loc[row_indexer,col_indexer] = value instead\n",
      "\n",
      "See the caveats in the documentation: https://pandas.pydata.org/pandas-docs/stable/user_guide/indexing.html#returning-a-view-versus-a-copy\n",
      "  df_y[i] = df_y[i][df_y[i] != 0]\n",
      "C:\\Users\\pg627\\AppData\\Local\\Temp\\ipykernel_29080\\174182893.py:3: SettingWithCopyWarning: \n",
      "A value is trying to be set on a copy of a slice from a DataFrame.\n",
      "Try using .loc[row_indexer,col_indexer] = value instead\n",
      "\n",
      "See the caveats in the documentation: https://pandas.pydata.org/pandas-docs/stable/user_guide/indexing.html#returning-a-view-versus-a-copy\n",
      "  df_y[i] = np.log2(df_y[i])\n"
     ]
    }
   ],
   "source": [
    "for i in ['대장금액(원)', '대장면적(제곱미터)']:\n",
    "    df_y[i] = df_y[i][df_y[i] != 0]\n",
    "    df_y[i] = np.log2(df_y[i])"
   ]
  },
  {
   "cell_type": "code",
   "execution_count": 43,
   "id": "b55be8c6",
   "metadata": {},
   "outputs": [
    {
     "data": {
      "text/html": [
       "<div>\n",
       "<style scoped>\n",
       "    .dataframe tbody tr th:only-of-type {\n",
       "        vertical-align: middle;\n",
       "    }\n",
       "\n",
       "    .dataframe tbody tr th {\n",
       "        vertical-align: top;\n",
       "    }\n",
       "\n",
       "    .dataframe thead th {\n",
       "        text-align: right;\n",
       "    }\n",
       "</style>\n",
       "<table border=\"1\" class=\"dataframe\">\n",
       "  <thead>\n",
       "    <tr style=\"text-align: right;\">\n",
       "      <th></th>\n",
       "      <th>대장금액(원)</th>\n",
       "      <th>대장면적(제곱미터)</th>\n",
       "    </tr>\n",
       "  </thead>\n",
       "  <tbody>\n",
       "    <tr>\n",
       "      <th>0</th>\n",
       "      <td>23.248873</td>\n",
       "      <td>5.807355</td>\n",
       "    </tr>\n",
       "    <tr>\n",
       "      <th>1</th>\n",
       "      <td>23.715025</td>\n",
       "      <td>7.813781</td>\n",
       "    </tr>\n",
       "    <tr>\n",
       "      <th>2</th>\n",
       "      <td>20.036174</td>\n",
       "      <td>6.714246</td>\n",
       "    </tr>\n",
       "    <tr>\n",
       "      <th>3</th>\n",
       "      <td>20.845490</td>\n",
       "      <td>7.523562</td>\n",
       "    </tr>\n",
       "    <tr>\n",
       "      <th>4</th>\n",
       "      <td>24.504325</td>\n",
       "      <td>11.040290</td>\n",
       "    </tr>\n",
       "    <tr>\n",
       "      <th>...</th>\n",
       "      <td>...</td>\n",
       "      <td>...</td>\n",
       "    </tr>\n",
       "    <tr>\n",
       "      <th>495</th>\n",
       "      <td>19.135709</td>\n",
       "      <td>4.321928</td>\n",
       "    </tr>\n",
       "    <tr>\n",
       "      <th>496</th>\n",
       "      <td>18.433879</td>\n",
       "      <td>3.700440</td>\n",
       "    </tr>\n",
       "    <tr>\n",
       "      <th>497</th>\n",
       "      <td>23.017435</td>\n",
       "      <td>8.060696</td>\n",
       "    </tr>\n",
       "    <tr>\n",
       "      <th>498</th>\n",
       "      <td>18.514221</td>\n",
       "      <td>3.700440</td>\n",
       "    </tr>\n",
       "    <tr>\n",
       "      <th>499</th>\n",
       "      <td>21.209173</td>\n",
       "      <td>6.475733</td>\n",
       "    </tr>\n",
       "  </tbody>\n",
       "</table>\n",
       "<p>500 rows × 2 columns</p>\n",
       "</div>"
      ],
      "text/plain": [
       "       대장금액(원)  대장면적(제곱미터)\n",
       "0    23.248873    5.807355\n",
       "1    23.715025    7.813781\n",
       "2    20.036174    6.714246\n",
       "3    20.845490    7.523562\n",
       "4    24.504325   11.040290\n",
       "..         ...         ...\n",
       "495  19.135709    4.321928\n",
       "496  18.433879    3.700440\n",
       "497  23.017435    8.060696\n",
       "498  18.514221    3.700440\n",
       "499  21.209173    6.475733\n",
       "\n",
       "[500 rows x 2 columns]"
      ]
     },
     "execution_count": 43,
     "metadata": {},
     "output_type": "execute_result"
    }
   ],
   "source": [
    "df_y"
   ]
  },
  {
   "cell_type": "code",
   "execution_count": 45,
   "id": "ac0bcb7f",
   "metadata": {},
   "outputs": [],
   "source": [
    "import matplotlib.pyplot as plt\n",
    "plt.rc('font', family='Malgun Gothic')"
   ]
  },
  {
   "cell_type": "code",
   "execution_count": 40,
   "id": "7844d8d1",
   "metadata": {},
   "outputs": [
    {
     "data": {
      "text/plain": [
       "<Axes: xlabel='대장금액(원)', ylabel='대장면적(제곱미터)'>"
      ]
     },
     "execution_count": 40,
     "metadata": {},
     "output_type": "execute_result"
    },
    {
     "name": "stderr",
     "output_type": "stream",
     "text": [
      "C:\\ProgramData\\anaconda3\\lib\\site-packages\\IPython\\core\\events.py:89: UserWarning: Glyph 45824 (\\N{HANGUL SYLLABLE DAE}) missing from current font.\n",
      "  func(*args, **kwargs)\n",
      "C:\\ProgramData\\anaconda3\\lib\\site-packages\\IPython\\core\\events.py:89: UserWarning: Glyph 51109 (\\N{HANGUL SYLLABLE JANG}) missing from current font.\n",
      "  func(*args, **kwargs)\n",
      "C:\\ProgramData\\anaconda3\\lib\\site-packages\\IPython\\core\\events.py:89: UserWarning: Glyph 44552 (\\N{HANGUL SYLLABLE GEUM}) missing from current font.\n",
      "  func(*args, **kwargs)\n",
      "C:\\ProgramData\\anaconda3\\lib\\site-packages\\IPython\\core\\events.py:89: UserWarning: Glyph 50529 (\\N{HANGUL SYLLABLE AEG}) missing from current font.\n",
      "  func(*args, **kwargs)\n",
      "C:\\ProgramData\\anaconda3\\lib\\site-packages\\IPython\\core\\events.py:89: UserWarning: Glyph 50896 (\\N{HANGUL SYLLABLE WEON}) missing from current font.\n",
      "  func(*args, **kwargs)\n",
      "C:\\ProgramData\\anaconda3\\lib\\site-packages\\IPython\\core\\events.py:89: UserWarning: Glyph 47732 (\\N{HANGUL SYLLABLE MYEON}) missing from current font.\n",
      "  func(*args, **kwargs)\n",
      "C:\\ProgramData\\anaconda3\\lib\\site-packages\\IPython\\core\\events.py:89: UserWarning: Glyph 51201 (\\N{HANGUL SYLLABLE JEOG}) missing from current font.\n",
      "  func(*args, **kwargs)\n",
      "C:\\ProgramData\\anaconda3\\lib\\site-packages\\IPython\\core\\events.py:89: UserWarning: Glyph 51228 (\\N{HANGUL SYLLABLE JE}) missing from current font.\n",
      "  func(*args, **kwargs)\n",
      "C:\\ProgramData\\anaconda3\\lib\\site-packages\\IPython\\core\\events.py:89: UserWarning: Glyph 44273 (\\N{HANGUL SYLLABLE GOB}) missing from current font.\n",
      "  func(*args, **kwargs)\n",
      "C:\\ProgramData\\anaconda3\\lib\\site-packages\\IPython\\core\\events.py:89: UserWarning: Glyph 48120 (\\N{HANGUL SYLLABLE MI}) missing from current font.\n",
      "  func(*args, **kwargs)\n",
      "C:\\ProgramData\\anaconda3\\lib\\site-packages\\IPython\\core\\events.py:89: UserWarning: Glyph 53552 (\\N{HANGUL SYLLABLE TEO}) missing from current font.\n",
      "  func(*args, **kwargs)\n",
      "C:\\ProgramData\\anaconda3\\lib\\site-packages\\IPython\\core\\pylabtools.py:152: UserWarning: Glyph 45824 (\\N{HANGUL SYLLABLE DAE}) missing from current font.\n",
      "  fig.canvas.print_figure(bytes_io, **kw)\n",
      "C:\\ProgramData\\anaconda3\\lib\\site-packages\\IPython\\core\\pylabtools.py:152: UserWarning: Glyph 51109 (\\N{HANGUL SYLLABLE JANG}) missing from current font.\n",
      "  fig.canvas.print_figure(bytes_io, **kw)\n",
      "C:\\ProgramData\\anaconda3\\lib\\site-packages\\IPython\\core\\pylabtools.py:152: UserWarning: Glyph 44552 (\\N{HANGUL SYLLABLE GEUM}) missing from current font.\n",
      "  fig.canvas.print_figure(bytes_io, **kw)\n",
      "C:\\ProgramData\\anaconda3\\lib\\site-packages\\IPython\\core\\pylabtools.py:152: UserWarning: Glyph 50529 (\\N{HANGUL SYLLABLE AEG}) missing from current font.\n",
      "  fig.canvas.print_figure(bytes_io, **kw)\n",
      "C:\\ProgramData\\anaconda3\\lib\\site-packages\\IPython\\core\\pylabtools.py:152: UserWarning: Glyph 50896 (\\N{HANGUL SYLLABLE WEON}) missing from current font.\n",
      "  fig.canvas.print_figure(bytes_io, **kw)\n",
      "C:\\ProgramData\\anaconda3\\lib\\site-packages\\IPython\\core\\pylabtools.py:152: UserWarning: Glyph 47732 (\\N{HANGUL SYLLABLE MYEON}) missing from current font.\n",
      "  fig.canvas.print_figure(bytes_io, **kw)\n",
      "C:\\ProgramData\\anaconda3\\lib\\site-packages\\IPython\\core\\pylabtools.py:152: UserWarning: Glyph 51201 (\\N{HANGUL SYLLABLE JEOG}) missing from current font.\n",
      "  fig.canvas.print_figure(bytes_io, **kw)\n",
      "C:\\ProgramData\\anaconda3\\lib\\site-packages\\IPython\\core\\pylabtools.py:152: UserWarning: Glyph 51228 (\\N{HANGUL SYLLABLE JE}) missing from current font.\n",
      "  fig.canvas.print_figure(bytes_io, **kw)\n",
      "C:\\ProgramData\\anaconda3\\lib\\site-packages\\IPython\\core\\pylabtools.py:152: UserWarning: Glyph 44273 (\\N{HANGUL SYLLABLE GOB}) missing from current font.\n",
      "  fig.canvas.print_figure(bytes_io, **kw)\n",
      "C:\\ProgramData\\anaconda3\\lib\\site-packages\\IPython\\core\\pylabtools.py:152: UserWarning: Glyph 48120 (\\N{HANGUL SYLLABLE MI}) missing from current font.\n",
      "  fig.canvas.print_figure(bytes_io, **kw)\n",
      "C:\\ProgramData\\anaconda3\\lib\\site-packages\\IPython\\core\\pylabtools.py:152: UserWarning: Glyph 53552 (\\N{HANGUL SYLLABLE TEO}) missing from current font.\n",
      "  fig.canvas.print_figure(bytes_io, **kw)\n"
     ]
    },
    {
     "data": {
      "image/png": "[encoded data removed]",
      "text/plain": [
       "<Figure size 640x480 with 1 Axes>"
      ]
     },
     "metadata": {},
     "output_type": "display_data"
    }
   ],
   "source": [
    "sns.scatterplot(x = df_y['대장금액(원)'], y=df_y['대장면적(제곱미터)'])"
   ]
  },
  {
   "cell_type": "code",
   "execution_count": 41,
   "id": "b421ebca",
   "metadata": {},
   "outputs": [
    {
     "data": {
      "text/plain": [
       "<Axes: xlabel='대장금액(원)', ylabel='대장면적(제곱미터)'>"
      ]
     },
     "execution_count": 41,
     "metadata": {},
     "output_type": "execute_result"
    },
    {
     "data": {
      "image/png": "[encoded data removed]",
      "text/plain": [
       "<Figure size 640x480 with 1 Axes>"
      ]
     },
     "metadata": {},
     "output_type": "display_data"
    }
   ],
   "source": [
    "sns.regplot(x = df_y['대장금액(원)'], y=df_y['대장면적(제곱미터)'])"
   ]
  },
  {
   "cell_type": "code",
   "execution_count": 42,
   "id": "b1136ab9",
   "metadata": {},
   "outputs": [
    {
     "data": {
      "text/plain": [
       "SignificanceResult(statistic=0.5209301903931852, pvalue=3.9677004248376504e-36)"
      ]
     },
     "execution_count": 42,
     "metadata": {},
     "output_type": "execute_result"
    }
   ],
   "source": [
    "# 정규성검정하고나서\n",
    "stats.spearmanr(df_y['대장금액(원)'], df_y['대장면적(제곱미터)'])"
   ]
  },
  {
   "cell_type": "code",
   "execution_count": 49,
   "id": "27df3fb9",
   "metadata": {},
   "outputs": [
    {
     "data": {
      "text/html": [
       "<div>\n",
       "<style scoped>\n",
       "    .dataframe tbody tr th:only-of-type {\n",
       "        vertical-align: middle;\n",
       "    }\n",
       "\n",
       "    .dataframe tbody tr th {\n",
       "        vertical-align: top;\n",
       "    }\n",
       "\n",
       "    .dataframe thead th {\n",
       "        text-align: right;\n",
       "    }\n",
       "</style>\n",
       "<table border=\"1\" class=\"dataframe\">\n",
       "  <thead>\n",
       "    <tr style=\"text-align: right;\">\n",
       "      <th></th>\n",
       "      <th>일자</th>\n",
       "      <th>횟수</th>\n",
       "      <th>1시</th>\n",
       "      <th>2시</th>\n",
       "      <th>3시</th>\n",
       "      <th>4시</th>\n",
       "      <th>5시</th>\n",
       "      <th>6시</th>\n",
       "      <th>7시</th>\n",
       "      <th>8시</th>\n",
       "      <th>...</th>\n",
       "      <th>16시</th>\n",
       "      <th>17시</th>\n",
       "      <th>18시</th>\n",
       "      <th>19시</th>\n",
       "      <th>20시</th>\n",
       "      <th>21시</th>\n",
       "      <th>22시</th>\n",
       "      <th>23시</th>\n",
       "      <th>24시</th>\n",
       "      <th>총제어량</th>\n",
       "    </tr>\n",
       "  </thead>\n",
       "  <tbody>\n",
       "    <tr>\n",
       "      <th>0</th>\n",
       "      <td>2021-01-13</td>\n",
       "      <td>1</td>\n",
       "      <td>0</td>\n",
       "      <td>0</td>\n",
       "      <td>0</td>\n",
       "      <td>0</td>\n",
       "      <td>0</td>\n",
       "      <td>0</td>\n",
       "      <td>0</td>\n",
       "      <td>0</td>\n",
       "      <td>...</td>\n",
       "      <td>0</td>\n",
       "      <td>0</td>\n",
       "      <td>0</td>\n",
       "      <td>0</td>\n",
       "      <td>0</td>\n",
       "      <td>0</td>\n",
       "      <td>0</td>\n",
       "      <td>0</td>\n",
       "      <td>0</td>\n",
       "      <td>65.17</td>\n",
       "    </tr>\n",
       "    <tr>\n",
       "      <th>1</th>\n",
       "      <td>2021-01-16</td>\n",
       "      <td>2</td>\n",
       "      <td>0</td>\n",
       "      <td>0</td>\n",
       "      <td>0</td>\n",
       "      <td>0</td>\n",
       "      <td>0</td>\n",
       "      <td>0</td>\n",
       "      <td>0</td>\n",
       "      <td>0</td>\n",
       "      <td>...</td>\n",
       "      <td>0</td>\n",
       "      <td>0</td>\n",
       "      <td>0</td>\n",
       "      <td>0</td>\n",
       "      <td>0</td>\n",
       "      <td>0</td>\n",
       "      <td>0</td>\n",
       "      <td>0</td>\n",
       "      <td>0</td>\n",
       "      <td>21.75</td>\n",
       "    </tr>\n",
       "    <tr>\n",
       "      <th>2</th>\n",
       "      <td>2021-01-18</td>\n",
       "      <td>3</td>\n",
       "      <td>0</td>\n",
       "      <td>0</td>\n",
       "      <td>0</td>\n",
       "      <td>0</td>\n",
       "      <td>0</td>\n",
       "      <td>0</td>\n",
       "      <td>0</td>\n",
       "      <td>0</td>\n",
       "      <td>...</td>\n",
       "      <td>0</td>\n",
       "      <td>0</td>\n",
       "      <td>0</td>\n",
       "      <td>0</td>\n",
       "      <td>0</td>\n",
       "      <td>0</td>\n",
       "      <td>0</td>\n",
       "      <td>0</td>\n",
       "      <td>0</td>\n",
       "      <td>46.67</td>\n",
       "    </tr>\n",
       "    <tr>\n",
       "      <th>3</th>\n",
       "      <td>2021-01-19</td>\n",
       "      <td>4</td>\n",
       "      <td>0</td>\n",
       "      <td>0</td>\n",
       "      <td>0</td>\n",
       "      <td>0</td>\n",
       "      <td>0</td>\n",
       "      <td>0</td>\n",
       "      <td>0</td>\n",
       "      <td>0</td>\n",
       "      <td>...</td>\n",
       "      <td>0</td>\n",
       "      <td>0</td>\n",
       "      <td>0</td>\n",
       "      <td>0</td>\n",
       "      <td>0</td>\n",
       "      <td>0</td>\n",
       "      <td>0</td>\n",
       "      <td>0</td>\n",
       "      <td>0</td>\n",
       "      <td>36.10</td>\n",
       "    </tr>\n",
       "    <tr>\n",
       "      <th>4</th>\n",
       "      <td>2021-01-24</td>\n",
       "      <td>5</td>\n",
       "      <td>0</td>\n",
       "      <td>0</td>\n",
       "      <td>0</td>\n",
       "      <td>0</td>\n",
       "      <td>0</td>\n",
       "      <td>0</td>\n",
       "      <td>0</td>\n",
       "      <td>0</td>\n",
       "      <td>...</td>\n",
       "      <td>3</td>\n",
       "      <td>0</td>\n",
       "      <td>0</td>\n",
       "      <td>0</td>\n",
       "      <td>0</td>\n",
       "      <td>0</td>\n",
       "      <td>0</td>\n",
       "      <td>0</td>\n",
       "      <td>0</td>\n",
       "      <td>97.67</td>\n",
       "    </tr>\n",
       "    <tr>\n",
       "      <th>...</th>\n",
       "      <td>...</td>\n",
       "      <td>...</td>\n",
       "      <td>...</td>\n",
       "      <td>...</td>\n",
       "      <td>...</td>\n",
       "      <td>...</td>\n",
       "      <td>...</td>\n",
       "      <td>...</td>\n",
       "      <td>...</td>\n",
       "      <td>...</td>\n",
       "      <td>...</td>\n",
       "      <td>...</td>\n",
       "      <td>...</td>\n",
       "      <td>...</td>\n",
       "      <td>...</td>\n",
       "      <td>...</td>\n",
       "      <td>...</td>\n",
       "      <td>...</td>\n",
       "      <td>...</td>\n",
       "      <td>...</td>\n",
       "      <td>...</td>\n",
       "    </tr>\n",
       "    <tr>\n",
       "      <th>59</th>\n",
       "      <td>2021-10-22</td>\n",
       "      <td>60</td>\n",
       "      <td>0</td>\n",
       "      <td>0</td>\n",
       "      <td>0</td>\n",
       "      <td>0</td>\n",
       "      <td>0</td>\n",
       "      <td>0</td>\n",
       "      <td>0</td>\n",
       "      <td>0</td>\n",
       "      <td>...</td>\n",
       "      <td>0</td>\n",
       "      <td>0</td>\n",
       "      <td>0</td>\n",
       "      <td>0</td>\n",
       "      <td>0</td>\n",
       "      <td>0</td>\n",
       "      <td>0</td>\n",
       "      <td>0</td>\n",
       "      <td>0</td>\n",
       "      <td>136.26</td>\n",
       "    </tr>\n",
       "    <tr>\n",
       "      <th>60</th>\n",
       "      <td>2021-10-23</td>\n",
       "      <td>61</td>\n",
       "      <td>0</td>\n",
       "      <td>0</td>\n",
       "      <td>0</td>\n",
       "      <td>0</td>\n",
       "      <td>0</td>\n",
       "      <td>0</td>\n",
       "      <td>0</td>\n",
       "      <td>0</td>\n",
       "      <td>...</td>\n",
       "      <td>1</td>\n",
       "      <td>0</td>\n",
       "      <td>0</td>\n",
       "      <td>0</td>\n",
       "      <td>0</td>\n",
       "      <td>0</td>\n",
       "      <td>0</td>\n",
       "      <td>0</td>\n",
       "      <td>0</td>\n",
       "      <td>50.60</td>\n",
       "    </tr>\n",
       "    <tr>\n",
       "      <th>61</th>\n",
       "      <td>2021-10-31</td>\n",
       "      <td>62</td>\n",
       "      <td>0</td>\n",
       "      <td>0</td>\n",
       "      <td>0</td>\n",
       "      <td>0</td>\n",
       "      <td>0</td>\n",
       "      <td>0</td>\n",
       "      <td>0</td>\n",
       "      <td>0</td>\n",
       "      <td>...</td>\n",
       "      <td>0</td>\n",
       "      <td>0</td>\n",
       "      <td>0</td>\n",
       "      <td>0</td>\n",
       "      <td>0</td>\n",
       "      <td>0</td>\n",
       "      <td>0</td>\n",
       "      <td>0</td>\n",
       "      <td>0</td>\n",
       "      <td>37.12</td>\n",
       "    </tr>\n",
       "    <tr>\n",
       "      <th>62</th>\n",
       "      <td>2021-11-03</td>\n",
       "      <td>63</td>\n",
       "      <td>0</td>\n",
       "      <td>0</td>\n",
       "      <td>0</td>\n",
       "      <td>0</td>\n",
       "      <td>0</td>\n",
       "      <td>0</td>\n",
       "      <td>0</td>\n",
       "      <td>0</td>\n",
       "      <td>...</td>\n",
       "      <td>0</td>\n",
       "      <td>0</td>\n",
       "      <td>0</td>\n",
       "      <td>0</td>\n",
       "      <td>0</td>\n",
       "      <td>0</td>\n",
       "      <td>0</td>\n",
       "      <td>0</td>\n",
       "      <td>0</td>\n",
       "      <td>71.97</td>\n",
       "    </tr>\n",
       "    <tr>\n",
       "      <th>63</th>\n",
       "      <td>2021-12-03</td>\n",
       "      <td>64</td>\n",
       "      <td>0</td>\n",
       "      <td>0</td>\n",
       "      <td>0</td>\n",
       "      <td>0</td>\n",
       "      <td>0</td>\n",
       "      <td>0</td>\n",
       "      <td>0</td>\n",
       "      <td>0</td>\n",
       "      <td>...</td>\n",
       "      <td>0</td>\n",
       "      <td>0</td>\n",
       "      <td>0</td>\n",
       "      <td>0</td>\n",
       "      <td>0</td>\n",
       "      <td>0</td>\n",
       "      <td>0</td>\n",
       "      <td>0</td>\n",
       "      <td>0</td>\n",
       "      <td>72.05</td>\n",
       "    </tr>\n",
       "  </tbody>\n",
       "</table>\n",
       "<p>64 rows × 27 columns</p>\n",
       "</div>"
      ],
      "text/plain": [
       "            일자  횟수  1시  2시  3시  4시  5시  6시  7시  8시  ...  16시  17시  18시  19시  \\\n",
       "0   2021-01-13   1   0   0   0   0   0   0   0   0  ...    0    0    0    0   \n",
       "1   2021-01-16   2   0   0   0   0   0   0   0   0  ...    0    0    0    0   \n",
       "2   2021-01-18   3   0   0   0   0   0   0   0   0  ...    0    0    0    0   \n",
       "3   2021-01-19   4   0   0   0   0   0   0   0   0  ...    0    0    0    0   \n",
       "4   2021-01-24   5   0   0   0   0   0   0   0   0  ...    3    0    0    0   \n",
       "..         ...  ..  ..  ..  ..  ..  ..  ..  ..  ..  ...  ...  ...  ...  ...   \n",
       "59  2021-10-22  60   0   0   0   0   0   0   0   0  ...    0    0    0    0   \n",
       "60  2021-10-23  61   0   0   0   0   0   0   0   0  ...    1    0    0    0   \n",
       "61  2021-10-31  62   0   0   0   0   0   0   0   0  ...    0    0    0    0   \n",
       "62  2021-11-03  63   0   0   0   0   0   0   0   0  ...    0    0    0    0   \n",
       "63  2021-12-03  64   0   0   0   0   0   0   0   0  ...    0    0    0    0   \n",
       "\n",
       "    20시  21시  22시  23시  24시    총제어량  \n",
       "0     0    0    0    0    0   65.17  \n",
       "1     0    0    0    0    0   21.75  \n",
       "2     0    0    0    0    0   46.67  \n",
       "3     0    0    0    0    0   36.10  \n",
       "4     0    0    0    0    0   97.67  \n",
       "..  ...  ...  ...  ...  ...     ...  \n",
       "59    0    0    0    0    0  136.26  \n",
       "60    0    0    0    0    0   50.60  \n",
       "61    0    0    0    0    0   37.12  \n",
       "62    0    0    0    0    0   71.97  \n",
       "63    0    0    0    0    0   72.05  \n",
       "\n",
       "[64 rows x 27 columns]"
      ]
     },
     "execution_count": 49,
     "metadata": {},
     "output_type": "execute_result"
    }
   ],
   "source": [
    "jeju = pd.read_csv('C:/Users/pg627/Downloads/한국전력거래소_시간별 제주 풍력 발전 제어량_20211231.csv', encoding='utf-8')\n",
    "jeju"
   ]
  },
  {
   "cell_type": "markdown",
   "id": "810d8ab7",
   "metadata": {},
   "source": [
    "jeju에서 아래 정보를 토대로 분석해 보세요\n",
    "1. 임의의 연초와 연말 날짜에 대해, 두 날짜별 제어량이 서로 같은 수준인지 알아보자\n",
    "2. 오전/오후와 상반기.하반기 그룹을 구분할 때, 각 그룹별 발전량이 평균 이상/이하인지 알아보자 (평균이상(or 이하)인 데이터만 카운트\n",
    "3. 2번 항목을 대상으로, 그 차이가 통계적으로 유의한지 알아보자"
   ]
  },
  {
   "cell_type": "code",
   "execution_count": null,
   "id": "b17bd3cc",
   "metadata": {},
   "outputs": [],
   "source": [
    "    연초 ㅇ연말\n",
    "오전 10    5\n",
    "오후 7     4"
   ]
  },
  {
   "cell_type": "code",
   "execution_count": 64,
   "id": "824fd249",
   "metadata": {},
   "outputs": [],
   "source": [
    "jeju_1 = jeju_1.drop(['일자', '총제어량', '횟수'], axis=1)"
   ]
  },
  {
   "cell_type": "code",
   "execution_count": 66,
   "id": "7071ba93",
   "metadata": {},
   "outputs": [
    {
     "ename": "ValueError",
     "evalue": "The internally computed table of expected frequencies has a zero element at (0, 0).",
     "output_type": "error",
     "traceback": [
      "\u001b[1;31m---------------------------------------------------------------------------\u001b[0m",
      "\u001b[1;31mValueError\u001b[0m                                Traceback (most recent call last)",
      "Cell \u001b[1;32mIn[66], line 1\u001b[0m\n\u001b[1;32m----> 1\u001b[0m \u001b[43mstats\u001b[49m\u001b[38;5;241;43m.\u001b[39;49m\u001b[43mchi2_contingency\u001b[49m\u001b[43m(\u001b[49m\u001b[43mjeju_1\u001b[49m\u001b[43m)\u001b[49m\n",
      "File \u001b[1;32mC:\\ProgramData\\anaconda3\\lib\\site-packages\\scipy\\stats\\contingency.py:292\u001b[0m, in \u001b[0;36mchi2_contingency\u001b[1;34m(observed, correction, lambda_)\u001b[0m\n\u001b[0;32m    288\u001b[0m \u001b[38;5;28;01mif\u001b[39;00m np\u001b[38;5;241m.\u001b[39many(expected \u001b[38;5;241m==\u001b[39m \u001b[38;5;241m0\u001b[39m):\n\u001b[0;32m    289\u001b[0m     \u001b[38;5;66;03m# Include one of the positions where expected is zero in\u001b[39;00m\n\u001b[0;32m    290\u001b[0m     \u001b[38;5;66;03m# the exception message.\u001b[39;00m\n\u001b[0;32m    291\u001b[0m     zeropos \u001b[38;5;241m=\u001b[39m \u001b[38;5;28mlist\u001b[39m(\u001b[38;5;28mzip\u001b[39m(\u001b[38;5;241m*\u001b[39mnp\u001b[38;5;241m.\u001b[39mnonzero(expected \u001b[38;5;241m==\u001b[39m \u001b[38;5;241m0\u001b[39m)))[\u001b[38;5;241m0\u001b[39m]\n\u001b[1;32m--> 292\u001b[0m     \u001b[38;5;28;01mraise\u001b[39;00m \u001b[38;5;167;01mValueError\u001b[39;00m(\u001b[38;5;124m\"\u001b[39m\u001b[38;5;124mThe internally computed table of expected \u001b[39m\u001b[38;5;124m\"\u001b[39m\n\u001b[0;32m    293\u001b[0m                      \u001b[38;5;124m\"\u001b[39m\u001b[38;5;124mfrequencies has a zero element at \u001b[39m\u001b[38;5;132;01m%s\u001b[39;00m\u001b[38;5;124m.\u001b[39m\u001b[38;5;124m\"\u001b[39m \u001b[38;5;241m%\u001b[39m (zeropos,))\n\u001b[0;32m    295\u001b[0m \u001b[38;5;66;03m# The degrees of freedom\u001b[39;00m\n\u001b[0;32m    296\u001b[0m dof \u001b[38;5;241m=\u001b[39m expected\u001b[38;5;241m.\u001b[39msize \u001b[38;5;241m-\u001b[39m \u001b[38;5;28msum\u001b[39m(expected\u001b[38;5;241m.\u001b[39mshape) \u001b[38;5;241m+\u001b[39m expected\u001b[38;5;241m.\u001b[39mndim \u001b[38;5;241m-\u001b[39m \u001b[38;5;241m1\u001b[39m\n",
      "\u001b[1;31mValueError\u001b[0m: The internally computed table of expected frequencies has a zero element at (0, 0)."
     ]
    }
   ],
   "source": [
    "stats.chi2_contingency(jeju_1)"
   ]
  },
  {
   "cell_type": "code",
   "execution_count": null,
   "id": "fdc4b2ec",
   "metadata": {},
   "outputs": [],
   "source": [
    "stats.chisquare(chi2.loc['1회차'], chi2.loc['2회차'])"
   ]
  },
  {
   "cell_type": "code",
   "execution_count": 67,
   "id": "3c1e12e3",
   "metadata": {},
   "outputs": [
    {
     "data": {
      "text/html": [
       "<div>\n",
       "<style scoped>\n",
       "    .dataframe tbody tr th:only-of-type {\n",
       "        vertical-align: middle;\n",
       "    }\n",
       "\n",
       "    .dataframe tbody tr th {\n",
       "        vertical-align: top;\n",
       "    }\n",
       "\n",
       "    .dataframe thead th {\n",
       "        text-align: right;\n",
       "    }\n",
       "</style>\n",
       "<table border=\"1\" class=\"dataframe\">\n",
       "  <thead>\n",
       "    <tr style=\"text-align: right;\">\n",
       "      <th></th>\n",
       "      <th>1시</th>\n",
       "      <th>2시</th>\n",
       "      <th>3시</th>\n",
       "      <th>4시</th>\n",
       "      <th>5시</th>\n",
       "      <th>6시</th>\n",
       "      <th>7시</th>\n",
       "      <th>8시</th>\n",
       "      <th>9시</th>\n",
       "      <th>10시</th>\n",
       "      <th>...</th>\n",
       "      <th>15시</th>\n",
       "      <th>16시</th>\n",
       "      <th>17시</th>\n",
       "      <th>18시</th>\n",
       "      <th>19시</th>\n",
       "      <th>20시</th>\n",
       "      <th>21시</th>\n",
       "      <th>22시</th>\n",
       "      <th>23시</th>\n",
       "      <th>24시</th>\n",
       "    </tr>\n",
       "  </thead>\n",
       "  <tbody>\n",
       "    <tr>\n",
       "      <th>0</th>\n",
       "      <td>0</td>\n",
       "      <td>0</td>\n",
       "      <td>0</td>\n",
       "      <td>0</td>\n",
       "      <td>0</td>\n",
       "      <td>0</td>\n",
       "      <td>0</td>\n",
       "      <td>0</td>\n",
       "      <td>0</td>\n",
       "      <td>0</td>\n",
       "      <td>...</td>\n",
       "      <td>25.0</td>\n",
       "      <td>0</td>\n",
       "      <td>0</td>\n",
       "      <td>0</td>\n",
       "      <td>0</td>\n",
       "      <td>0</td>\n",
       "      <td>0</td>\n",
       "      <td>0</td>\n",
       "      <td>0</td>\n",
       "      <td>0</td>\n",
       "    </tr>\n",
       "    <tr>\n",
       "      <th>63</th>\n",
       "      <td>0</td>\n",
       "      <td>0</td>\n",
       "      <td>0</td>\n",
       "      <td>0</td>\n",
       "      <td>0</td>\n",
       "      <td>0</td>\n",
       "      <td>0</td>\n",
       "      <td>0</td>\n",
       "      <td>0</td>\n",
       "      <td>0</td>\n",
       "      <td>...</td>\n",
       "      <td>1.0</td>\n",
       "      <td>0</td>\n",
       "      <td>0</td>\n",
       "      <td>0</td>\n",
       "      <td>0</td>\n",
       "      <td>0</td>\n",
       "      <td>0</td>\n",
       "      <td>0</td>\n",
       "      <td>0</td>\n",
       "      <td>0</td>\n",
       "    </tr>\n",
       "  </tbody>\n",
       "</table>\n",
       "<p>2 rows × 24 columns</p>\n",
       "</div>"
      ],
      "text/plain": [
       "    1시  2시  3시  4시  5시  6시  7시  8시  9시  10시  ...   15시  16시  17시  18시  19시  \\\n",
       "0    0   0   0   0   0   0   0   0   0    0  ...  25.0    0    0    0    0   \n",
       "63   0   0   0   0   0   0   0   0   0    0  ...   1.0    0    0    0    0   \n",
       "\n",
       "    20시  21시  22시  23시  24시  \n",
       "0     0    0    0    0    0  \n",
       "63    0    0    0    0    0  \n",
       "\n",
       "[2 rows x 24 columns]"
      ]
     },
     "execution_count": 67,
     "metadata": {},
     "output_type": "execute_result"
    }
   ],
   "source": [
    "jeju_1"
   ]
  },
  {
   "cell_type": "code",
   "execution_count": 95,
   "id": "fae37b4f",
   "metadata": {},
   "outputs": [],
   "source": [
    "s_jeju = jeju[0:55]\n",
    "h_jeju = jeju[55:]"
   ]
  },
  {
   "cell_type": "code",
   "execution_count": 60,
   "id": "0f9d1992",
   "metadata": {},
   "outputs": [
    {
     "data": {
      "text/html": [
       "<div>\n",
       "<style scoped>\n",
       "    .dataframe tbody tr th:only-of-type {\n",
       "        vertical-align: middle;\n",
       "    }\n",
       "\n",
       "    .dataframe tbody tr th {\n",
       "        vertical-align: top;\n",
       "    }\n",
       "\n",
       "    .dataframe thead th {\n",
       "        text-align: right;\n",
       "    }\n",
       "</style>\n",
       "<table border=\"1\" class=\"dataframe\">\n",
       "  <thead>\n",
       "    <tr style=\"text-align: right;\">\n",
       "      <th></th>\n",
       "      <th>일자</th>\n",
       "      <th>횟수</th>\n",
       "      <th>1시</th>\n",
       "      <th>2시</th>\n",
       "      <th>3시</th>\n",
       "      <th>4시</th>\n",
       "      <th>5시</th>\n",
       "      <th>6시</th>\n",
       "      <th>7시</th>\n",
       "      <th>8시</th>\n",
       "      <th>...</th>\n",
       "      <th>16시</th>\n",
       "      <th>17시</th>\n",
       "      <th>18시</th>\n",
       "      <th>19시</th>\n",
       "      <th>20시</th>\n",
       "      <th>21시</th>\n",
       "      <th>22시</th>\n",
       "      <th>23시</th>\n",
       "      <th>24시</th>\n",
       "      <th>총제어량</th>\n",
       "    </tr>\n",
       "  </thead>\n",
       "  <tbody>\n",
       "    <tr>\n",
       "      <th>0</th>\n",
       "      <td>2021-01-13</td>\n",
       "      <td>1</td>\n",
       "      <td>0</td>\n",
       "      <td>0</td>\n",
       "      <td>0</td>\n",
       "      <td>0</td>\n",
       "      <td>0</td>\n",
       "      <td>0</td>\n",
       "      <td>0</td>\n",
       "      <td>0</td>\n",
       "      <td>...</td>\n",
       "      <td>0</td>\n",
       "      <td>0</td>\n",
       "      <td>0</td>\n",
       "      <td>0</td>\n",
       "      <td>0</td>\n",
       "      <td>0</td>\n",
       "      <td>0</td>\n",
       "      <td>0</td>\n",
       "      <td>0</td>\n",
       "      <td>65.17</td>\n",
       "    </tr>\n",
       "    <tr>\n",
       "      <th>63</th>\n",
       "      <td>2021-12-03</td>\n",
       "      <td>64</td>\n",
       "      <td>0</td>\n",
       "      <td>0</td>\n",
       "      <td>0</td>\n",
       "      <td>0</td>\n",
       "      <td>0</td>\n",
       "      <td>0</td>\n",
       "      <td>0</td>\n",
       "      <td>0</td>\n",
       "      <td>...</td>\n",
       "      <td>0</td>\n",
       "      <td>0</td>\n",
       "      <td>0</td>\n",
       "      <td>0</td>\n",
       "      <td>0</td>\n",
       "      <td>0</td>\n",
       "      <td>0</td>\n",
       "      <td>0</td>\n",
       "      <td>0</td>\n",
       "      <td>72.05</td>\n",
       "    </tr>\n",
       "  </tbody>\n",
       "</table>\n",
       "<p>2 rows × 27 columns</p>\n",
       "</div>"
      ],
      "text/plain": [
       "            일자  횟수  1시  2시  3시  4시  5시  6시  7시  8시  ...  16시  17시  18시  19시  \\\n",
       "0   2021-01-13   1   0   0   0   0   0   0   0   0  ...    0    0    0    0   \n",
       "63  2021-12-03  64   0   0   0   0   0   0   0   0  ...    0    0    0    0   \n",
       "\n",
       "    20시  21시  22시  23시  24시   총제어량  \n",
       "0     0    0    0    0    0  65.17  \n",
       "63    0    0    0    0    0  72.05  \n",
       "\n",
       "[2 rows x 27 columns]"
      ]
     },
     "execution_count": 60,
     "metadata": {},
     "output_type": "execute_result"
    }
   ],
   "source": [
    "# 연초 2021-01-13, 연말 2021-12-03\n",
    "jeju_1 = pd.concat([jeju[0:1],jeju[-1:]])\n",
    "jeju_1"
   ]
  },
  {
   "cell_type": "code",
   "execution_count": 118,
   "id": "8eefa191",
   "metadata": {},
   "outputs": [
    {
     "data": {
      "text/html": [
       "<div>\n",
       "<style scoped>\n",
       "    .dataframe tbody tr th:only-of-type {\n",
       "        vertical-align: middle;\n",
       "    }\n",
       "\n",
       "    .dataframe tbody tr th {\n",
       "        vertical-align: top;\n",
       "    }\n",
       "\n",
       "    .dataframe thead th {\n",
       "        text-align: right;\n",
       "    }\n",
       "</style>\n",
       "<table border=\"1\" class=\"dataframe\">\n",
       "  <thead>\n",
       "    <tr style=\"text-align: right;\">\n",
       "      <th></th>\n",
       "      <th>1시</th>\n",
       "      <th>2시</th>\n",
       "      <th>3시</th>\n",
       "      <th>4시</th>\n",
       "      <th>5시</th>\n",
       "      <th>6시</th>\n",
       "      <th>7시</th>\n",
       "      <th>8시</th>\n",
       "      <th>9시</th>\n",
       "      <th>10시</th>\n",
       "      <th>11시</th>\n",
       "      <th>12시</th>\n",
       "    </tr>\n",
       "  </thead>\n",
       "  <tbody>\n",
       "    <tr>\n",
       "      <th>0</th>\n",
       "      <td>0</td>\n",
       "      <td>0</td>\n",
       "      <td>0</td>\n",
       "      <td>0</td>\n",
       "      <td>0</td>\n",
       "      <td>0</td>\n",
       "      <td>0</td>\n",
       "      <td>0</td>\n",
       "      <td>0</td>\n",
       "      <td>0</td>\n",
       "      <td>0</td>\n",
       "      <td>0</td>\n",
       "    </tr>\n",
       "    <tr>\n",
       "      <th>1</th>\n",
       "      <td>0</td>\n",
       "      <td>0</td>\n",
       "      <td>0</td>\n",
       "      <td>0</td>\n",
       "      <td>0</td>\n",
       "      <td>0</td>\n",
       "      <td>0</td>\n",
       "      <td>0</td>\n",
       "      <td>0</td>\n",
       "      <td>0</td>\n",
       "      <td>0</td>\n",
       "      <td>0</td>\n",
       "    </tr>\n",
       "    <tr>\n",
       "      <th>2</th>\n",
       "      <td>0</td>\n",
       "      <td>0</td>\n",
       "      <td>0</td>\n",
       "      <td>0</td>\n",
       "      <td>0</td>\n",
       "      <td>0</td>\n",
       "      <td>0</td>\n",
       "      <td>0</td>\n",
       "      <td>0</td>\n",
       "      <td>0</td>\n",
       "      <td>0</td>\n",
       "      <td>0</td>\n",
       "    </tr>\n",
       "    <tr>\n",
       "      <th>3</th>\n",
       "      <td>0</td>\n",
       "      <td>0</td>\n",
       "      <td>0</td>\n",
       "      <td>0</td>\n",
       "      <td>0</td>\n",
       "      <td>0</td>\n",
       "      <td>0</td>\n",
       "      <td>0</td>\n",
       "      <td>0</td>\n",
       "      <td>0</td>\n",
       "      <td>0</td>\n",
       "      <td>0</td>\n",
       "    </tr>\n",
       "    <tr>\n",
       "      <th>4</th>\n",
       "      <td>0</td>\n",
       "      <td>0</td>\n",
       "      <td>0</td>\n",
       "      <td>0</td>\n",
       "      <td>0</td>\n",
       "      <td>0</td>\n",
       "      <td>0</td>\n",
       "      <td>0</td>\n",
       "      <td>0</td>\n",
       "      <td>0</td>\n",
       "      <td>0</td>\n",
       "      <td>3</td>\n",
       "    </tr>\n",
       "    <tr>\n",
       "      <th>5</th>\n",
       "      <td>0</td>\n",
       "      <td>0</td>\n",
       "      <td>0</td>\n",
       "      <td>0</td>\n",
       "      <td>0</td>\n",
       "      <td>0</td>\n",
       "      <td>0</td>\n",
       "      <td>0</td>\n",
       "      <td>0</td>\n",
       "      <td>0</td>\n",
       "      <td>0</td>\n",
       "      <td>0</td>\n",
       "    </tr>\n",
       "    <tr>\n",
       "      <th>6</th>\n",
       "      <td>0</td>\n",
       "      <td>0</td>\n",
       "      <td>0</td>\n",
       "      <td>0</td>\n",
       "      <td>0</td>\n",
       "      <td>0</td>\n",
       "      <td>0</td>\n",
       "      <td>0</td>\n",
       "      <td>0</td>\n",
       "      <td>0</td>\n",
       "      <td>3</td>\n",
       "      <td>41</td>\n",
       "    </tr>\n",
       "    <tr>\n",
       "      <th>7</th>\n",
       "      <td>0</td>\n",
       "      <td>0</td>\n",
       "      <td>0</td>\n",
       "      <td>0</td>\n",
       "      <td>0</td>\n",
       "      <td>0</td>\n",
       "      <td>0</td>\n",
       "      <td>0</td>\n",
       "      <td>0</td>\n",
       "      <td>0</td>\n",
       "      <td>0</td>\n",
       "      <td>0</td>\n",
       "    </tr>\n",
       "    <tr>\n",
       "      <th>8</th>\n",
       "      <td>0</td>\n",
       "      <td>0</td>\n",
       "      <td>0</td>\n",
       "      <td>0</td>\n",
       "      <td>0</td>\n",
       "      <td>0</td>\n",
       "      <td>0</td>\n",
       "      <td>0</td>\n",
       "      <td>0</td>\n",
       "      <td>0</td>\n",
       "      <td>0</td>\n",
       "      <td>0</td>\n",
       "    </tr>\n",
       "    <tr>\n",
       "      <th>9</th>\n",
       "      <td>0</td>\n",
       "      <td>0</td>\n",
       "      <td>0</td>\n",
       "      <td>0</td>\n",
       "      <td>0</td>\n",
       "      <td>0</td>\n",
       "      <td>0</td>\n",
       "      <td>0</td>\n",
       "      <td>0</td>\n",
       "      <td>0</td>\n",
       "      <td>0</td>\n",
       "      <td>29</td>\n",
       "    </tr>\n",
       "    <tr>\n",
       "      <th>10</th>\n",
       "      <td>0</td>\n",
       "      <td>0</td>\n",
       "      <td>0</td>\n",
       "      <td>0</td>\n",
       "      <td>0</td>\n",
       "      <td>0</td>\n",
       "      <td>0</td>\n",
       "      <td>0</td>\n",
       "      <td>0</td>\n",
       "      <td>0</td>\n",
       "      <td>0</td>\n",
       "      <td>3</td>\n",
       "    </tr>\n",
       "    <tr>\n",
       "      <th>11</th>\n",
       "      <td>0</td>\n",
       "      <td>0</td>\n",
       "      <td>0</td>\n",
       "      <td>0</td>\n",
       "      <td>0</td>\n",
       "      <td>0</td>\n",
       "      <td>0</td>\n",
       "      <td>0</td>\n",
       "      <td>0</td>\n",
       "      <td>0</td>\n",
       "      <td>7</td>\n",
       "      <td>87</td>\n",
       "    </tr>\n",
       "    <tr>\n",
       "      <th>12</th>\n",
       "      <td>0</td>\n",
       "      <td>0</td>\n",
       "      <td>0</td>\n",
       "      <td>0</td>\n",
       "      <td>0</td>\n",
       "      <td>0</td>\n",
       "      <td>0</td>\n",
       "      <td>0</td>\n",
       "      <td>0</td>\n",
       "      <td>0</td>\n",
       "      <td>0</td>\n",
       "      <td>1</td>\n",
       "    </tr>\n",
       "    <tr>\n",
       "      <th>13</th>\n",
       "      <td>0</td>\n",
       "      <td>0</td>\n",
       "      <td>0</td>\n",
       "      <td>0</td>\n",
       "      <td>0</td>\n",
       "      <td>0</td>\n",
       "      <td>0</td>\n",
       "      <td>0</td>\n",
       "      <td>0</td>\n",
       "      <td>0</td>\n",
       "      <td>0</td>\n",
       "      <td>0</td>\n",
       "    </tr>\n",
       "    <tr>\n",
       "      <th>14</th>\n",
       "      <td>0</td>\n",
       "      <td>0</td>\n",
       "      <td>0</td>\n",
       "      <td>0</td>\n",
       "      <td>0</td>\n",
       "      <td>0</td>\n",
       "      <td>0</td>\n",
       "      <td>0</td>\n",
       "      <td>0</td>\n",
       "      <td>0</td>\n",
       "      <td>0</td>\n",
       "      <td>0</td>\n",
       "    </tr>\n",
       "    <tr>\n",
       "      <th>15</th>\n",
       "      <td>0</td>\n",
       "      <td>0</td>\n",
       "      <td>0</td>\n",
       "      <td>0</td>\n",
       "      <td>0</td>\n",
       "      <td>0</td>\n",
       "      <td>0</td>\n",
       "      <td>0</td>\n",
       "      <td>0</td>\n",
       "      <td>0</td>\n",
       "      <td>0</td>\n",
       "      <td>40</td>\n",
       "    </tr>\n",
       "    <tr>\n",
       "      <th>16</th>\n",
       "      <td>0</td>\n",
       "      <td>0</td>\n",
       "      <td>0</td>\n",
       "      <td>0</td>\n",
       "      <td>0</td>\n",
       "      <td>0</td>\n",
       "      <td>0</td>\n",
       "      <td>0</td>\n",
       "      <td>0</td>\n",
       "      <td>0</td>\n",
       "      <td>22</td>\n",
       "      <td>56</td>\n",
       "    </tr>\n",
       "    <tr>\n",
       "      <th>17</th>\n",
       "      <td>0</td>\n",
       "      <td>0</td>\n",
       "      <td>0</td>\n",
       "      <td>0</td>\n",
       "      <td>0</td>\n",
       "      <td>0</td>\n",
       "      <td>0</td>\n",
       "      <td>0</td>\n",
       "      <td>0</td>\n",
       "      <td>0</td>\n",
       "      <td>0</td>\n",
       "      <td>14</td>\n",
       "    </tr>\n",
       "    <tr>\n",
       "      <th>18</th>\n",
       "      <td>0</td>\n",
       "      <td>0</td>\n",
       "      <td>0</td>\n",
       "      <td>0</td>\n",
       "      <td>0</td>\n",
       "      <td>0</td>\n",
       "      <td>0</td>\n",
       "      <td>0</td>\n",
       "      <td>0</td>\n",
       "      <td>2</td>\n",
       "      <td>33</td>\n",
       "      <td>62</td>\n",
       "    </tr>\n",
       "    <tr>\n",
       "      <th>19</th>\n",
       "      <td>0</td>\n",
       "      <td>0</td>\n",
       "      <td>0</td>\n",
       "      <td>0</td>\n",
       "      <td>0</td>\n",
       "      <td>0</td>\n",
       "      <td>0</td>\n",
       "      <td>0</td>\n",
       "      <td>0</td>\n",
       "      <td>0</td>\n",
       "      <td>0</td>\n",
       "      <td>29</td>\n",
       "    </tr>\n",
       "    <tr>\n",
       "      <th>20</th>\n",
       "      <td>0</td>\n",
       "      <td>0</td>\n",
       "      <td>0</td>\n",
       "      <td>0</td>\n",
       "      <td>0</td>\n",
       "      <td>0</td>\n",
       "      <td>0</td>\n",
       "      <td>0</td>\n",
       "      <td>0</td>\n",
       "      <td>0</td>\n",
       "      <td>3</td>\n",
       "      <td>26</td>\n",
       "    </tr>\n",
       "    <tr>\n",
       "      <th>21</th>\n",
       "      <td>0</td>\n",
       "      <td>0</td>\n",
       "      <td>0</td>\n",
       "      <td>0</td>\n",
       "      <td>0</td>\n",
       "      <td>0</td>\n",
       "      <td>0</td>\n",
       "      <td>0</td>\n",
       "      <td>0</td>\n",
       "      <td>0</td>\n",
       "      <td>0</td>\n",
       "      <td>0</td>\n",
       "    </tr>\n",
       "    <tr>\n",
       "      <th>22</th>\n",
       "      <td>0</td>\n",
       "      <td>0</td>\n",
       "      <td>0</td>\n",
       "      <td>0</td>\n",
       "      <td>0</td>\n",
       "      <td>0</td>\n",
       "      <td>0</td>\n",
       "      <td>0</td>\n",
       "      <td>0</td>\n",
       "      <td>0</td>\n",
       "      <td>0</td>\n",
       "      <td>0</td>\n",
       "    </tr>\n",
       "    <tr>\n",
       "      <th>23</th>\n",
       "      <td>0</td>\n",
       "      <td>0</td>\n",
       "      <td>0</td>\n",
       "      <td>0</td>\n",
       "      <td>0</td>\n",
       "      <td>0</td>\n",
       "      <td>0</td>\n",
       "      <td>0</td>\n",
       "      <td>0</td>\n",
       "      <td>0</td>\n",
       "      <td>0</td>\n",
       "      <td>0</td>\n",
       "    </tr>\n",
       "    <tr>\n",
       "      <th>24</th>\n",
       "      <td>0</td>\n",
       "      <td>0</td>\n",
       "      <td>0</td>\n",
       "      <td>0</td>\n",
       "      <td>0</td>\n",
       "      <td>0</td>\n",
       "      <td>0</td>\n",
       "      <td>0</td>\n",
       "      <td>0</td>\n",
       "      <td>58</td>\n",
       "      <td>115</td>\n",
       "      <td>150</td>\n",
       "    </tr>\n",
       "    <tr>\n",
       "      <th>25</th>\n",
       "      <td>0</td>\n",
       "      <td>0</td>\n",
       "      <td>0</td>\n",
       "      <td>0</td>\n",
       "      <td>0</td>\n",
       "      <td>0</td>\n",
       "      <td>0</td>\n",
       "      <td>0</td>\n",
       "      <td>0</td>\n",
       "      <td>0</td>\n",
       "      <td>39</td>\n",
       "      <td>101</td>\n",
       "    </tr>\n",
       "    <tr>\n",
       "      <th>26</th>\n",
       "      <td>0</td>\n",
       "      <td>0</td>\n",
       "      <td>0</td>\n",
       "      <td>0</td>\n",
       "      <td>0</td>\n",
       "      <td>0</td>\n",
       "      <td>0</td>\n",
       "      <td>0</td>\n",
       "      <td>0</td>\n",
       "      <td>0</td>\n",
       "      <td>0</td>\n",
       "      <td>0</td>\n",
       "    </tr>\n",
       "    <tr>\n",
       "      <th>27</th>\n",
       "      <td>0</td>\n",
       "      <td>0</td>\n",
       "      <td>0</td>\n",
       "      <td>0</td>\n",
       "      <td>0</td>\n",
       "      <td>0</td>\n",
       "      <td>0</td>\n",
       "      <td>0</td>\n",
       "      <td>0</td>\n",
       "      <td>0</td>\n",
       "      <td>0</td>\n",
       "      <td>0</td>\n",
       "    </tr>\n",
       "    <tr>\n",
       "      <th>28</th>\n",
       "      <td>0</td>\n",
       "      <td>0</td>\n",
       "      <td>0</td>\n",
       "      <td>0</td>\n",
       "      <td>0</td>\n",
       "      <td>0</td>\n",
       "      <td>0</td>\n",
       "      <td>0</td>\n",
       "      <td>0</td>\n",
       "      <td>0</td>\n",
       "      <td>0</td>\n",
       "      <td>0</td>\n",
       "    </tr>\n",
       "    <tr>\n",
       "      <th>29</th>\n",
       "      <td>0</td>\n",
       "      <td>0</td>\n",
       "      <td>0</td>\n",
       "      <td>0</td>\n",
       "      <td>0</td>\n",
       "      <td>0</td>\n",
       "      <td>0</td>\n",
       "      <td>0</td>\n",
       "      <td>0</td>\n",
       "      <td>0</td>\n",
       "      <td>3</td>\n",
       "      <td>28</td>\n",
       "    </tr>\n",
       "    <tr>\n",
       "      <th>30</th>\n",
       "      <td>0</td>\n",
       "      <td>0</td>\n",
       "      <td>0</td>\n",
       "      <td>0</td>\n",
       "      <td>0</td>\n",
       "      <td>0</td>\n",
       "      <td>0</td>\n",
       "      <td>0</td>\n",
       "      <td>0</td>\n",
       "      <td>0</td>\n",
       "      <td>0</td>\n",
       "      <td>0</td>\n",
       "    </tr>\n",
       "    <tr>\n",
       "      <th>31</th>\n",
       "      <td>0</td>\n",
       "      <td>0</td>\n",
       "      <td>0</td>\n",
       "      <td>0</td>\n",
       "      <td>0</td>\n",
       "      <td>0</td>\n",
       "      <td>0</td>\n",
       "      <td>0</td>\n",
       "      <td>0</td>\n",
       "      <td>0</td>\n",
       "      <td>0</td>\n",
       "      <td>33</td>\n",
       "    </tr>\n",
       "    <tr>\n",
       "      <th>32</th>\n",
       "      <td>0</td>\n",
       "      <td>0</td>\n",
       "      <td>0</td>\n",
       "      <td>0</td>\n",
       "      <td>0</td>\n",
       "      <td>0</td>\n",
       "      <td>0</td>\n",
       "      <td>0</td>\n",
       "      <td>0</td>\n",
       "      <td>0</td>\n",
       "      <td>0</td>\n",
       "      <td>9</td>\n",
       "    </tr>\n",
       "    <tr>\n",
       "      <th>33</th>\n",
       "      <td>0</td>\n",
       "      <td>0</td>\n",
       "      <td>0</td>\n",
       "      <td>0</td>\n",
       "      <td>0</td>\n",
       "      <td>0</td>\n",
       "      <td>0</td>\n",
       "      <td>0</td>\n",
       "      <td>0</td>\n",
       "      <td>0</td>\n",
       "      <td>2</td>\n",
       "      <td>5</td>\n",
       "    </tr>\n",
       "    <tr>\n",
       "      <th>34</th>\n",
       "      <td>0</td>\n",
       "      <td>0</td>\n",
       "      <td>0</td>\n",
       "      <td>0</td>\n",
       "      <td>0</td>\n",
       "      <td>0</td>\n",
       "      <td>0</td>\n",
       "      <td>0</td>\n",
       "      <td>0</td>\n",
       "      <td>0</td>\n",
       "      <td>0</td>\n",
       "      <td>25</td>\n",
       "    </tr>\n",
       "    <tr>\n",
       "      <th>35</th>\n",
       "      <td>0</td>\n",
       "      <td>0</td>\n",
       "      <td>0</td>\n",
       "      <td>0</td>\n",
       "      <td>0</td>\n",
       "      <td>0</td>\n",
       "      <td>0</td>\n",
       "      <td>0</td>\n",
       "      <td>0</td>\n",
       "      <td>0</td>\n",
       "      <td>27</td>\n",
       "      <td>62</td>\n",
       "    </tr>\n",
       "    <tr>\n",
       "      <th>36</th>\n",
       "      <td>0</td>\n",
       "      <td>0</td>\n",
       "      <td>0</td>\n",
       "      <td>0</td>\n",
       "      <td>0</td>\n",
       "      <td>0</td>\n",
       "      <td>0</td>\n",
       "      <td>0</td>\n",
       "      <td>0</td>\n",
       "      <td>0</td>\n",
       "      <td>37</td>\n",
       "      <td>56</td>\n",
       "    </tr>\n",
       "    <tr>\n",
       "      <th>37</th>\n",
       "      <td>0</td>\n",
       "      <td>0</td>\n",
       "      <td>0</td>\n",
       "      <td>0</td>\n",
       "      <td>0</td>\n",
       "      <td>0</td>\n",
       "      <td>0</td>\n",
       "      <td>0</td>\n",
       "      <td>0</td>\n",
       "      <td>0</td>\n",
       "      <td>0</td>\n",
       "      <td>0</td>\n",
       "    </tr>\n",
       "    <tr>\n",
       "      <th>38</th>\n",
       "      <td>0</td>\n",
       "      <td>0</td>\n",
       "      <td>0</td>\n",
       "      <td>0</td>\n",
       "      <td>0</td>\n",
       "      <td>0</td>\n",
       "      <td>0</td>\n",
       "      <td>0</td>\n",
       "      <td>0</td>\n",
       "      <td>0</td>\n",
       "      <td>2</td>\n",
       "      <td>94</td>\n",
       "    </tr>\n",
       "    <tr>\n",
       "      <th>39</th>\n",
       "      <td>0</td>\n",
       "      <td>0</td>\n",
       "      <td>0</td>\n",
       "      <td>0</td>\n",
       "      <td>0</td>\n",
       "      <td>0</td>\n",
       "      <td>0</td>\n",
       "      <td>0</td>\n",
       "      <td>0</td>\n",
       "      <td>0</td>\n",
       "      <td>32</td>\n",
       "      <td>141</td>\n",
       "    </tr>\n",
       "    <tr>\n",
       "      <th>40</th>\n",
       "      <td>0</td>\n",
       "      <td>0</td>\n",
       "      <td>0</td>\n",
       "      <td>0</td>\n",
       "      <td>0</td>\n",
       "      <td>0</td>\n",
       "      <td>0</td>\n",
       "      <td>0</td>\n",
       "      <td>14</td>\n",
       "      <td>92</td>\n",
       "      <td>144</td>\n",
       "      <td>162</td>\n",
       "    </tr>\n",
       "    <tr>\n",
       "      <th>41</th>\n",
       "      <td>0</td>\n",
       "      <td>0</td>\n",
       "      <td>0</td>\n",
       "      <td>0</td>\n",
       "      <td>0</td>\n",
       "      <td>0</td>\n",
       "      <td>0</td>\n",
       "      <td>0</td>\n",
       "      <td>0</td>\n",
       "      <td>0</td>\n",
       "      <td>0</td>\n",
       "      <td>0</td>\n",
       "    </tr>\n",
       "    <tr>\n",
       "      <th>42</th>\n",
       "      <td>0</td>\n",
       "      <td>0</td>\n",
       "      <td>0</td>\n",
       "      <td>0</td>\n",
       "      <td>0</td>\n",
       "      <td>0</td>\n",
       "      <td>0</td>\n",
       "      <td>0</td>\n",
       "      <td>0</td>\n",
       "      <td>0</td>\n",
       "      <td>0</td>\n",
       "      <td>26</td>\n",
       "    </tr>\n",
       "    <tr>\n",
       "      <th>43</th>\n",
       "      <td>0</td>\n",
       "      <td>0</td>\n",
       "      <td>0</td>\n",
       "      <td>0</td>\n",
       "      <td>0</td>\n",
       "      <td>0</td>\n",
       "      <td>0</td>\n",
       "      <td>0</td>\n",
       "      <td>0</td>\n",
       "      <td>0</td>\n",
       "      <td>0</td>\n",
       "      <td>10</td>\n",
       "    </tr>\n",
       "    <tr>\n",
       "      <th>44</th>\n",
       "      <td>0</td>\n",
       "      <td>0</td>\n",
       "      <td>0</td>\n",
       "      <td>0</td>\n",
       "      <td>0</td>\n",
       "      <td>0</td>\n",
       "      <td>0</td>\n",
       "      <td>0</td>\n",
       "      <td>0</td>\n",
       "      <td>0</td>\n",
       "      <td>0</td>\n",
       "      <td>0</td>\n",
       "    </tr>\n",
       "    <tr>\n",
       "      <th>45</th>\n",
       "      <td>0</td>\n",
       "      <td>0</td>\n",
       "      <td>0</td>\n",
       "      <td>0</td>\n",
       "      <td>0</td>\n",
       "      <td>0</td>\n",
       "      <td>0</td>\n",
       "      <td>0</td>\n",
       "      <td>0</td>\n",
       "      <td>0</td>\n",
       "      <td>0</td>\n",
       "      <td>6</td>\n",
       "    </tr>\n",
       "    <tr>\n",
       "      <th>46</th>\n",
       "      <td>0</td>\n",
       "      <td>0</td>\n",
       "      <td>0</td>\n",
       "      <td>0</td>\n",
       "      <td>0</td>\n",
       "      <td>0</td>\n",
       "      <td>0</td>\n",
       "      <td>0</td>\n",
       "      <td>0</td>\n",
       "      <td>0</td>\n",
       "      <td>3</td>\n",
       "      <td>70</td>\n",
       "    </tr>\n",
       "    <tr>\n",
       "      <th>47</th>\n",
       "      <td>0</td>\n",
       "      <td>0</td>\n",
       "      <td>0</td>\n",
       "      <td>0</td>\n",
       "      <td>0</td>\n",
       "      <td>0</td>\n",
       "      <td>0</td>\n",
       "      <td>0</td>\n",
       "      <td>32</td>\n",
       "      <td>76</td>\n",
       "      <td>151</td>\n",
       "      <td>159</td>\n",
       "    </tr>\n",
       "    <tr>\n",
       "      <th>48</th>\n",
       "      <td>0</td>\n",
       "      <td>0</td>\n",
       "      <td>0</td>\n",
       "      <td>0</td>\n",
       "      <td>0</td>\n",
       "      <td>0</td>\n",
       "      <td>0</td>\n",
       "      <td>0</td>\n",
       "      <td>0</td>\n",
       "      <td>8</td>\n",
       "      <td>37</td>\n",
       "      <td>71</td>\n",
       "    </tr>\n",
       "    <tr>\n",
       "      <th>49</th>\n",
       "      <td>0</td>\n",
       "      <td>0</td>\n",
       "      <td>0</td>\n",
       "      <td>0</td>\n",
       "      <td>0</td>\n",
       "      <td>0</td>\n",
       "      <td>0</td>\n",
       "      <td>0</td>\n",
       "      <td>0</td>\n",
       "      <td>0</td>\n",
       "      <td>0</td>\n",
       "      <td>0</td>\n",
       "    </tr>\n",
       "    <tr>\n",
       "      <th>50</th>\n",
       "      <td>0</td>\n",
       "      <td>0</td>\n",
       "      <td>0</td>\n",
       "      <td>0</td>\n",
       "      <td>0</td>\n",
       "      <td>0</td>\n",
       "      <td>0</td>\n",
       "      <td>0</td>\n",
       "      <td>0</td>\n",
       "      <td>0</td>\n",
       "      <td>0</td>\n",
       "      <td>0</td>\n",
       "    </tr>\n",
       "    <tr>\n",
       "      <th>51</th>\n",
       "      <td>0</td>\n",
       "      <td>0</td>\n",
       "      <td>0</td>\n",
       "      <td>0</td>\n",
       "      <td>0</td>\n",
       "      <td>0</td>\n",
       "      <td>0</td>\n",
       "      <td>0</td>\n",
       "      <td>0</td>\n",
       "      <td>17</td>\n",
       "      <td>36</td>\n",
       "      <td>6</td>\n",
       "    </tr>\n",
       "    <tr>\n",
       "      <th>52</th>\n",
       "      <td>0</td>\n",
       "      <td>0</td>\n",
       "      <td>0</td>\n",
       "      <td>0</td>\n",
       "      <td>0</td>\n",
       "      <td>0</td>\n",
       "      <td>0</td>\n",
       "      <td>0</td>\n",
       "      <td>0</td>\n",
       "      <td>0</td>\n",
       "      <td>0</td>\n",
       "      <td>16</td>\n",
       "    </tr>\n",
       "    <tr>\n",
       "      <th>53</th>\n",
       "      <td>0</td>\n",
       "      <td>0</td>\n",
       "      <td>0</td>\n",
       "      <td>0</td>\n",
       "      <td>0</td>\n",
       "      <td>0</td>\n",
       "      <td>0</td>\n",
       "      <td>0</td>\n",
       "      <td>0</td>\n",
       "      <td>0</td>\n",
       "      <td>0</td>\n",
       "      <td>0</td>\n",
       "    </tr>\n",
       "    <tr>\n",
       "      <th>54</th>\n",
       "      <td>0</td>\n",
       "      <td>0</td>\n",
       "      <td>0</td>\n",
       "      <td>0</td>\n",
       "      <td>0</td>\n",
       "      <td>0</td>\n",
       "      <td>0</td>\n",
       "      <td>0</td>\n",
       "      <td>0</td>\n",
       "      <td>0</td>\n",
       "      <td>0</td>\n",
       "      <td>0</td>\n",
       "    </tr>\n",
       "  </tbody>\n",
       "</table>\n",
       "</div>"
      ],
      "text/plain": [
       "    1시  2시  3시  4시  5시  6시  7시  8시  9시  10시  11시  12시\n",
       "0    0   0   0   0   0   0   0   0   0    0    0    0\n",
       "1    0   0   0   0   0   0   0   0   0    0    0    0\n",
       "2    0   0   0   0   0   0   0   0   0    0    0    0\n",
       "3    0   0   0   0   0   0   0   0   0    0    0    0\n",
       "4    0   0   0   0   0   0   0   0   0    0    0    3\n",
       "5    0   0   0   0   0   0   0   0   0    0    0    0\n",
       "6    0   0   0   0   0   0   0   0   0    0    3   41\n",
       "7    0   0   0   0   0   0   0   0   0    0    0    0\n",
       "8    0   0   0   0   0   0   0   0   0    0    0    0\n",
       "9    0   0   0   0   0   0   0   0   0    0    0   29\n",
       "10   0   0   0   0   0   0   0   0   0    0    0    3\n",
       "11   0   0   0   0   0   0   0   0   0    0    7   87\n",
       "12   0   0   0   0   0   0   0   0   0    0    0    1\n",
       "13   0   0   0   0   0   0   0   0   0    0    0    0\n",
       "14   0   0   0   0   0   0   0   0   0    0    0    0\n",
       "15   0   0   0   0   0   0   0   0   0    0    0   40\n",
       "16   0   0   0   0   0   0   0   0   0    0   22   56\n",
       "17   0   0   0   0   0   0   0   0   0    0    0   14\n",
       "18   0   0   0   0   0   0   0   0   0    2   33   62\n",
       "19   0   0   0   0   0   0   0   0   0    0    0   29\n",
       "20   0   0   0   0   0   0   0   0   0    0    3   26\n",
       "21   0   0   0   0   0   0   0   0   0    0    0    0\n",
       "22   0   0   0   0   0   0   0   0   0    0    0    0\n",
       "23   0   0   0   0   0   0   0   0   0    0    0    0\n",
       "24   0   0   0   0   0   0   0   0   0   58  115  150\n",
       "25   0   0   0   0   0   0   0   0   0    0   39  101\n",
       "26   0   0   0   0   0   0   0   0   0    0    0    0\n",
       "27   0   0   0   0   0   0   0   0   0    0    0    0\n",
       "28   0   0   0   0   0   0   0   0   0    0    0    0\n",
       "29   0   0   0   0   0   0   0   0   0    0    3   28\n",
       "30   0   0   0   0   0   0   0   0   0    0    0    0\n",
       "31   0   0   0   0   0   0   0   0   0    0    0   33\n",
       "32   0   0   0   0   0   0   0   0   0    0    0    9\n",
       "33   0   0   0   0   0   0   0   0   0    0    2    5\n",
       "34   0   0   0   0   0   0   0   0   0    0    0   25\n",
       "35   0   0   0   0   0   0   0   0   0    0   27   62\n",
       "36   0   0   0   0   0   0   0   0   0    0   37   56\n",
       "37   0   0   0   0   0   0   0   0   0    0    0    0\n",
       "38   0   0   0   0   0   0   0   0   0    0    2   94\n",
       "39   0   0   0   0   0   0   0   0   0    0   32  141\n",
       "40   0   0   0   0   0   0   0   0  14   92  144  162\n",
       "41   0   0   0   0   0   0   0   0   0    0    0    0\n",
       "42   0   0   0   0   0   0   0   0   0    0    0   26\n",
       "43   0   0   0   0   0   0   0   0   0    0    0   10\n",
       "44   0   0   0   0   0   0   0   0   0    0    0    0\n",
       "45   0   0   0   0   0   0   0   0   0    0    0    6\n",
       "46   0   0   0   0   0   0   0   0   0    0    3   70\n",
       "47   0   0   0   0   0   0   0   0  32   76  151  159\n",
       "48   0   0   0   0   0   0   0   0   0    8   37   71\n",
       "49   0   0   0   0   0   0   0   0   0    0    0    0\n",
       "50   0   0   0   0   0   0   0   0   0    0    0    0\n",
       "51   0   0   0   0   0   0   0   0   0   17   36    6\n",
       "52   0   0   0   0   0   0   0   0   0    0    0   16\n",
       "53   0   0   0   0   0   0   0   0   0    0    0    0\n",
       "54   0   0   0   0   0   0   0   0   0    0    0    0"
      ]
     },
     "execution_count": 118,
     "metadata": {},
     "output_type": "execute_result"
    }
   ],
   "source": [
    "s_am = s_jeju.loc[:,'1시':'12시']\n",
    "s_am"
   ]
  },
  {
   "cell_type": "code",
   "execution_count": 97,
   "id": "f4bede08",
   "metadata": {},
   "outputs": [],
   "source": [
    "jeju_A = jeju[jeju['일자'] == '2021-01-13']\n",
    "jeju_B = jeju.loc[63]"
   ]
  },
  {
   "cell_type": "code",
   "execution_count": 103,
   "id": "bf1e716c",
   "metadata": {},
   "outputs": [],
   "source": [
    "A = jeju_A.loc[:,'1시':'24시'].T[0]"
   ]
  },
  {
   "cell_type": "code",
   "execution_count": 85,
   "id": "eda17e9f",
   "metadata": {},
   "outputs": [
    {
     "name": "stdout",
     "output_type": "stream",
     "text": [
      "01\n",
      "01\n",
      "01\n",
      "01\n",
      "01\n",
      "01\n",
      "01\n",
      "01\n",
      "01\n",
      "02\n",
      "02\n",
      "02\n",
      "02\n",
      "02\n",
      "02\n",
      "02\n",
      "02\n",
      "02\n",
      "02\n",
      "03\n",
      "03\n",
      "03\n",
      "03\n",
      "03\n",
      "03\n",
      "03\n",
      "03\n",
      "03\n",
      "03\n",
      "03\n",
      "04\n",
      "04\n",
      "04\n",
      "04\n",
      "04\n",
      "04\n",
      "04\n",
      "04\n",
      "04\n",
      "04\n",
      "04\n",
      "04\n",
      "04\n",
      "04\n",
      "04\n",
      "04\n",
      "05\n",
      "05\n",
      "05\n",
      "05\n",
      "05\n",
      "05\n",
      "05\n",
      "05\n",
      "05\n"
     ]
    }
   ],
   "source": [
    "if int(i[5:7])<=6: #상반기\n",
    "    "
   ]
  },
  {
   "cell_type": "code",
   "execution_count": 108,
   "id": "ba8ec276",
   "metadata": {},
   "outputs": [],
   "source": [
    "B = jeju_B.iloc[2:-2]"
   ]
  },
  {
   "cell_type": "code",
   "execution_count": 106,
   "id": "b49d48b6",
   "metadata": {},
   "outputs": [
    {
     "data": {
      "text/plain": [
       "1시      0.0\n",
       "2시      0.0\n",
       "3시      0.0\n",
       "4시      0.0\n",
       "5시      0.0\n",
       "6시      0.0\n",
       "7시      0.0\n",
       "8시      0.0\n",
       "9시      0.0\n",
       "10시     0.0\n",
       "11시     0.0\n",
       "12시     0.0\n",
       "13시    12.0\n",
       "14시    28.0\n",
       "15시    25.0\n",
       "16시     0.0\n",
       "17시     0.0\n",
       "18시     0.0\n",
       "19시     0.0\n",
       "20시     0.0\n",
       "21시     0.0\n",
       "22시     0.0\n",
       "23시     0.0\n",
       "24시     0.0\n",
       "Name: 0, dtype: float64"
      ]
     },
     "execution_count": 106,
     "metadata": {},
     "output_type": "execute_result"
    }
   ],
   "source": [
    "A"
   ]
  },
  {
   "cell_type": "code",
   "execution_count": 109,
   "id": "cbd80c1e",
   "metadata": {},
   "outputs": [
    {
     "data": {
      "text/plain": [
       "1시        0\n",
       "2시        0\n",
       "3시        0\n",
       "4시        0\n",
       "5시        0\n",
       "6시        0\n",
       "7시        0\n",
       "8시        0\n",
       "9시        0\n",
       "10시       0\n",
       "11시       0\n",
       "12시       7\n",
       "13시      36\n",
       "14시    28.0\n",
       "15시     1.0\n",
       "16시       0\n",
       "17시       0\n",
       "18시       0\n",
       "19시       0\n",
       "20시       0\n",
       "21시       0\n",
       "22시       0\n",
       "23시       0\n",
       "24시       0\n",
       "Name: 63, dtype: object"
      ]
     },
     "execution_count": 109,
     "metadata": {},
     "output_type": "execute_result"
    }
   ],
   "source": [
    "B"
   ]
  },
  {
   "cell_type": "code",
   "execution_count": 110,
   "id": "5a6db3a1",
   "metadata": {},
   "outputs": [
    {
     "data": {
      "text/plain": [
       "TtestResult(statistic=-0.19790387226771936, pvalue=0.8448589917330263, df=23)"
      ]
     },
     "execution_count": 110,
     "metadata": {},
     "output_type": "execute_result"
    }
   ],
   "source": [
    "stats.ttest_rel(A,B)"
   ]
  },
  {
   "cell_type": "markdown",
   "id": "d76d7e87",
   "metadata": {},
   "source": [
    "차이가 없다\n",
    "ttest 적합하지 않다"
   ]
  },
  {
   "cell_type": "code",
   "execution_count": null,
   "id": "be619010",
   "metadata": {},
   "outputs": [],
   "source": []
  },
  {
   "cell_type": "code",
   "execution_count": 112,
   "id": "51e95500",
   "metadata": {},
   "outputs": [],
   "source": [
    "jeju2 = jeju.loc[:,'1시':'24시']"
   ]
  },
  {
   "cell_type": "code",
   "execution_count": 115,
   "id": "8d703dc5",
   "metadata": {},
   "outputs": [],
   "source": [
    "jeju_mean = jeju2.mean().mean()"
   ]
  },
  {
   "cell_type": "code",
   "execution_count": 120,
   "id": "7be78489",
   "metadata": {},
   "outputs": [],
   "source": [
    "m = jeju['일자'].apply(lambda x: True if int(x.split('-')[1]) < 7 else False)"
   ]
  },
  {
   "cell_type": "code",
   "execution_count": 122,
   "id": "83a1c776",
   "metadata": {},
   "outputs": [],
   "source": [
    "x =jeju2.loc[m, '1시':'12시'] #상반기 오전\n",
    "y = jeju2.loc[m, '13시':] # 상반기 오후\n",
    "z = jeju2.loc[-m, '1시':'12시'] #하반기 오전\n",
    "w = jeju2.loc[-m, '13시':] #하반기 오후"
   ]
  },
  {
   "cell_type": "code",
   "execution_count": 138,
   "id": "39a3cb5d",
   "metadata": {},
   "outputs": [],
   "source": [
    "for i in ['x', 'y', 'z', 'w']:\n",
    "    globals()[i] = (globals()[i] >= jeju_mean).sum().sum()"
   ]
  },
  {
   "cell_type": "code",
   "execution_count": 145,
   "id": "874b1b11",
   "metadata": {},
   "outputs": [],
   "source": [
    "jeju_matrix = pd.DataFrame([[x,y],[z,w]],\n",
    "                           columns=['오전','오후'],\n",
    "                           index=['상반기','하반기'])"
   ]
  },
  {
   "cell_type": "code",
   "execution_count": 146,
   "id": "ff5dff17",
   "metadata": {},
   "outputs": [
    {
     "data": {
      "text/html": [
       "<div>\n",
       "<style scoped>\n",
       "    .dataframe tbody tr th:only-of-type {\n",
       "        vertical-align: middle;\n",
       "    }\n",
       "\n",
       "    .dataframe tbody tr th {\n",
       "        vertical-align: top;\n",
       "    }\n",
       "\n",
       "    .dataframe thead th {\n",
       "        text-align: right;\n",
       "    }\n",
       "</style>\n",
       "<table border=\"1\" class=\"dataframe\">\n",
       "  <thead>\n",
       "    <tr style=\"text-align: right;\">\n",
       "      <th></th>\n",
       "      <th>오전</th>\n",
       "      <th>오후</th>\n",
       "    </tr>\n",
       "  </thead>\n",
       "  <tbody>\n",
       "    <tr>\n",
       "      <th>상반기</th>\n",
       "      <td>44</td>\n",
       "      <td>135</td>\n",
       "    </tr>\n",
       "    <tr>\n",
       "      <th>하반기</th>\n",
       "      <td>11</td>\n",
       "      <td>20</td>\n",
       "    </tr>\n",
       "  </tbody>\n",
       "</table>\n",
       "</div>"
      ],
      "text/plain": [
       "     오전   오후\n",
       "상반기  44  135\n",
       "하반기  11   20"
      ]
     },
     "execution_count": 146,
     "metadata": {},
     "output_type": "execute_result"
    }
   ],
   "source": [
    "jeju_matrix"
   ]
  },
  {
   "cell_type": "code",
   "execution_count": 148,
   "id": "b7b44c20",
   "metadata": {},
   "outputs": [
    {
     "data": {
      "text/plain": [
       "0.2921223888706804"
      ]
     },
     "execution_count": 148,
     "metadata": {},
     "output_type": "execute_result"
    }
   ],
   "source": [
    "stats.chi2_contingency(jeju_matrix)[1]"
   ]
  },
  {
   "cell_type": "markdown",
   "id": "4e4301dd",
   "metadata": {},
   "source": [
    "유의수준 0.05이하에서 통계적으로 차이 없다"
   ]
  },
  {
   "cell_type": "code",
   "execution_count": 137,
   "id": "1ee8eb7f",
   "metadata": {},
   "outputs": [
    {
     "data": {
      "text/plain": [
       "789"
      ]
     },
     "execution_count": 137,
     "metadata": {},
     "output_type": "execute_result"
    }
   ],
   "source": [
    "# globals()['xx']"
   ]
  },
  {
   "cell_type": "code",
   "execution_count": 154,
   "id": "58763b40",
   "metadata": {},
   "outputs": [
    {
     "data": {
      "text/html": [
       "<div>\n",
       "<style scoped>\n",
       "    .dataframe tbody tr th:only-of-type {\n",
       "        vertical-align: middle;\n",
       "    }\n",
       "\n",
       "    .dataframe tbody tr th {\n",
       "        vertical-align: top;\n",
       "    }\n",
       "\n",
       "    .dataframe thead th {\n",
       "        text-align: right;\n",
       "    }\n",
       "</style>\n",
       "<table border=\"1\" class=\"dataframe\">\n",
       "  <thead>\n",
       "    <tr style=\"text-align: right;\">\n",
       "      <th></th>\n",
       "      <th>연도구분</th>\n",
       "      <th>지역구분</th>\n",
       "      <th>소재지명</th>\n",
       "      <th>재산구분</th>\n",
       "      <th>공부지목</th>\n",
       "      <th>대장면적(제곱미터)</th>\n",
       "      <th>대장금액(원)</th>\n",
       "      <th>처분구분명</th>\n",
       "      <th>계약일자</th>\n",
       "      <th>부점명</th>\n",
       "      <th>팀명</th>\n",
       "    </tr>\n",
       "  </thead>\n",
       "  <tbody>\n",
       "    <tr>\n",
       "      <th>0</th>\n",
       "      <td>2014</td>\n",
       "      <td>전라북도</td>\n",
       "      <td>전라북도 정읍시 상동  725</td>\n",
       "      <td>토지</td>\n",
       "      <td>전</td>\n",
       "      <td>56.0</td>\n",
       "      <td>9968000.0</td>\n",
       "      <td>처분(매각수의)</td>\n",
       "      <td>2014-01-01</td>\n",
       "      <td>전북지역본부</td>\n",
       "      <td>국유재산관리1팀</td>\n",
       "    </tr>\n",
       "    <tr>\n",
       "      <th>1</th>\n",
       "      <td>2014</td>\n",
       "      <td>울산광역시</td>\n",
       "      <td>울산광역시 북구 천곡동  709-1</td>\n",
       "      <td>토지</td>\n",
       "      <td>임야</td>\n",
       "      <td>225.0</td>\n",
       "      <td>13770000.0</td>\n",
       "      <td>처분(매각수의)</td>\n",
       "      <td>2014-01-01</td>\n",
       "      <td>국유재산관리부</td>\n",
       "      <td>국유울산팀</td>\n",
       "    </tr>\n",
       "    <tr>\n",
       "      <th>2</th>\n",
       "      <td>2014</td>\n",
       "      <td>전라북도</td>\n",
       "      <td>전라북도 정읍시 산내면 종성리 727-21</td>\n",
       "      <td>토지</td>\n",
       "      <td>답</td>\n",
       "      <td>105.0</td>\n",
       "      <td>1075200.0</td>\n",
       "      <td>처분(매각수의)</td>\n",
       "      <td>2014-01-01</td>\n",
       "      <td>전북지역본부</td>\n",
       "      <td>국유재산관리1팀</td>\n",
       "    </tr>\n",
       "    <tr>\n",
       "      <th>3</th>\n",
       "      <td>2014</td>\n",
       "      <td>전라북도</td>\n",
       "      <td>전라북도 정읍시 산내면 종성리 727-16</td>\n",
       "      <td>토지</td>\n",
       "      <td>답</td>\n",
       "      <td>184.0</td>\n",
       "      <td>1884160.0</td>\n",
       "      <td>처분(매각수의)</td>\n",
       "      <td>2014-01-01</td>\n",
       "      <td>전북지역본부</td>\n",
       "      <td>국유재산관리1팀</td>\n",
       "    </tr>\n",
       "    <tr>\n",
       "      <th>4</th>\n",
       "      <td>2014</td>\n",
       "      <td>전라북도</td>\n",
       "      <td>전라북도 김제시 검산동  424-3</td>\n",
       "      <td>토지</td>\n",
       "      <td>전</td>\n",
       "      <td>2106.0</td>\n",
       "      <td>23797800.0</td>\n",
       "      <td>처분(매각수의)</td>\n",
       "      <td>2014-01-01</td>\n",
       "      <td>전북지역본부</td>\n",
       "      <td>국유재산관리2팀</td>\n",
       "    </tr>\n",
       "    <tr>\n",
       "      <th>...</th>\n",
       "      <td>...</td>\n",
       "      <td>...</td>\n",
       "      <td>...</td>\n",
       "      <td>...</td>\n",
       "      <td>...</td>\n",
       "      <td>...</td>\n",
       "      <td>...</td>\n",
       "      <td>...</td>\n",
       "      <td>...</td>\n",
       "      <td>...</td>\n",
       "      <td>...</td>\n",
       "    </tr>\n",
       "    <tr>\n",
       "      <th>141312</th>\n",
       "      <td>2022</td>\n",
       "      <td>제주특별자치도</td>\n",
       "      <td>제주특별자치도 서귀포시 표선면 하천리 1500-4</td>\n",
       "      <td>토지</td>\n",
       "      <td>임야</td>\n",
       "      <td>208.0</td>\n",
       "      <td>29952000.0</td>\n",
       "      <td>처분(매각수의)</td>\n",
       "      <td>2022-11-09</td>\n",
       "      <td>광주전남지역본부</td>\n",
       "      <td>국유제주지사</td>\n",
       "    </tr>\n",
       "    <tr>\n",
       "      <th>141313</th>\n",
       "      <td>2022</td>\n",
       "      <td>제주특별자치도</td>\n",
       "      <td>제주특별자치도 서귀포시 표선면 세화리 2451-3</td>\n",
       "      <td>토지</td>\n",
       "      <td>전</td>\n",
       "      <td>1257.0</td>\n",
       "      <td>56062200.0</td>\n",
       "      <td>처분(매각수의)</td>\n",
       "      <td>2022-12-29</td>\n",
       "      <td>광주전남지역본부</td>\n",
       "      <td>국유제주지사</td>\n",
       "    </tr>\n",
       "    <tr>\n",
       "      <th>141314</th>\n",
       "      <td>2022</td>\n",
       "      <td>제주특별자치도</td>\n",
       "      <td>제주특별자치도 서귀포시 표선면 세화리 2451-10</td>\n",
       "      <td>토지</td>\n",
       "      <td>전</td>\n",
       "      <td>2974.0</td>\n",
       "      <td>132640400.0</td>\n",
       "      <td>처분(매각수의)</td>\n",
       "      <td>2022-12-29</td>\n",
       "      <td>광주전남지역본부</td>\n",
       "      <td>국유제주지사</td>\n",
       "    </tr>\n",
       "    <tr>\n",
       "      <th>141315</th>\n",
       "      <td>2022</td>\n",
       "      <td>제주특별자치도</td>\n",
       "      <td>제주특별자치도 서귀포시 표선면 토산리 32-3</td>\n",
       "      <td>토지</td>\n",
       "      <td>유지</td>\n",
       "      <td>80.0</td>\n",
       "      <td>32160000.0</td>\n",
       "      <td>처분(매각수의)</td>\n",
       "      <td>2022-08-04</td>\n",
       "      <td>광주전남지역본부</td>\n",
       "      <td>국유제주지사</td>\n",
       "    </tr>\n",
       "    <tr>\n",
       "      <th>141316</th>\n",
       "      <td>2022</td>\n",
       "      <td>제주특별자치도</td>\n",
       "      <td>제주특별자치도 서귀포시 표선면 토산리 1033</td>\n",
       "      <td>토지</td>\n",
       "      <td>묘지</td>\n",
       "      <td>178.0</td>\n",
       "      <td>2776800.0</td>\n",
       "      <td>처분(매각수의)</td>\n",
       "      <td>2022-11-22</td>\n",
       "      <td>광주전남지역본부</td>\n",
       "      <td>국유제주지사</td>\n",
       "    </tr>\n",
       "  </tbody>\n",
       "</table>\n",
       "<p>141317 rows × 11 columns</p>\n",
       "</div>"
      ],
      "text/plain": [
       "        연도구분     지역구분                          소재지명 재산구분 공부지목  대장면적(제곱미터)  \\\n",
       "0       2014     전라북도              전라북도 정읍시 상동  725   토지    전        56.0   \n",
       "1       2014    울산광역시           울산광역시 북구 천곡동  709-1   토지   임야       225.0   \n",
       "2       2014     전라북도       전라북도 정읍시 산내면 종성리 727-21   토지    답       105.0   \n",
       "3       2014     전라북도       전라북도 정읍시 산내면 종성리 727-16   토지    답       184.0   \n",
       "4       2014     전라북도           전라북도 김제시 검산동  424-3   토지    전      2106.0   \n",
       "...      ...      ...                           ...  ...  ...         ...   \n",
       "141312  2022  제주특별자치도   제주특별자치도 서귀포시 표선면 하천리 1500-4   토지   임야       208.0   \n",
       "141313  2022  제주특별자치도   제주특별자치도 서귀포시 표선면 세화리 2451-3   토지    전      1257.0   \n",
       "141314  2022  제주특별자치도  제주특별자치도 서귀포시 표선면 세화리 2451-10   토지    전      2974.0   \n",
       "141315  2022  제주특별자치도     제주특별자치도 서귀포시 표선면 토산리 32-3   토지   유지        80.0   \n",
       "141316  2022  제주특별자치도     제주특별자치도 서귀포시 표선면 토산리 1033   토지   묘지       178.0   \n",
       "\n",
       "            대장금액(원)     처분구분명        계약일자       부점명        팀명  \n",
       "0         9968000.0  처분(매각수의)  2014-01-01    전북지역본부  국유재산관리1팀  \n",
       "1        13770000.0  처분(매각수의)  2014-01-01   국유재산관리부     국유울산팀  \n",
       "2         1075200.0  처분(매각수의)  2014-01-01    전북지역본부  국유재산관리1팀  \n",
       "3         1884160.0  처분(매각수의)  2014-01-01    전북지역본부  국유재산관리1팀  \n",
       "4        23797800.0  처분(매각수의)  2014-01-01    전북지역본부  국유재산관리2팀  \n",
       "...             ...       ...         ...       ...       ...  \n",
       "141312   29952000.0  처분(매각수의)  2022-11-09  광주전남지역본부    국유제주지사  \n",
       "141313   56062200.0  처분(매각수의)  2022-12-29  광주전남지역본부    국유제주지사  \n",
       "141314  132640400.0  처분(매각수의)  2022-12-29  광주전남지역본부    국유제주지사  \n",
       "141315   32160000.0  처분(매각수의)  2022-08-04  광주전남지역본부    국유제주지사  \n",
       "141316    2776800.0  처분(매각수의)  2022-11-22  광주전남지역본부    국유제주지사  \n",
       "\n",
       "[141317 rows x 11 columns]"
      ]
     },
     "execution_count": 154,
     "metadata": {},
     "output_type": "execute_result"
    }
   ],
   "source": [
    "df"
   ]
  },
  {
   "cell_type": "code",
   "execution_count": 170,
   "id": "1ca196ee",
   "metadata": {},
   "outputs": [
    {
     "data": {
      "application/vnd.plotly.v1+json": {
       "config": {
        "plotlyServerURL": "https://plot.ly"
       },
       "data": [
        {
         "domain": {
          "x": [
           0,
           1
          ],
          "y": [
           0,
           1
          ]
         },
         "hovertemplate": "country=%{label}<br>pop=%{value}<extra></extra>",
         "labels": [
          "Albania",
          "Austria",
          "Belgium",
          "Bosnia and Herzegovina",
          "Bulgaria",
          "Croatia",
          "Czech Republic",
          "Denmark",
          "Finland",
          "France",
          "Germany",
          "Greece",
          "Hungary",
          "Other countries",
          "Ireland",
          "Italy",
          "Other countries",
          "Netherlands",
          "Norway",
          "Poland",
          "Portugal",
          "Romania",
          "Serbia",
          "Slovak Republic",
          "Slovenia",
          "Spain",
          "Sweden",
          "Switzerland",
          "Turkey",
          "United Kingdom"
         ],
         "legendgroup": "",
         "name": "",
         "showlegend": true,
         "type": "pie",
         "values": [
          3600523,
          8199783,
          10392226,
          4552198,
          7322858,
          4493312,
          10228744,
          5468120,
          5238460,
          61083916,
          82400996,
          10706290,
          9956108,
          301931,
          4109086,
          58147733,
          684736,
          16570613,
          4627926,
          38518241,
          10642836,
          22276056,
          10150265,
          5447502,
          2009245,
          40448191,
          9031088,
          7554661,
          71158647,
          60776238
         ]
        }
       ],
       "layout": {
        "legend": {
         "tracegroupgap": 0
        },
        "template": {
         "data": {
          "bar": [
           {
            "error_x": {
             "color": "#2a3f5f"
            },
            "error_y": {
             "color": "#2a3f5f"
            },
            "marker": {
             "line": {
              "color": "#E5ECF6",
              "width": 0.5
             },
             "pattern": {
              "fillmode": "overlay",
              "size": 10,
              "solidity": 0.2
             }
            },
            "type": "bar"
           }
          ],
          "barpolar": [
           {
            "marker": {
             "line": {
              "color": "#E5ECF6",
              "width": 0.5
             },
             "pattern": {
              "fillmode": "overlay",
              "size": 10,
              "solidity": 0.2
             }
            },
            "type": "barpolar"
           }
          ],
          "carpet": [
           {
            "aaxis": {
             "endlinecolor": "#2a3f5f",
             "gridcolor": "white",
             "linecolor": "white",
             "minorgridcolor": "white",
             "startlinecolor": "#2a3f5f"
            },
            "baxis": {
             "endlinecolor": "#2a3f5f",
             "gridcolor": "white",
             "linecolor": "white",
             "minorgridcolor": "white",
             "startlinecolor": "#2a3f5f"
            },
            "type": "carpet"
           }
          ],
          "choropleth": [
           {
            "colorbar": {
             "outlinewidth": 0,
             "ticks": ""
            },
            "type": "choropleth"
           }
          ],
          "contour": [
           {
            "colorbar": {
             "outlinewidth": 0,
             "ticks": ""
            },
            "colorscale": [
             [
              0,
              "#0d0887"
             ],
             [
              0.1111111111111111,
              "#46039f"
             ],
             [
              0.2222222222222222,
              "#7201a8"
             ],
             [
              0.3333333333333333,
              "#9c179e"
             ],
             [
              0.4444444444444444,
              "#bd3786"
             ],
             [
              0.5555555555555556,
              "#d8576b"
             ],
             [
              0.6666666666666666,
              "#ed7953"
             ],
             [
              0.7777777777777778,
              "#fb9f3a"
             ],
             [
              0.8888888888888888,
              "#fdca26"
             ],
             [
              1,
              "#f0f921"
             ]
            ],
            "type": "contour"
           }
          ],
          "contourcarpet": [
           {
            "colorbar": {
             "outlinewidth": 0,
             "ticks": ""
            },
            "type": "contourcarpet"
           }
          ],
          "heatmap": [
           {
            "colorbar": {
             "outlinewidth": 0,
             "ticks": ""
            },
            "colorscale": [
             [
              0,
              "#0d0887"
             ],
             [
              0.1111111111111111,
              "#46039f"
             ],
             [
              0.2222222222222222,
              "#7201a8"
             ],
             [
              0.3333333333333333,
              "#9c179e"
             ],
             [
              0.4444444444444444,
              "#bd3786"
             ],
             [
              0.5555555555555556,
              "#d8576b"
             ],
             [
              0.6666666666666666,
              "#ed7953"
             ],
             [
              0.7777777777777778,
              "#fb9f3a"
             ],
             [
              0.8888888888888888,
              "#fdca26"
             ],
             [
              1,
              "#f0f921"
             ]
            ],
            "type": "heatmap"
           }
          ],
          "heatmapgl": [
           {
            "colorbar": {
             "outlinewidth": 0,
             "ticks": ""
            },
            "colorscale": [
             [
              0,
              "#0d0887"
             ],
             [
              0.1111111111111111,
              "#46039f"
             ],
             [
              0.2222222222222222,
              "#7201a8"
             ],
             [
              0.3333333333333333,
              "#9c179e"
             ],
             [
              0.4444444444444444,
              "#bd3786"
             ],
             [
              0.5555555555555556,
              "#d8576b"
             ],
             [
              0.6666666666666666,
              "#ed7953"
             ],
             [
              0.7777777777777778,
              "#fb9f3a"
             ],
             [
              0.8888888888888888,
              "#fdca26"
             ],
             [
              1,
              "#f0f921"
             ]
            ],
            "type": "heatmapgl"
           }
          ],
          "histogram": [
           {
            "marker": {
             "pattern": {
              "fillmode": "overlay",
              "size": 10,
              "solidity": 0.2
             }
            },
            "type": "histogram"
           }
          ],
          "histogram2d": [
           {
            "colorbar": {
             "outlinewidth": 0,
             "ticks": ""
            },
            "colorscale": [
             [
              0,
              "#0d0887"
             ],
             [
              0.1111111111111111,
              "#46039f"
             ],
             [
              0.2222222222222222,
              "#7201a8"
             ],
             [
              0.3333333333333333,
              "#9c179e"
             ],
             [
              0.4444444444444444,
              "#bd3786"
             ],
             [
              0.5555555555555556,
              "#d8576b"
             ],
             [
              0.6666666666666666,
              "#ed7953"
             ],
             [
              0.7777777777777778,
              "#fb9f3a"
             ],
             [
              0.8888888888888888,
              "#fdca26"
             ],
             [
              1,
              "#f0f921"
             ]
            ],
            "type": "histogram2d"
           }
          ],
          "histogram2dcontour": [
           {
            "colorbar": {
             "outlinewidth": 0,
             "ticks": ""
            },
            "colorscale": [
             [
              0,
              "#0d0887"
             ],
             [
              0.1111111111111111,
              "#46039f"
             ],
             [
              0.2222222222222222,
              "#7201a8"
             ],
             [
              0.3333333333333333,
              "#9c179e"
             ],
             [
              0.4444444444444444,
              "#bd3786"
             ],
             [
              0.5555555555555556,
              "#d8576b"
             ],
             [
              0.6666666666666666,
              "#ed7953"
             ],
             [
              0.7777777777777778,
              "#fb9f3a"
             ],
             [
              0.8888888888888888,
              "#fdca26"
             ],
             [
              1,
              "#f0f921"
             ]
            ],
            "type": "histogram2dcontour"
           }
          ],
          "mesh3d": [
           {
            "colorbar": {
             "outlinewidth": 0,
             "ticks": ""
            },
            "type": "mesh3d"
           }
          ],
          "parcoords": [
           {
            "line": {
             "colorbar": {
              "outlinewidth": 0,
              "ticks": ""
             }
            },
            "type": "parcoords"
           }
          ],
          "pie": [
           {
            "automargin": true,
            "type": "pie"
           }
          ],
          "scatter": [
           {
            "fillpattern": {
             "fillmode": "overlay",
             "size": 10,
             "solidity": 0.2
            },
            "type": "scatter"
           }
          ],
          "scatter3d": [
           {
            "line": {
             "colorbar": {
              "outlinewidth": 0,
              "ticks": ""
             }
            },
            "marker": {
             "colorbar": {
              "outlinewidth": 0,
              "ticks": ""
             }
            },
            "type": "scatter3d"
           }
          ],
          "scattercarpet": [
           {
            "marker": {
             "colorbar": {
              "outlinewidth": 0,
              "ticks": ""
             }
            },
            "type": "scattercarpet"
           }
          ],
          "scattergeo": [
           {
            "marker": {
             "colorbar": {
              "outlinewidth": 0,
              "ticks": ""
             }
            },
            "type": "scattergeo"
           }
          ],
          "scattergl": [
           {
            "marker": {
             "colorbar": {
              "outlinewidth": 0,
              "ticks": ""
             }
            },
            "type": "scattergl"
           }
          ],
          "scattermapbox": [
           {
            "marker": {
             "colorbar": {
              "outlinewidth": 0,
              "ticks": ""
             }
            },
            "type": "scattermapbox"
           }
          ],
          "scatterpolar": [
           {
            "marker": {
             "colorbar": {
              "outlinewidth": 0,
              "ticks": ""
             }
            },
            "type": "scatterpolar"
           }
          ],
          "scatterpolargl": [
           {
            "marker": {
             "colorbar": {
              "outlinewidth": 0,
              "ticks": ""
             }
            },
            "type": "scatterpolargl"
           }
          ],
          "scatterternary": [
           {
            "marker": {
             "colorbar": {
              "outlinewidth": 0,
              "ticks": ""
             }
            },
            "type": "scatterternary"
           }
          ],
          "surface": [
           {
            "colorbar": {
             "outlinewidth": 0,
             "ticks": ""
            },
            "colorscale": [
             [
              0,
              "#0d0887"
             ],
             [
              0.1111111111111111,
              "#46039f"
             ],
             [
              0.2222222222222222,
              "#7201a8"
             ],
             [
              0.3333333333333333,
              "#9c179e"
             ],
             [
              0.4444444444444444,
              "#bd3786"
             ],
             [
              0.5555555555555556,
              "#d8576b"
             ],
             [
              0.6666666666666666,
              "#ed7953"
             ],
             [
              0.7777777777777778,
              "#fb9f3a"
             ],
             [
              0.8888888888888888,
              "#fdca26"
             ],
             [
              1,
              "#f0f921"
             ]
            ],
            "type": "surface"
           }
          ],
          "table": [
           {
            "cells": {
             "fill": {
              "color": "#EBF0F8"
             },
             "line": {
              "color": "white"
             }
            },
            "header": {
             "fill": {
              "color": "#C8D4E3"
             },
             "line": {
              "color": "white"
             }
            },
            "type": "table"
           }
          ]
         },
         "layout": {
          "annotationdefaults": {
           "arrowcolor": "#2a3f5f",
           "arrowhead": 0,
           "arrowwidth": 1
          },
          "autotypenumbers": "strict",
          "coloraxis": {
           "colorbar": {
            "outlinewidth": 0,
            "ticks": ""
           }
          },
          "colorscale": {
           "diverging": [
            [
             0,
             "#8e0152"
            ],
            [
             0.1,
             "#c51b7d"
            ],
            [
             0.2,
             "#de77ae"
            ],
            [
             0.3,
             "#f1b6da"
            ],
            [
             0.4,
             "#fde0ef"
            ],
            [
             0.5,
             "#f7f7f7"
            ],
            [
             0.6,
             "#e6f5d0"
            ],
            [
             0.7,
             "#b8e186"
            ],
            [
             0.8,
             "#7fbc41"
            ],
            [
             0.9,
             "#4d9221"
            ],
            [
             1,
             "#276419"
            ]
           ],
           "sequential": [
            [
             0,
             "#0d0887"
            ],
            [
             0.1111111111111111,
             "#46039f"
            ],
            [
             0.2222222222222222,
             "#7201a8"
            ],
            [
             0.3333333333333333,
             "#9c179e"
            ],
            [
             0.4444444444444444,
             "#bd3786"
            ],
            [
             0.5555555555555556,
             "#d8576b"
            ],
            [
             0.6666666666666666,
             "#ed7953"
            ],
            [
             0.7777777777777778,
             "#fb9f3a"
            ],
            [
             0.8888888888888888,
             "#fdca26"
            ],
            [
             1,
             "#f0f921"
            ]
           ],
           "sequentialminus": [
            [
             0,
             "#0d0887"
            ],
            [
             0.1111111111111111,
             "#46039f"
            ],
            [
             0.2222222222222222,
             "#7201a8"
            ],
            [
             0.3333333333333333,
             "#9c179e"
            ],
            [
             0.4444444444444444,
             "#bd3786"
            ],
            [
             0.5555555555555556,
             "#d8576b"
            ],
            [
             0.6666666666666666,
             "#ed7953"
            ],
            [
             0.7777777777777778,
             "#fb9f3a"
            ],
            [
             0.8888888888888888,
             "#fdca26"
            ],
            [
             1,
             "#f0f921"
            ]
           ]
          },
          "colorway": [
           "#636efa",
           "#EF553B",
           "#00cc96",
           "#ab63fa",
           "#FFA15A",
           "#19d3f3",
           "#FF6692",
           "#B6E880",
           "#FF97FF",
           "#FECB52"
          ],
          "font": {
           "color": "#2a3f5f"
          },
          "geo": {
           "bgcolor": "white",
           "lakecolor": "white",
           "landcolor": "#E5ECF6",
           "showlakes": true,
           "showland": true,
           "subunitcolor": "white"
          },
          "hoverlabel": {
           "align": "left"
          },
          "hovermode": "closest",
          "mapbox": {
           "style": "light"
          },
          "paper_bgcolor": "white",
          "plot_bgcolor": "#E5ECF6",
          "polar": {
           "angularaxis": {
            "gridcolor": "white",
            "linecolor": "white",
            "ticks": ""
           },
           "bgcolor": "#E5ECF6",
           "radialaxis": {
            "gridcolor": "white",
            "linecolor": "white",
            "ticks": ""
           }
          },
          "scene": {
           "xaxis": {
            "backgroundcolor": "#E5ECF6",
            "gridcolor": "white",
            "gridwidth": 2,
            "linecolor": "white",
            "showbackground": true,
            "ticks": "",
            "zerolinecolor": "white"
           },
           "yaxis": {
            "backgroundcolor": "#E5ECF6",
            "gridcolor": "white",
            "gridwidth": 2,
            "linecolor": "white",
            "showbackground": true,
            "ticks": "",
            "zerolinecolor": "white"
           },
           "zaxis": {
            "backgroundcolor": "#E5ECF6",
            "gridcolor": "white",
            "gridwidth": 2,
            "linecolor": "white",
            "showbackground": true,
            "ticks": "",
            "zerolinecolor": "white"
           }
          },
          "shapedefaults": {
           "line": {
            "color": "#2a3f5f"
           }
          },
          "ternary": {
           "aaxis": {
            "gridcolor": "white",
            "linecolor": "white",
            "ticks": ""
           },
           "baxis": {
            "gridcolor": "white",
            "linecolor": "white",
            "ticks": ""
           },
           "bgcolor": "#E5ECF6",
           "caxis": {
            "gridcolor": "white",
            "linecolor": "white",
            "ticks": ""
           }
          },
          "title": {
           "x": 0.05
          },
          "xaxis": {
           "automargin": true,
           "gridcolor": "white",
           "linecolor": "white",
           "ticks": "",
           "title": {
            "standoff": 15
           },
           "zerolinecolor": "white",
           "zerolinewidth": 2
          },
          "yaxis": {
           "automargin": true,
           "gridcolor": "white",
           "linecolor": "white",
           "ticks": "",
           "title": {
            "standoff": 15
           },
           "zerolinecolor": "white",
           "zerolinewidth": 2
          }
         }
        },
        "title": {
         "text": "Population of European continent"
        }
       }
      },
      "text/html": [
       "<div>                            <div id=\"a94b0406-6596-4c2c-8b44-fb80863efac6\" class=\"plotly-graph-div\" style=\"height:525px; width:100%;\"></div>            <script type=\"text/javascript\">                require([\"plotly\"], function(Plotly) {                    window.PLOTLYENV=window.PLOTLYENV || {};                                    if (document.getElementById(\"a94b0406-6596-4c2c-8b44-fb80863efac6\")) {                    Plotly.newPlot(                        \"a94b0406-6596-4c2c-8b44-fb80863efac6\",                        [{\"domain\":{\"x\":[0.0,1.0],\"y\":[0.0,1.0]},\"hovertemplate\":\"country=%{label}<br>pop=%{value}<extra></extra>\",\"labels\":[\"Albania\",\"Austria\",\"Belgium\",\"Bosnia and Herzegovina\",\"Bulgaria\",\"Croatia\",\"Czech Republic\",\"Denmark\",\"Finland\",\"France\",\"Germany\",\"Greece\",\"Hungary\",\"Other countries\",\"Ireland\",\"Italy\",\"Other countries\",\"Netherlands\",\"Norway\",\"Poland\",\"Portugal\",\"Romania\",\"Serbia\",\"Slovak Republic\",\"Slovenia\",\"Spain\",\"Sweden\",\"Switzerland\",\"Turkey\",\"United Kingdom\"],\"legendgroup\":\"\",\"name\":\"\",\"showlegend\":true,\"values\":[3600523,8199783,10392226,4552198,7322858,4493312,10228744,5468120,5238460,61083916,82400996,10706290,9956108,301931,4109086,58147733,684736,16570613,4627926,38518241,10642836,22276056,10150265,5447502,2009245,40448191,9031088,7554661,71158647,60776238],\"type\":\"pie\"}],                        {\"template\":{\"data\":{\"histogram2dcontour\":[{\"type\":\"histogram2dcontour\",\"colorbar\":{\"outlinewidth\":0,\"ticks\":\"\"},\"colorscale\":[[0.0,\"#0d0887\"],[0.1111111111111111,\"#46039f\"],[0.2222222222222222,\"#7201a8\"],[0.3333333333333333,\"#9c179e\"],[0.4444444444444444,\"#bd3786\"],[0.5555555555555556,\"#d8576b\"],[0.6666666666666666,\"#ed7953\"],[0.7777777777777778,\"#fb9f3a\"],[0.8888888888888888,\"#fdca26\"],[1.0,\"#f0f921\"]]}],\"choropleth\":[{\"type\":\"choropleth\",\"colorbar\":{\"outlinewidth\":0,\"ticks\":\"\"}}],\"histogram2d\":[{\"type\":\"histogram2d\",\"colorbar\":{\"outlinewidth\":0,\"ticks\":\"\"},\"colorscale\":[[0.0,\"#0d0887\"],[0.1111111111111111,\"#46039f\"],[0.2222222222222222,\"#7201a8\"],[0.3333333333333333,\"#9c179e\"],[0.4444444444444444,\"#bd3786\"],[0.5555555555555556,\"#d8576b\"],[0.6666666666666666,\"#ed7953\"],[0.7777777777777778,\"#fb9f3a\"],[0.8888888888888888,\"#fdca26\"],[1.0,\"#f0f921\"]]}],\"heatmap\":[{\"type\":\"heatmap\",\"colorbar\":{\"outlinewidth\":0,\"ticks\":\"\"},\"colorscale\":[[0.0,\"#0d0887\"],[0.1111111111111111,\"#46039f\"],[0.2222222222222222,\"#7201a8\"],[0.3333333333333333,\"#9c179e\"],[0.4444444444444444,\"#bd3786\"],[0.5555555555555556,\"#d8576b\"],[0.6666666666666666,\"#ed7953\"],[0.7777777777777778,\"#fb9f3a\"],[0.8888888888888888,\"#fdca26\"],[1.0,\"#f0f921\"]]}],\"heatmapgl\":[{\"type\":\"heatmapgl\",\"colorbar\":{\"outlinewidth\":0,\"ticks\":\"\"},\"colorscale\":[[0.0,\"#0d0887\"],[0.1111111111111111,\"#46039f\"],[0.2222222222222222,\"#7201a8\"],[0.3333333333333333,\"#9c179e\"],[0.4444444444444444,\"#bd3786\"],[0.5555555555555556,\"#d8576b\"],[0.6666666666666666,\"#ed7953\"],[0.7777777777777778,\"#fb9f3a\"],[0.8888888888888888,\"#fdca26\"],[1.0,\"#f0f921\"]]}],\"contourcarpet\":[{\"type\":\"contourcarpet\",\"colorbar\":{\"outlinewidth\":0,\"ticks\":\"\"}}],\"contour\":[{\"type\":\"contour\",\"colorbar\":{\"outlinewidth\":0,\"ticks\":\"\"},\"colorscale\":[[0.0,\"#0d0887\"],[0.1111111111111111,\"#46039f\"],[0.2222222222222222,\"#7201a8\"],[0.3333333333333333,\"#9c179e\"],[0.4444444444444444,\"#bd3786\"],[0.5555555555555556,\"#d8576b\"],[0.6666666666666666,\"#ed7953\"],[0.7777777777777778,\"#fb9f3a\"],[0.8888888888888888,\"#fdca26\"],[1.0,\"#f0f921\"]]}],\"surface\":[{\"type\":\"surface\",\"colorbar\":{\"outlinewidth\":0,\"ticks\":\"\"},\"colorscale\":[[0.0,\"#0d0887\"],[0.1111111111111111,\"#46039f\"],[0.2222222222222222,\"#7201a8\"],[0.3333333333333333,\"#9c179e\"],[0.4444444444444444,\"#bd3786\"],[0.5555555555555556,\"#d8576b\"],[0.6666666666666666,\"#ed7953\"],[0.7777777777777778,\"#fb9f3a\"],[0.8888888888888888,\"#fdca26\"],[1.0,\"#f0f921\"]]}],\"mesh3d\":[{\"type\":\"mesh3d\",\"colorbar\":{\"outlinewidth\":0,\"ticks\":\"\"}}],\"scatter\":[{\"fillpattern\":{\"fillmode\":\"overlay\",\"size\":10,\"solidity\":0.2},\"type\":\"scatter\"}],\"parcoords\":[{\"type\":\"parcoords\",\"line\":{\"colorbar\":{\"outlinewidth\":0,\"ticks\":\"\"}}}],\"scatterpolargl\":[{\"type\":\"scatterpolargl\",\"marker\":{\"colorbar\":{\"outlinewidth\":0,\"ticks\":\"\"}}}],\"bar\":[{\"error_x\":{\"color\":\"#2a3f5f\"},\"error_y\":{\"color\":\"#2a3f5f\"},\"marker\":{\"line\":{\"color\":\"#E5ECF6\",\"width\":0.5},\"pattern\":{\"fillmode\":\"overlay\",\"size\":10,\"solidity\":0.2}},\"type\":\"bar\"}],\"scattergeo\":[{\"type\":\"scattergeo\",\"marker\":{\"colorbar\":{\"outlinewidth\":0,\"ticks\":\"\"}}}],\"scatterpolar\":[{\"type\":\"scatterpolar\",\"marker\":{\"colorbar\":{\"outlinewidth\":0,\"ticks\":\"\"}}}],\"histogram\":[{\"marker\":{\"pattern\":{\"fillmode\":\"overlay\",\"size\":10,\"solidity\":0.2}},\"type\":\"histogram\"}],\"scattergl\":[{\"type\":\"scattergl\",\"marker\":{\"colorbar\":{\"outlinewidth\":0,\"ticks\":\"\"}}}],\"scatter3d\":[{\"type\":\"scatter3d\",\"line\":{\"colorbar\":{\"outlinewidth\":0,\"ticks\":\"\"}},\"marker\":{\"colorbar\":{\"outlinewidth\":0,\"ticks\":\"\"}}}],\"scattermapbox\":[{\"type\":\"scattermapbox\",\"marker\":{\"colorbar\":{\"outlinewidth\":0,\"ticks\":\"\"}}}],\"scatterternary\":[{\"type\":\"scatterternary\",\"marker\":{\"colorbar\":{\"outlinewidth\":0,\"ticks\":\"\"}}}],\"scattercarpet\":[{\"type\":\"scattercarpet\",\"marker\":{\"colorbar\":{\"outlinewidth\":0,\"ticks\":\"\"}}}],\"carpet\":[{\"aaxis\":{\"endlinecolor\":\"#2a3f5f\",\"gridcolor\":\"white\",\"linecolor\":\"white\",\"minorgridcolor\":\"white\",\"startlinecolor\":\"#2a3f5f\"},\"baxis\":{\"endlinecolor\":\"#2a3f5f\",\"gridcolor\":\"white\",\"linecolor\":\"white\",\"minorgridcolor\":\"white\",\"startlinecolor\":\"#2a3f5f\"},\"type\":\"carpet\"}],\"table\":[{\"cells\":{\"fill\":{\"color\":\"#EBF0F8\"},\"line\":{\"color\":\"white\"}},\"header\":{\"fill\":{\"color\":\"#C8D4E3\"},\"line\":{\"color\":\"white\"}},\"type\":\"table\"}],\"barpolar\":[{\"marker\":{\"line\":{\"color\":\"#E5ECF6\",\"width\":0.5},\"pattern\":{\"fillmode\":\"overlay\",\"size\":10,\"solidity\":0.2}},\"type\":\"barpolar\"}],\"pie\":[{\"automargin\":true,\"type\":\"pie\"}]},\"layout\":{\"autotypenumbers\":\"strict\",\"colorway\":[\"#636efa\",\"#EF553B\",\"#00cc96\",\"#ab63fa\",\"#FFA15A\",\"#19d3f3\",\"#FF6692\",\"#B6E880\",\"#FF97FF\",\"#FECB52\"],\"font\":{\"color\":\"#2a3f5f\"},\"hovermode\":\"closest\",\"hoverlabel\":{\"align\":\"left\"},\"paper_bgcolor\":\"white\",\"plot_bgcolor\":\"#E5ECF6\",\"polar\":{\"bgcolor\":\"#E5ECF6\",\"angularaxis\":{\"gridcolor\":\"white\",\"linecolor\":\"white\",\"ticks\":\"\"},\"radialaxis\":{\"gridcolor\":\"white\",\"linecolor\":\"white\",\"ticks\":\"\"}},\"ternary\":{\"bgcolor\":\"#E5ECF6\",\"aaxis\":{\"gridcolor\":\"white\",\"linecolor\":\"white\",\"ticks\":\"\"},\"baxis\":{\"gridcolor\":\"white\",\"linecolor\":\"white\",\"ticks\":\"\"},\"caxis\":{\"gridcolor\":\"white\",\"linecolor\":\"white\",\"ticks\":\"\"}},\"coloraxis\":{\"colorbar\":{\"outlinewidth\":0,\"ticks\":\"\"}},\"colorscale\":{\"sequential\":[[0.0,\"#0d0887\"],[0.1111111111111111,\"#46039f\"],[0.2222222222222222,\"#7201a8\"],[0.3333333333333333,\"#9c179e\"],[0.4444444444444444,\"#bd3786\"],[0.5555555555555556,\"#d8576b\"],[0.6666666666666666,\"#ed7953\"],[0.7777777777777778,\"#fb9f3a\"],[0.8888888888888888,\"#fdca26\"],[1.0,\"#f0f921\"]],\"sequentialminus\":[[0.0,\"#0d0887\"],[0.1111111111111111,\"#46039f\"],[0.2222222222222222,\"#7201a8\"],[0.3333333333333333,\"#9c179e\"],[0.4444444444444444,\"#bd3786\"],[0.5555555555555556,\"#d8576b\"],[0.6666666666666666,\"#ed7953\"],[0.7777777777777778,\"#fb9f3a\"],[0.8888888888888888,\"#fdca26\"],[1.0,\"#f0f921\"]],\"diverging\":[[0,\"#8e0152\"],[0.1,\"#c51b7d\"],[0.2,\"#de77ae\"],[0.3,\"#f1b6da\"],[0.4,\"#fde0ef\"],[0.5,\"#f7f7f7\"],[0.6,\"#e6f5d0\"],[0.7,\"#b8e186\"],[0.8,\"#7fbc41\"],[0.9,\"#4d9221\"],[1,\"#276419\"]]},\"xaxis\":{\"gridcolor\":\"white\",\"linecolor\":\"white\",\"ticks\":\"\",\"title\":{\"standoff\":15},\"zerolinecolor\":\"white\",\"automargin\":true,\"zerolinewidth\":2},\"yaxis\":{\"gridcolor\":\"white\",\"linecolor\":\"white\",\"ticks\":\"\",\"title\":{\"standoff\":15},\"zerolinecolor\":\"white\",\"automargin\":true,\"zerolinewidth\":2},\"scene\":{\"xaxis\":{\"backgroundcolor\":\"#E5ECF6\",\"gridcolor\":\"white\",\"linecolor\":\"white\",\"showbackground\":true,\"ticks\":\"\",\"zerolinecolor\":\"white\",\"gridwidth\":2},\"yaxis\":{\"backgroundcolor\":\"#E5ECF6\",\"gridcolor\":\"white\",\"linecolor\":\"white\",\"showbackground\":true,\"ticks\":\"\",\"zerolinecolor\":\"white\",\"gridwidth\":2},\"zaxis\":{\"backgroundcolor\":\"#E5ECF6\",\"gridcolor\":\"white\",\"linecolor\":\"white\",\"showbackground\":true,\"ticks\":\"\",\"zerolinecolor\":\"white\",\"gridwidth\":2}},\"shapedefaults\":{\"line\":{\"color\":\"#2a3f5f\"}},\"annotationdefaults\":{\"arrowcolor\":\"#2a3f5f\",\"arrowhead\":0,\"arrowwidth\":1},\"geo\":{\"bgcolor\":\"white\",\"landcolor\":\"#E5ECF6\",\"subunitcolor\":\"white\",\"showland\":true,\"showlakes\":true,\"lakecolor\":\"white\"},\"title\":{\"x\":0.05},\"mapbox\":{\"style\":\"light\"}}},\"legend\":{\"tracegroupgap\":0},\"title\":{\"text\":\"Population of European continent\"}},                        {\"responsive\": true}                    ).then(function(){\n",
       "                            \n",
       "var gd = document.getElementById('a94b0406-6596-4c2c-8b44-fb80863efac6');\n",
       "var x = new MutationObserver(function (mutations, observer) {{\n",
       "        var display = window.getComputedStyle(gd).display;\n",
       "        if (!display || display === 'none') {{\n",
       "            console.log([gd, 'removed!']);\n",
       "            Plotly.purge(gd);\n",
       "            observer.disconnect();\n",
       "        }}\n",
       "}});\n",
       "\n",
       "// Listen for the removal of the full notebook cells\n",
       "var notebookContainer = gd.closest('#notebook-container');\n",
       "if (notebookContainer) {{\n",
       "    x.observe(notebookContainer, {childList: true});\n",
       "}}\n",
       "\n",
       "// Listen for the clearing of the current output cell\n",
       "var outputEl = gd.closest('.output');\n",
       "if (outputEl) {{\n",
       "    x.observe(outputEl, {childList: true});\n",
       "}}\n",
       "\n",
       "                        })                };                });            </script>        </div>"
      ]
     },
     "metadata": {},
     "output_type": "display_data"
    }
   ],
   "source": [
    "import plotly.express as px\n",
    "aa = px.data.gapminder().query(\"year == 2007\").query(\"continent == 'Europe'\")\n",
    "aa.loc[aa['pop'] < 2.e6, 'country'] = 'Other countries' # Represent only large countries\n",
    "fig = px.pie(aa, values='pop', names='country', title='Population of European continent')\n",
    "fig.show()"
   ]
  },
  {
   "cell_type": "code",
   "execution_count": 168,
   "id": "11a55a7b",
   "metadata": {},
   "outputs": [
    {
     "data": {
      "text/html": [
       "<div>\n",
       "<style scoped>\n",
       "    .dataframe tbody tr th:only-of-type {\n",
       "        vertical-align: middle;\n",
       "    }\n",
       "\n",
       "    .dataframe tbody tr th {\n",
       "        vertical-align: top;\n",
       "    }\n",
       "\n",
       "    .dataframe thead th {\n",
       "        text-align: right;\n",
       "    }\n",
       "</style>\n",
       "<table border=\"1\" class=\"dataframe\">\n",
       "  <thead>\n",
       "    <tr style=\"text-align: right;\">\n",
       "      <th></th>\n",
       "      <th>country</th>\n",
       "      <th>continent</th>\n",
       "      <th>year</th>\n",
       "      <th>lifeExp</th>\n",
       "      <th>pop</th>\n",
       "      <th>gdpPercap</th>\n",
       "      <th>iso_alpha</th>\n",
       "      <th>iso_num</th>\n",
       "    </tr>\n",
       "  </thead>\n",
       "  <tbody>\n",
       "    <tr>\n",
       "      <th>23</th>\n",
       "      <td>Albania</td>\n",
       "      <td>Europe</td>\n",
       "      <td>2007</td>\n",
       "      <td>76.423</td>\n",
       "      <td>3600523</td>\n",
       "      <td>5937.029526</td>\n",
       "      <td>ALB</td>\n",
       "      <td>8</td>\n",
       "    </tr>\n",
       "    <tr>\n",
       "      <th>83</th>\n",
       "      <td>Austria</td>\n",
       "      <td>Europe</td>\n",
       "      <td>2007</td>\n",
       "      <td>79.829</td>\n",
       "      <td>8199783</td>\n",
       "      <td>36126.492700</td>\n",
       "      <td>AUT</td>\n",
       "      <td>40</td>\n",
       "    </tr>\n",
       "    <tr>\n",
       "      <th>119</th>\n",
       "      <td>Belgium</td>\n",
       "      <td>Europe</td>\n",
       "      <td>2007</td>\n",
       "      <td>79.441</td>\n",
       "      <td>10392226</td>\n",
       "      <td>33692.605080</td>\n",
       "      <td>BEL</td>\n",
       "      <td>56</td>\n",
       "    </tr>\n",
       "    <tr>\n",
       "      <th>155</th>\n",
       "      <td>Bosnia and Herzegovina</td>\n",
       "      <td>Europe</td>\n",
       "      <td>2007</td>\n",
       "      <td>74.852</td>\n",
       "      <td>4552198</td>\n",
       "      <td>7446.298803</td>\n",
       "      <td>BIH</td>\n",
       "      <td>70</td>\n",
       "    </tr>\n",
       "    <tr>\n",
       "      <th>191</th>\n",
       "      <td>Bulgaria</td>\n",
       "      <td>Europe</td>\n",
       "      <td>2007</td>\n",
       "      <td>73.005</td>\n",
       "      <td>7322858</td>\n",
       "      <td>10680.792820</td>\n",
       "      <td>BGR</td>\n",
       "      <td>100</td>\n",
       "    </tr>\n",
       "    <tr>\n",
       "      <th>383</th>\n",
       "      <td>Croatia</td>\n",
       "      <td>Europe</td>\n",
       "      <td>2007</td>\n",
       "      <td>75.748</td>\n",
       "      <td>4493312</td>\n",
       "      <td>14619.222720</td>\n",
       "      <td>HRV</td>\n",
       "      <td>191</td>\n",
       "    </tr>\n",
       "    <tr>\n",
       "      <th>407</th>\n",
       "      <td>Czech Republic</td>\n",
       "      <td>Europe</td>\n",
       "      <td>2007</td>\n",
       "      <td>76.486</td>\n",
       "      <td>10228744</td>\n",
       "      <td>22833.308510</td>\n",
       "      <td>CZE</td>\n",
       "      <td>203</td>\n",
       "    </tr>\n",
       "    <tr>\n",
       "      <th>419</th>\n",
       "      <td>Denmark</td>\n",
       "      <td>Europe</td>\n",
       "      <td>2007</td>\n",
       "      <td>78.332</td>\n",
       "      <td>5468120</td>\n",
       "      <td>35278.418740</td>\n",
       "      <td>DNK</td>\n",
       "      <td>208</td>\n",
       "    </tr>\n",
       "    <tr>\n",
       "      <th>527</th>\n",
       "      <td>Finland</td>\n",
       "      <td>Europe</td>\n",
       "      <td>2007</td>\n",
       "      <td>79.313</td>\n",
       "      <td>5238460</td>\n",
       "      <td>33207.084400</td>\n",
       "      <td>FIN</td>\n",
       "      <td>246</td>\n",
       "    </tr>\n",
       "    <tr>\n",
       "      <th>539</th>\n",
       "      <td>France</td>\n",
       "      <td>Europe</td>\n",
       "      <td>2007</td>\n",
       "      <td>80.657</td>\n",
       "      <td>61083916</td>\n",
       "      <td>30470.016700</td>\n",
       "      <td>FRA</td>\n",
       "      <td>250</td>\n",
       "    </tr>\n",
       "    <tr>\n",
       "      <th>575</th>\n",
       "      <td>Germany</td>\n",
       "      <td>Europe</td>\n",
       "      <td>2007</td>\n",
       "      <td>79.406</td>\n",
       "      <td>82400996</td>\n",
       "      <td>32170.374420</td>\n",
       "      <td>DEU</td>\n",
       "      <td>276</td>\n",
       "    </tr>\n",
       "    <tr>\n",
       "      <th>599</th>\n",
       "      <td>Greece</td>\n",
       "      <td>Europe</td>\n",
       "      <td>2007</td>\n",
       "      <td>79.483</td>\n",
       "      <td>10706290</td>\n",
       "      <td>27538.411880</td>\n",
       "      <td>GRC</td>\n",
       "      <td>300</td>\n",
       "    </tr>\n",
       "    <tr>\n",
       "      <th>683</th>\n",
       "      <td>Hungary</td>\n",
       "      <td>Europe</td>\n",
       "      <td>2007</td>\n",
       "      <td>73.338</td>\n",
       "      <td>9956108</td>\n",
       "      <td>18008.944440</td>\n",
       "      <td>HUN</td>\n",
       "      <td>348</td>\n",
       "    </tr>\n",
       "    <tr>\n",
       "      <th>695</th>\n",
       "      <td>Other countries</td>\n",
       "      <td>Europe</td>\n",
       "      <td>2007</td>\n",
       "      <td>81.757</td>\n",
       "      <td>301931</td>\n",
       "      <td>36180.789190</td>\n",
       "      <td>ISL</td>\n",
       "      <td>352</td>\n",
       "    </tr>\n",
       "    <tr>\n",
       "      <th>755</th>\n",
       "      <td>Ireland</td>\n",
       "      <td>Europe</td>\n",
       "      <td>2007</td>\n",
       "      <td>78.885</td>\n",
       "      <td>4109086</td>\n",
       "      <td>40675.996350</td>\n",
       "      <td>IRL</td>\n",
       "      <td>372</td>\n",
       "    </tr>\n",
       "    <tr>\n",
       "      <th>779</th>\n",
       "      <td>Italy</td>\n",
       "      <td>Europe</td>\n",
       "      <td>2007</td>\n",
       "      <td>80.546</td>\n",
       "      <td>58147733</td>\n",
       "      <td>28569.719700</td>\n",
       "      <td>ITA</td>\n",
       "      <td>380</td>\n",
       "    </tr>\n",
       "    <tr>\n",
       "      <th>1019</th>\n",
       "      <td>Other countries</td>\n",
       "      <td>Europe</td>\n",
       "      <td>2007</td>\n",
       "      <td>74.543</td>\n",
       "      <td>684736</td>\n",
       "      <td>9253.896111</td>\n",
       "      <td>MNE</td>\n",
       "      <td>499</td>\n",
       "    </tr>\n",
       "    <tr>\n",
       "      <th>1091</th>\n",
       "      <td>Netherlands</td>\n",
       "      <td>Europe</td>\n",
       "      <td>2007</td>\n",
       "      <td>79.762</td>\n",
       "      <td>16570613</td>\n",
       "      <td>36797.933320</td>\n",
       "      <td>NLD</td>\n",
       "      <td>528</td>\n",
       "    </tr>\n",
       "    <tr>\n",
       "      <th>1151</th>\n",
       "      <td>Norway</td>\n",
       "      <td>Europe</td>\n",
       "      <td>2007</td>\n",
       "      <td>80.196</td>\n",
       "      <td>4627926</td>\n",
       "      <td>49357.190170</td>\n",
       "      <td>NOR</td>\n",
       "      <td>578</td>\n",
       "    </tr>\n",
       "    <tr>\n",
       "      <th>1235</th>\n",
       "      <td>Poland</td>\n",
       "      <td>Europe</td>\n",
       "      <td>2007</td>\n",
       "      <td>75.563</td>\n",
       "      <td>38518241</td>\n",
       "      <td>15389.924680</td>\n",
       "      <td>POL</td>\n",
       "      <td>616</td>\n",
       "    </tr>\n",
       "    <tr>\n",
       "      <th>1247</th>\n",
       "      <td>Portugal</td>\n",
       "      <td>Europe</td>\n",
       "      <td>2007</td>\n",
       "      <td>78.098</td>\n",
       "      <td>10642836</td>\n",
       "      <td>20509.647770</td>\n",
       "      <td>PRT</td>\n",
       "      <td>620</td>\n",
       "    </tr>\n",
       "    <tr>\n",
       "      <th>1283</th>\n",
       "      <td>Romania</td>\n",
       "      <td>Europe</td>\n",
       "      <td>2007</td>\n",
       "      <td>72.476</td>\n",
       "      <td>22276056</td>\n",
       "      <td>10808.475610</td>\n",
       "      <td>ROU</td>\n",
       "      <td>642</td>\n",
       "    </tr>\n",
       "    <tr>\n",
       "      <th>1343</th>\n",
       "      <td>Serbia</td>\n",
       "      <td>Europe</td>\n",
       "      <td>2007</td>\n",
       "      <td>74.002</td>\n",
       "      <td>10150265</td>\n",
       "      <td>9786.534714</td>\n",
       "      <td>SRB</td>\n",
       "      <td>688</td>\n",
       "    </tr>\n",
       "    <tr>\n",
       "      <th>1379</th>\n",
       "      <td>Slovak Republic</td>\n",
       "      <td>Europe</td>\n",
       "      <td>2007</td>\n",
       "      <td>74.663</td>\n",
       "      <td>5447502</td>\n",
       "      <td>18678.314350</td>\n",
       "      <td>SVK</td>\n",
       "      <td>703</td>\n",
       "    </tr>\n",
       "    <tr>\n",
       "      <th>1391</th>\n",
       "      <td>Slovenia</td>\n",
       "      <td>Europe</td>\n",
       "      <td>2007</td>\n",
       "      <td>77.926</td>\n",
       "      <td>2009245</td>\n",
       "      <td>25768.257590</td>\n",
       "      <td>SVN</td>\n",
       "      <td>705</td>\n",
       "    </tr>\n",
       "    <tr>\n",
       "      <th>1427</th>\n",
       "      <td>Spain</td>\n",
       "      <td>Europe</td>\n",
       "      <td>2007</td>\n",
       "      <td>80.941</td>\n",
       "      <td>40448191</td>\n",
       "      <td>28821.063700</td>\n",
       "      <td>ESP</td>\n",
       "      <td>724</td>\n",
       "    </tr>\n",
       "    <tr>\n",
       "      <th>1475</th>\n",
       "      <td>Sweden</td>\n",
       "      <td>Europe</td>\n",
       "      <td>2007</td>\n",
       "      <td>80.884</td>\n",
       "      <td>9031088</td>\n",
       "      <td>33859.748350</td>\n",
       "      <td>SWE</td>\n",
       "      <td>752</td>\n",
       "    </tr>\n",
       "    <tr>\n",
       "      <th>1487</th>\n",
       "      <td>Switzerland</td>\n",
       "      <td>Europe</td>\n",
       "      <td>2007</td>\n",
       "      <td>81.701</td>\n",
       "      <td>7554661</td>\n",
       "      <td>37506.419070</td>\n",
       "      <td>CHE</td>\n",
       "      <td>756</td>\n",
       "    </tr>\n",
       "    <tr>\n",
       "      <th>1583</th>\n",
       "      <td>Turkey</td>\n",
       "      <td>Europe</td>\n",
       "      <td>2007</td>\n",
       "      <td>71.777</td>\n",
       "      <td>71158647</td>\n",
       "      <td>8458.276384</td>\n",
       "      <td>TUR</td>\n",
       "      <td>792</td>\n",
       "    </tr>\n",
       "    <tr>\n",
       "      <th>1607</th>\n",
       "      <td>United Kingdom</td>\n",
       "      <td>Europe</td>\n",
       "      <td>2007</td>\n",
       "      <td>79.425</td>\n",
       "      <td>60776238</td>\n",
       "      <td>33203.261280</td>\n",
       "      <td>GBR</td>\n",
       "      <td>826</td>\n",
       "    </tr>\n",
       "  </tbody>\n",
       "</table>\n",
       "</div>"
      ],
      "text/plain": [
       "                     country continent  year  lifeExp       pop     gdpPercap  \\\n",
       "23                   Albania    Europe  2007   76.423   3600523   5937.029526   \n",
       "83                   Austria    Europe  2007   79.829   8199783  36126.492700   \n",
       "119                  Belgium    Europe  2007   79.441  10392226  33692.605080   \n",
       "155   Bosnia and Herzegovina    Europe  2007   74.852   4552198   7446.298803   \n",
       "191                 Bulgaria    Europe  2007   73.005   7322858  10680.792820   \n",
       "383                  Croatia    Europe  2007   75.748   4493312  14619.222720   \n",
       "407           Czech Republic    Europe  2007   76.486  10228744  22833.308510   \n",
       "419                  Denmark    Europe  2007   78.332   5468120  35278.418740   \n",
       "527                  Finland    Europe  2007   79.313   5238460  33207.084400   \n",
       "539                   France    Europe  2007   80.657  61083916  30470.016700   \n",
       "575                  Germany    Europe  2007   79.406  82400996  32170.374420   \n",
       "599                   Greece    Europe  2007   79.483  10706290  27538.411880   \n",
       "683                  Hungary    Europe  2007   73.338   9956108  18008.944440   \n",
       "695          Other countries    Europe  2007   81.757    301931  36180.789190   \n",
       "755                  Ireland    Europe  2007   78.885   4109086  40675.996350   \n",
       "779                    Italy    Europe  2007   80.546  58147733  28569.719700   \n",
       "1019         Other countries    Europe  2007   74.543    684736   9253.896111   \n",
       "1091             Netherlands    Europe  2007   79.762  16570613  36797.933320   \n",
       "1151                  Norway    Europe  2007   80.196   4627926  49357.190170   \n",
       "1235                  Poland    Europe  2007   75.563  38518241  15389.924680   \n",
       "1247                Portugal    Europe  2007   78.098  10642836  20509.647770   \n",
       "1283                 Romania    Europe  2007   72.476  22276056  10808.475610   \n",
       "1343                  Serbia    Europe  2007   74.002  10150265   9786.534714   \n",
       "1379         Slovak Republic    Europe  2007   74.663   5447502  18678.314350   \n",
       "1391                Slovenia    Europe  2007   77.926   2009245  25768.257590   \n",
       "1427                   Spain    Europe  2007   80.941  40448191  28821.063700   \n",
       "1475                  Sweden    Europe  2007   80.884   9031088  33859.748350   \n",
       "1487             Switzerland    Europe  2007   81.701   7554661  37506.419070   \n",
       "1583                  Turkey    Europe  2007   71.777  71158647   8458.276384   \n",
       "1607          United Kingdom    Europe  2007   79.425  60776238  33203.261280   \n",
       "\n",
       "     iso_alpha  iso_num  \n",
       "23         ALB        8  \n",
       "83         AUT       40  \n",
       "119        BEL       56  \n",
       "155        BIH       70  \n",
       "191        BGR      100  \n",
       "383        HRV      191  \n",
       "407        CZE      203  \n",
       "419        DNK      208  \n",
       "527        FIN      246  \n",
       "539        FRA      250  \n",
       "575        DEU      276  \n",
       "599        GRC      300  \n",
       "683        HUN      348  \n",
       "695        ISL      352  \n",
       "755        IRL      372  \n",
       "779        ITA      380  \n",
       "1019       MNE      499  \n",
       "1091       NLD      528  \n",
       "1151       NOR      578  \n",
       "1235       POL      616  \n",
       "1247       PRT      620  \n",
       "1283       ROU      642  \n",
       "1343       SRB      688  \n",
       "1379       SVK      703  \n",
       "1391       SVN      705  \n",
       "1427       ESP      724  \n",
       "1475       SWE      752  \n",
       "1487       CHE      756  \n",
       "1583       TUR      792  \n",
       "1607       GBR      826  "
      ]
     },
     "execution_count": 168,
     "metadata": {},
     "output_type": "execute_result"
    }
   ],
   "source": [
    "aa"
   ]
  },
  {
   "cell_type": "code",
   "execution_count": 178,
   "id": "d603eaff",
   "metadata": {},
   "outputs": [],
   "source": [
    "df2 = df.groupby('처분구분명').count()['연도구분']"
   ]
  },
  {
   "cell_type": "code",
   "execution_count": 190,
   "id": "5880d31a",
   "metadata": {},
   "outputs": [],
   "source": [
    "df2 = pd.DataFrame(df2)"
   ]
  },
  {
   "cell_type": "code",
   "execution_count": 195,
   "id": "c90f97a2",
   "metadata": {},
   "outputs": [],
   "source": [
    "df2 = df2.reset_index()"
   ]
  },
  {
   "cell_type": "code",
   "execution_count": 196,
   "id": "1c8f0797",
   "metadata": {},
   "outputs": [
    {
     "data": {
      "application/vnd.plotly.v1+json": {
       "config": {
        "plotlyServerURL": "https://plot.ly"
       },
       "data": [
        {
         "domain": {
          "x": [
           0,
           1
          ],
          "y": [
           0,
           1
          ]
         },
         "hovertemplate": "처분구분명=%{label}<br>연도구분=%{value}<extra></extra>",
         "labels": [
          "처분(매각수의)",
          "처분(매각입찰)",
          "처분(무상관리전환)",
          "처분(무상귀속)",
          "처분(무상양여)",
          "처분(사용승인)",
          "처분(유상관리전환)",
          "처분(유상양여)"
         ],
         "legendgroup": "",
         "name": "",
         "showlegend": true,
         "type": "pie",
         "values": [
          124597,
          8834,
          4289,
          706,
          686,
          2090,
          114,
          1
         ]
        }
       ],
       "layout": {
        "legend": {
         "tracegroupgap": 0
        },
        "template": {
         "data": {
          "bar": [
           {
            "error_x": {
             "color": "#2a3f5f"
            },
            "error_y": {
             "color": "#2a3f5f"
            },
            "marker": {
             "line": {
              "color": "#E5ECF6",
              "width": 0.5
             },
             "pattern": {
              "fillmode": "overlay",
              "size": 10,
              "solidity": 0.2
             }
            },
            "type": "bar"
           }
          ],
          "barpolar": [
           {
            "marker": {
             "line": {
              "color": "#E5ECF6",
              "width": 0.5
             },
             "pattern": {
              "fillmode": "overlay",
              "size": 10,
              "solidity": 0.2
             }
            },
            "type": "barpolar"
           }
          ],
          "carpet": [
           {
            "aaxis": {
             "endlinecolor": "#2a3f5f",
             "gridcolor": "white",
             "linecolor": "white",
             "minorgridcolor": "white",
             "startlinecolor": "#2a3f5f"
            },
            "baxis": {
             "endlinecolor": "#2a3f5f",
             "gridcolor": "white",
             "linecolor": "white",
             "minorgridcolor": "white",
             "startlinecolor": "#2a3f5f"
            },
            "type": "carpet"
           }
          ],
          "choropleth": [
           {
            "colorbar": {
             "outlinewidth": 0,
             "ticks": ""
            },
            "type": "choropleth"
           }
          ],
          "contour": [
           {
            "colorbar": {
             "outlinewidth": 0,
             "ticks": ""
            },
            "colorscale": [
             [
              0,
              "#0d0887"
             ],
             [
              0.1111111111111111,
              "#46039f"
             ],
             [
              0.2222222222222222,
              "#7201a8"
             ],
             [
              0.3333333333333333,
              "#9c179e"
             ],
             [
              0.4444444444444444,
              "#bd3786"
             ],
             [
              0.5555555555555556,
              "#d8576b"
             ],
             [
              0.6666666666666666,
              "#ed7953"
             ],
             [
              0.7777777777777778,
              "#fb9f3a"
             ],
             [
              0.8888888888888888,
              "#fdca26"
             ],
             [
              1,
              "#f0f921"
             ]
            ],
            "type": "contour"
           }
          ],
          "contourcarpet": [
           {
            "colorbar": {
             "outlinewidth": 0,
             "ticks": ""
            },
            "type": "contourcarpet"
           }
          ],
          "heatmap": [
           {
            "colorbar": {
             "outlinewidth": 0,
             "ticks": ""
            },
            "colorscale": [
             [
              0,
              "#0d0887"
             ],
             [
              0.1111111111111111,
              "#46039f"
             ],
             [
              0.2222222222222222,
              "#7201a8"
             ],
             [
              0.3333333333333333,
              "#9c179e"
             ],
             [
              0.4444444444444444,
              "#bd3786"
             ],
             [
              0.5555555555555556,
              "#d8576b"
             ],
             [
              0.6666666666666666,
              "#ed7953"
             ],
             [
              0.7777777777777778,
              "#fb9f3a"
             ],
             [
              0.8888888888888888,
              "#fdca26"
             ],
             [
              1,
              "#f0f921"
             ]
            ],
            "type": "heatmap"
           }
          ],
          "heatmapgl": [
           {
            "colorbar": {
             "outlinewidth": 0,
             "ticks": ""
            },
            "colorscale": [
             [
              0,
              "#0d0887"
             ],
             [
              0.1111111111111111,
              "#46039f"
             ],
             [
              0.2222222222222222,
              "#7201a8"
             ],
             [
              0.3333333333333333,
              "#9c179e"
             ],
             [
              0.4444444444444444,
              "#bd3786"
             ],
             [
              0.5555555555555556,
              "#d8576b"
             ],
             [
              0.6666666666666666,
              "#ed7953"
             ],
             [
              0.7777777777777778,
              "#fb9f3a"
             ],
             [
              0.8888888888888888,
              "#fdca26"
             ],
             [
              1,
              "#f0f921"
             ]
            ],
            "type": "heatmapgl"
           }
          ],
          "histogram": [
           {
            "marker": {
             "pattern": {
              "fillmode": "overlay",
              "size": 10,
              "solidity": 0.2
             }
            },
            "type": "histogram"
           }
          ],
          "histogram2d": [
           {
            "colorbar": {
             "outlinewidth": 0,
             "ticks": ""
            },
            "colorscale": [
             [
              0,
              "#0d0887"
             ],
             [
              0.1111111111111111,
              "#46039f"
             ],
             [
              0.2222222222222222,
              "#7201a8"
             ],
             [
              0.3333333333333333,
              "#9c179e"
             ],
             [
              0.4444444444444444,
              "#bd3786"
             ],
             [
              0.5555555555555556,
              "#d8576b"
             ],
             [
              0.6666666666666666,
              "#ed7953"
             ],
             [
              0.7777777777777778,
              "#fb9f3a"
             ],
             [
              0.8888888888888888,
              "#fdca26"
             ],
             [
              1,
              "#f0f921"
             ]
            ],
            "type": "histogram2d"
           }
          ],
          "histogram2dcontour": [
           {
            "colorbar": {
             "outlinewidth": 0,
             "ticks": ""
            },
            "colorscale": [
             [
              0,
              "#0d0887"
             ],
             [
              0.1111111111111111,
              "#46039f"
             ],
             [
              0.2222222222222222,
              "#7201a8"
             ],
             [
              0.3333333333333333,
              "#9c179e"
             ],
             [
              0.4444444444444444,
              "#bd3786"
             ],
             [
              0.5555555555555556,
              "#d8576b"
             ],
             [
              0.6666666666666666,
              "#ed7953"
             ],
             [
              0.7777777777777778,
              "#fb9f3a"
             ],
             [
              0.8888888888888888,
              "#fdca26"
             ],
             [
              1,
              "#f0f921"
             ]
            ],
            "type": "histogram2dcontour"
           }
          ],
          "mesh3d": [
           {
            "colorbar": {
             "outlinewidth": 0,
             "ticks": ""
            },
            "type": "mesh3d"
           }
          ],
          "parcoords": [
           {
            "line": {
             "colorbar": {
              "outlinewidth": 0,
              "ticks": ""
             }
            },
            "type": "parcoords"
           }
          ],
          "pie": [
           {
            "automargin": true,
            "type": "pie"
           }
          ],
          "scatter": [
           {
            "fillpattern": {
             "fillmode": "overlay",
             "size": 10,
             "solidity": 0.2
            },
            "type": "scatter"
           }
          ],
          "scatter3d": [
           {
            "line": {
             "colorbar": {
              "outlinewidth": 0,
              "ticks": ""
             }
            },
            "marker": {
             "colorbar": {
              "outlinewidth": 0,
              "ticks": ""
             }
            },
            "type": "scatter3d"
           }
          ],
          "scattercarpet": [
           {
            "marker": {
             "colorbar": {
              "outlinewidth": 0,
              "ticks": ""
             }
            },
            "type": "scattercarpet"
           }
          ],
          "scattergeo": [
           {
            "marker": {
             "colorbar": {
              "outlinewidth": 0,
              "ticks": ""
             }
            },
            "type": "scattergeo"
           }
          ],
          "scattergl": [
           {
            "marker": {
             "colorbar": {
              "outlinewidth": 0,
              "ticks": ""
             }
            },
            "type": "scattergl"
           }
          ],
          "scattermapbox": [
           {
            "marker": {
             "colorbar": {
              "outlinewidth": 0,
              "ticks": ""
             }
            },
            "type": "scattermapbox"
           }
          ],
          "scatterpolar": [
           {
            "marker": {
             "colorbar": {
              "outlinewidth": 0,
              "ticks": ""
             }
            },
            "type": "scatterpolar"
           }
          ],
          "scatterpolargl": [
           {
            "marker": {
             "colorbar": {
              "outlinewidth": 0,
              "ticks": ""
             }
            },
            "type": "scatterpolargl"
           }
          ],
          "scatterternary": [
           {
            "marker": {
             "colorbar": {
              "outlinewidth": 0,
              "ticks": ""
             }
            },
            "type": "scatterternary"
           }
          ],
          "surface": [
           {
            "colorbar": {
             "outlinewidth": 0,
             "ticks": ""
            },
            "colorscale": [
             [
              0,
              "#0d0887"
             ],
             [
              0.1111111111111111,
              "#46039f"
             ],
             [
              0.2222222222222222,
              "#7201a8"
             ],
             [
              0.3333333333333333,
              "#9c179e"
             ],
             [
              0.4444444444444444,
              "#bd3786"
             ],
             [
              0.5555555555555556,
              "#d8576b"
             ],
             [
              0.6666666666666666,
              "#ed7953"
             ],
             [
              0.7777777777777778,
              "#fb9f3a"
             ],
             [
              0.8888888888888888,
              "#fdca26"
             ],
             [
              1,
              "#f0f921"
             ]
            ],
            "type": "surface"
           }
          ],
          "table": [
           {
            "cells": {
             "fill": {
              "color": "#EBF0F8"
             },
             "line": {
              "color": "white"
             }
            },
            "header": {
             "fill": {
              "color": "#C8D4E3"
             },
             "line": {
              "color": "white"
             }
            },
            "type": "table"
           }
          ]
         },
         "layout": {
          "annotationdefaults": {
           "arrowcolor": "#2a3f5f",
           "arrowhead": 0,
           "arrowwidth": 1
          },
          "autotypenumbers": "strict",
          "coloraxis": {
           "colorbar": {
            "outlinewidth": 0,
            "ticks": ""
           }
          },
          "colorscale": {
           "diverging": [
            [
             0,
             "#8e0152"
            ],
            [
             0.1,
             "#c51b7d"
            ],
            [
             0.2,
             "#de77ae"
            ],
            [
             0.3,
             "#f1b6da"
            ],
            [
             0.4,
             "#fde0ef"
            ],
            [
             0.5,
             "#f7f7f7"
            ],
            [
             0.6,
             "#e6f5d0"
            ],
            [
             0.7,
             "#b8e186"
            ],
            [
             0.8,
             "#7fbc41"
            ],
            [
             0.9,
             "#4d9221"
            ],
            [
             1,
             "#276419"
            ]
           ],
           "sequential": [
            [
             0,
             "#0d0887"
            ],
            [
             0.1111111111111111,
             "#46039f"
            ],
            [
             0.2222222222222222,
             "#7201a8"
            ],
            [
             0.3333333333333333,
             "#9c179e"
            ],
            [
             0.4444444444444444,
             "#bd3786"
            ],
            [
             0.5555555555555556,
             "#d8576b"
            ],
            [
             0.6666666666666666,
             "#ed7953"
            ],
            [
             0.7777777777777778,
             "#fb9f3a"
            ],
            [
             0.8888888888888888,
             "#fdca26"
            ],
            [
             1,
             "#f0f921"
            ]
           ],
           "sequentialminus": [
            [
             0,
             "#0d0887"
            ],
            [
             0.1111111111111111,
             "#46039f"
            ],
            [
             0.2222222222222222,
             "#7201a8"
            ],
            [
             0.3333333333333333,
             "#9c179e"
            ],
            [
             0.4444444444444444,
             "#bd3786"
            ],
            [
             0.5555555555555556,
             "#d8576b"
            ],
            [
             0.6666666666666666,
             "#ed7953"
            ],
            [
             0.7777777777777778,
             "#fb9f3a"
            ],
            [
             0.8888888888888888,
             "#fdca26"
            ],
            [
             1,
             "#f0f921"
            ]
           ]
          },
          "colorway": [
           "#636efa",
           "#EF553B",
           "#00cc96",
           "#ab63fa",
           "#FFA15A",
           "#19d3f3",
           "#FF6692",
           "#B6E880",
           "#FF97FF",
           "#FECB52"
          ],
          "font": {
           "color": "#2a3f5f"
          },
          "geo": {
           "bgcolor": "white",
           "lakecolor": "white",
           "landcolor": "#E5ECF6",
           "showlakes": true,
           "showland": true,
           "subunitcolor": "white"
          },
          "hoverlabel": {
           "align": "left"
          },
          "hovermode": "closest",
          "mapbox": {
           "style": "light"
          },
          "paper_bgcolor": "white",
          "plot_bgcolor": "#E5ECF6",
          "polar": {
           "angularaxis": {
            "gridcolor": "white",
            "linecolor": "white",
            "ticks": ""
           },
           "bgcolor": "#E5ECF6",
           "radialaxis": {
            "gridcolor": "white",
            "linecolor": "white",
            "ticks": ""
           }
          },
          "scene": {
           "xaxis": {
            "backgroundcolor": "#E5ECF6",
            "gridcolor": "white",
            "gridwidth": 2,
            "linecolor": "white",
            "showbackground": true,
            "ticks": "",
            "zerolinecolor": "white"
           },
           "yaxis": {
            "backgroundcolor": "#E5ECF6",
            "gridcolor": "white",
            "gridwidth": 2,
            "linecolor": "white",
            "showbackground": true,
            "ticks": "",
            "zerolinecolor": "white"
           },
           "zaxis": {
            "backgroundcolor": "#E5ECF6",
            "gridcolor": "white",
            "gridwidth": 2,
            "linecolor": "white",
            "showbackground": true,
            "ticks": "",
            "zerolinecolor": "white"
           }
          },
          "shapedefaults": {
           "line": {
            "color": "#2a3f5f"
           }
          },
          "ternary": {
           "aaxis": {
            "gridcolor": "white",
            "linecolor": "white",
            "ticks": ""
           },
           "baxis": {
            "gridcolor": "white",
            "linecolor": "white",
            "ticks": ""
           },
           "bgcolor": "#E5ECF6",
           "caxis": {
            "gridcolor": "white",
            "linecolor": "white",
            "ticks": ""
           }
          },
          "title": {
           "x": 0.05
          },
          "xaxis": {
           "automargin": true,
           "gridcolor": "white",
           "linecolor": "white",
           "ticks": "",
           "title": {
            "standoff": 15
           },
           "zerolinecolor": "white",
           "zerolinewidth": 2
          },
          "yaxis": {
           "automargin": true,
           "gridcolor": "white",
           "linecolor": "white",
           "ticks": "",
           "title": {
            "standoff": 15
           },
           "zerolinecolor": "white",
           "zerolinewidth": 2
          }
         }
        },
        "title": {
         "text": "처분구분별 비율"
        }
       }
      },
      "text/html": [
       "<div>                            <div id=\"1264f447-e138-4e17-9006-41e16607a2a4\" class=\"plotly-graph-div\" style=\"height:525px; width:100%;\"></div>            <script type=\"text/javascript\">                require([\"plotly\"], function(Plotly) {                    window.PLOTLYENV=window.PLOTLYENV || {};                                    if (document.getElementById(\"1264f447-e138-4e17-9006-41e16607a2a4\")) {                    Plotly.newPlot(                        \"1264f447-e138-4e17-9006-41e16607a2a4\",                        [{\"domain\":{\"x\":[0.0,1.0],\"y\":[0.0,1.0]},\"hovertemplate\":\"\\ucc98\\ubd84\\uad6c\\ubd84\\uba85=%{label}<br>\\uc5f0\\ub3c4\\uad6c\\ubd84=%{value}<extra></extra>\",\"labels\":[\"\\ucc98\\ubd84(\\ub9e4\\uac01\\uc218\\uc758)\",\"\\ucc98\\ubd84(\\ub9e4\\uac01\\uc785\\ucc30)\",\"\\ucc98\\ubd84(\\ubb34\\uc0c1\\uad00\\ub9ac\\uc804\\ud658)\",\"\\ucc98\\ubd84(\\ubb34\\uc0c1\\uadc0\\uc18d)\",\"\\ucc98\\ubd84(\\ubb34\\uc0c1\\uc591\\uc5ec)\",\"\\ucc98\\ubd84(\\uc0ac\\uc6a9\\uc2b9\\uc778)\",\"\\ucc98\\ubd84(\\uc720\\uc0c1\\uad00\\ub9ac\\uc804\\ud658)\",\"\\ucc98\\ubd84(\\uc720\\uc0c1\\uc591\\uc5ec)\"],\"legendgroup\":\"\",\"name\":\"\",\"showlegend\":true,\"values\":[124597,8834,4289,706,686,2090,114,1],\"type\":\"pie\"}],                        {\"template\":{\"data\":{\"histogram2dcontour\":[{\"type\":\"histogram2dcontour\",\"colorbar\":{\"outlinewidth\":0,\"ticks\":\"\"},\"colorscale\":[[0.0,\"#0d0887\"],[0.1111111111111111,\"#46039f\"],[0.2222222222222222,\"#7201a8\"],[0.3333333333333333,\"#9c179e\"],[0.4444444444444444,\"#bd3786\"],[0.5555555555555556,\"#d8576b\"],[0.6666666666666666,\"#ed7953\"],[0.7777777777777778,\"#fb9f3a\"],[0.8888888888888888,\"#fdca26\"],[1.0,\"#f0f921\"]]}],\"choropleth\":[{\"type\":\"choropleth\",\"colorbar\":{\"outlinewidth\":0,\"ticks\":\"\"}}],\"histogram2d\":[{\"type\":\"histogram2d\",\"colorbar\":{\"outlinewidth\":0,\"ticks\":\"\"},\"colorscale\":[[0.0,\"#0d0887\"],[0.1111111111111111,\"#46039f\"],[0.2222222222222222,\"#7201a8\"],[0.3333333333333333,\"#9c179e\"],[0.4444444444444444,\"#bd3786\"],[0.5555555555555556,\"#d8576b\"],[0.6666666666666666,\"#ed7953\"],[0.7777777777777778,\"#fb9f3a\"],[0.8888888888888888,\"#fdca26\"],[1.0,\"#f0f921\"]]}],\"heatmap\":[{\"type\":\"heatmap\",\"colorbar\":{\"outlinewidth\":0,\"ticks\":\"\"},\"colorscale\":[[0.0,\"#0d0887\"],[0.1111111111111111,\"#46039f\"],[0.2222222222222222,\"#7201a8\"],[0.3333333333333333,\"#9c179e\"],[0.4444444444444444,\"#bd3786\"],[0.5555555555555556,\"#d8576b\"],[0.6666666666666666,\"#ed7953\"],[0.7777777777777778,\"#fb9f3a\"],[0.8888888888888888,\"#fdca26\"],[1.0,\"#f0f921\"]]}],\"heatmapgl\":[{\"type\":\"heatmapgl\",\"colorbar\":{\"outlinewidth\":0,\"ticks\":\"\"},\"colorscale\":[[0.0,\"#0d0887\"],[0.1111111111111111,\"#46039f\"],[0.2222222222222222,\"#7201a8\"],[0.3333333333333333,\"#9c179e\"],[0.4444444444444444,\"#bd3786\"],[0.5555555555555556,\"#d8576b\"],[0.6666666666666666,\"#ed7953\"],[0.7777777777777778,\"#fb9f3a\"],[0.8888888888888888,\"#fdca26\"],[1.0,\"#f0f921\"]]}],\"contourcarpet\":[{\"type\":\"contourcarpet\",\"colorbar\":{\"outlinewidth\":0,\"ticks\":\"\"}}],\"contour\":[{\"type\":\"contour\",\"colorbar\":{\"outlinewidth\":0,\"ticks\":\"\"},\"colorscale\":[[0.0,\"#0d0887\"],[0.1111111111111111,\"#46039f\"],[0.2222222222222222,\"#7201a8\"],[0.3333333333333333,\"#9c179e\"],[0.4444444444444444,\"#bd3786\"],[0.5555555555555556,\"#d8576b\"],[0.6666666666666666,\"#ed7953\"],[0.7777777777777778,\"#fb9f3a\"],[0.8888888888888888,\"#fdca26\"],[1.0,\"#f0f921\"]]}],\"surface\":[{\"type\":\"surface\",\"colorbar\":{\"outlinewidth\":0,\"ticks\":\"\"},\"colorscale\":[[0.0,\"#0d0887\"],[0.1111111111111111,\"#46039f\"],[0.2222222222222222,\"#7201a8\"],[0.3333333333333333,\"#9c179e\"],[0.4444444444444444,\"#bd3786\"],[0.5555555555555556,\"#d8576b\"],[0.6666666666666666,\"#ed7953\"],[0.7777777777777778,\"#fb9f3a\"],[0.8888888888888888,\"#fdca26\"],[1.0,\"#f0f921\"]]}],\"mesh3d\":[{\"type\":\"mesh3d\",\"colorbar\":{\"outlinewidth\":0,\"ticks\":\"\"}}],\"scatter\":[{\"fillpattern\":{\"fillmode\":\"overlay\",\"size\":10,\"solidity\":0.2},\"type\":\"scatter\"}],\"parcoords\":[{\"type\":\"parcoords\",\"line\":{\"colorbar\":{\"outlinewidth\":0,\"ticks\":\"\"}}}],\"scatterpolargl\":[{\"type\":\"scatterpolargl\",\"marker\":{\"colorbar\":{\"outlinewidth\":0,\"ticks\":\"\"}}}],\"bar\":[{\"error_x\":{\"color\":\"#2a3f5f\"},\"error_y\":{\"color\":\"#2a3f5f\"},\"marker\":{\"line\":{\"color\":\"#E5ECF6\",\"width\":0.5},\"pattern\":{\"fillmode\":\"overlay\",\"size\":10,\"solidity\":0.2}},\"type\":\"bar\"}],\"scattergeo\":[{\"type\":\"scattergeo\",\"marker\":{\"colorbar\":{\"outlinewidth\":0,\"ticks\":\"\"}}}],\"scatterpolar\":[{\"type\":\"scatterpolar\",\"marker\":{\"colorbar\":{\"outlinewidth\":0,\"ticks\":\"\"}}}],\"histogram\":[{\"marker\":{\"pattern\":{\"fillmode\":\"overlay\",\"size\":10,\"solidity\":0.2}},\"type\":\"histogram\"}],\"scattergl\":[{\"type\":\"scattergl\",\"marker\":{\"colorbar\":{\"outlinewidth\":0,\"ticks\":\"\"}}}],\"scatter3d\":[{\"type\":\"scatter3d\",\"line\":{\"colorbar\":{\"outlinewidth\":0,\"ticks\":\"\"}},\"marker\":{\"colorbar\":{\"outlinewidth\":0,\"ticks\":\"\"}}}],\"scattermapbox\":[{\"type\":\"scattermapbox\",\"marker\":{\"colorbar\":{\"outlinewidth\":0,\"ticks\":\"\"}}}],\"scatterternary\":[{\"type\":\"scatterternary\",\"marker\":{\"colorbar\":{\"outlinewidth\":0,\"ticks\":\"\"}}}],\"scattercarpet\":[{\"type\":\"scattercarpet\",\"marker\":{\"colorbar\":{\"outlinewidth\":0,\"ticks\":\"\"}}}],\"carpet\":[{\"aaxis\":{\"endlinecolor\":\"#2a3f5f\",\"gridcolor\":\"white\",\"linecolor\":\"white\",\"minorgridcolor\":\"white\",\"startlinecolor\":\"#2a3f5f\"},\"baxis\":{\"endlinecolor\":\"#2a3f5f\",\"gridcolor\":\"white\",\"linecolor\":\"white\",\"minorgridcolor\":\"white\",\"startlinecolor\":\"#2a3f5f\"},\"type\":\"carpet\"}],\"table\":[{\"cells\":{\"fill\":{\"color\":\"#EBF0F8\"},\"line\":{\"color\":\"white\"}},\"header\":{\"fill\":{\"color\":\"#C8D4E3\"},\"line\":{\"color\":\"white\"}},\"type\":\"table\"}],\"barpolar\":[{\"marker\":{\"line\":{\"color\":\"#E5ECF6\",\"width\":0.5},\"pattern\":{\"fillmode\":\"overlay\",\"size\":10,\"solidity\":0.2}},\"type\":\"barpolar\"}],\"pie\":[{\"automargin\":true,\"type\":\"pie\"}]},\"layout\":{\"autotypenumbers\":\"strict\",\"colorway\":[\"#636efa\",\"#EF553B\",\"#00cc96\",\"#ab63fa\",\"#FFA15A\",\"#19d3f3\",\"#FF6692\",\"#B6E880\",\"#FF97FF\",\"#FECB52\"],\"font\":{\"color\":\"#2a3f5f\"},\"hovermode\":\"closest\",\"hoverlabel\":{\"align\":\"left\"},\"paper_bgcolor\":\"white\",\"plot_bgcolor\":\"#E5ECF6\",\"polar\":{\"bgcolor\":\"#E5ECF6\",\"angularaxis\":{\"gridcolor\":\"white\",\"linecolor\":\"white\",\"ticks\":\"\"},\"radialaxis\":{\"gridcolor\":\"white\",\"linecolor\":\"white\",\"ticks\":\"\"}},\"ternary\":{\"bgcolor\":\"#E5ECF6\",\"aaxis\":{\"gridcolor\":\"white\",\"linecolor\":\"white\",\"ticks\":\"\"},\"baxis\":{\"gridcolor\":\"white\",\"linecolor\":\"white\",\"ticks\":\"\"},\"caxis\":{\"gridcolor\":\"white\",\"linecolor\":\"white\",\"ticks\":\"\"}},\"coloraxis\":{\"colorbar\":{\"outlinewidth\":0,\"ticks\":\"\"}},\"colorscale\":{\"sequential\":[[0.0,\"#0d0887\"],[0.1111111111111111,\"#46039f\"],[0.2222222222222222,\"#7201a8\"],[0.3333333333333333,\"#9c179e\"],[0.4444444444444444,\"#bd3786\"],[0.5555555555555556,\"#d8576b\"],[0.6666666666666666,\"#ed7953\"],[0.7777777777777778,\"#fb9f3a\"],[0.8888888888888888,\"#fdca26\"],[1.0,\"#f0f921\"]],\"sequentialminus\":[[0.0,\"#0d0887\"],[0.1111111111111111,\"#46039f\"],[0.2222222222222222,\"#7201a8\"],[0.3333333333333333,\"#9c179e\"],[0.4444444444444444,\"#bd3786\"],[0.5555555555555556,\"#d8576b\"],[0.6666666666666666,\"#ed7953\"],[0.7777777777777778,\"#fb9f3a\"],[0.8888888888888888,\"#fdca26\"],[1.0,\"#f0f921\"]],\"diverging\":[[0,\"#8e0152\"],[0.1,\"#c51b7d\"],[0.2,\"#de77ae\"],[0.3,\"#f1b6da\"],[0.4,\"#fde0ef\"],[0.5,\"#f7f7f7\"],[0.6,\"#e6f5d0\"],[0.7,\"#b8e186\"],[0.8,\"#7fbc41\"],[0.9,\"#4d9221\"],[1,\"#276419\"]]},\"xaxis\":{\"gridcolor\":\"white\",\"linecolor\":\"white\",\"ticks\":\"\",\"title\":{\"standoff\":15},\"zerolinecolor\":\"white\",\"automargin\":true,\"zerolinewidth\":2},\"yaxis\":{\"gridcolor\":\"white\",\"linecolor\":\"white\",\"ticks\":\"\",\"title\":{\"standoff\":15},\"zerolinecolor\":\"white\",\"automargin\":true,\"zerolinewidth\":2},\"scene\":{\"xaxis\":{\"backgroundcolor\":\"#E5ECF6\",\"gridcolor\":\"white\",\"linecolor\":\"white\",\"showbackground\":true,\"ticks\":\"\",\"zerolinecolor\":\"white\",\"gridwidth\":2},\"yaxis\":{\"backgroundcolor\":\"#E5ECF6\",\"gridcolor\":\"white\",\"linecolor\":\"white\",\"showbackground\":true,\"ticks\":\"\",\"zerolinecolor\":\"white\",\"gridwidth\":2},\"zaxis\":{\"backgroundcolor\":\"#E5ECF6\",\"gridcolor\":\"white\",\"linecolor\":\"white\",\"showbackground\":true,\"ticks\":\"\",\"zerolinecolor\":\"white\",\"gridwidth\":2}},\"shapedefaults\":{\"line\":{\"color\":\"#2a3f5f\"}},\"annotationdefaults\":{\"arrowcolor\":\"#2a3f5f\",\"arrowhead\":0,\"arrowwidth\":1},\"geo\":{\"bgcolor\":\"white\",\"landcolor\":\"#E5ECF6\",\"subunitcolor\":\"white\",\"showland\":true,\"showlakes\":true,\"lakecolor\":\"white\"},\"title\":{\"x\":0.05},\"mapbox\":{\"style\":\"light\"}}},\"legend\":{\"tracegroupgap\":0},\"title\":{\"text\":\"\\ucc98\\ubd84\\uad6c\\ubd84\\ubcc4 \\ube44\\uc728\"}},                        {\"responsive\": true}                    ).then(function(){\n",
       "                            \n",
       "var gd = document.getElementById('1264f447-e138-4e17-9006-41e16607a2a4');\n",
       "var x = new MutationObserver(function (mutations, observer) {{\n",
       "        var display = window.getComputedStyle(gd).display;\n",
       "        if (!display || display === 'none') {{\n",
       "            console.log([gd, 'removed!']);\n",
       "            Plotly.purge(gd);\n",
       "            observer.disconnect();\n",
       "        }}\n",
       "}});\n",
       "\n",
       "// Listen for the removal of the full notebook cells\n",
       "var notebookContainer = gd.closest('#notebook-container');\n",
       "if (notebookContainer) {{\n",
       "    x.observe(notebookContainer, {childList: true});\n",
       "}}\n",
       "\n",
       "// Listen for the clearing of the current output cell\n",
       "var outputEl = gd.closest('.output');\n",
       "if (outputEl) {{\n",
       "    x.observe(outputEl, {childList: true});\n",
       "}}\n",
       "\n",
       "                        })                };                });            </script>        </div>"
      ]
     },
     "metadata": {},
     "output_type": "display_data"
    }
   ],
   "source": [
    "fig = px.pie(df2, values='연도구분', names='처분구분명', title='처분구분별 비율')\n",
    "fig.show()"
   ]
  },
  {
   "cell_type": "code",
   "execution_count": 172,
   "id": "2350871c",
   "metadata": {},
   "outputs": [
    {
     "data": {
      "text/html": [
       "<div>\n",
       "<style scoped>\n",
       "    .dataframe tbody tr th:only-of-type {\n",
       "        vertical-align: middle;\n",
       "    }\n",
       "\n",
       "    .dataframe tbody tr th {\n",
       "        vertical-align: top;\n",
       "    }\n",
       "\n",
       "    .dataframe thead th {\n",
       "        text-align: right;\n",
       "    }\n",
       "</style>\n",
       "<table border=\"1\" class=\"dataframe\">\n",
       "  <thead>\n",
       "    <tr style=\"text-align: right;\">\n",
       "      <th></th>\n",
       "      <th>연도구분</th>\n",
       "      <th>지역구분</th>\n",
       "      <th>소재지명</th>\n",
       "      <th>재산구분</th>\n",
       "      <th>공부지목</th>\n",
       "      <th>대장면적(제곱미터)</th>\n",
       "      <th>대장금액(원)</th>\n",
       "      <th>처분구분명</th>\n",
       "      <th>계약일자</th>\n",
       "      <th>부점명</th>\n",
       "      <th>팀명</th>\n",
       "    </tr>\n",
       "  </thead>\n",
       "  <tbody>\n",
       "    <tr>\n",
       "      <th>0</th>\n",
       "      <td>2014</td>\n",
       "      <td>전라북도</td>\n",
       "      <td>전라북도 정읍시 상동  725</td>\n",
       "      <td>토지</td>\n",
       "      <td>전</td>\n",
       "      <td>56.0</td>\n",
       "      <td>9968000.0</td>\n",
       "      <td>처분(매각수의)</td>\n",
       "      <td>2014-01-01</td>\n",
       "      <td>전북지역본부</td>\n",
       "      <td>국유재산관리1팀</td>\n",
       "    </tr>\n",
       "    <tr>\n",
       "      <th>1</th>\n",
       "      <td>2014</td>\n",
       "      <td>울산광역시</td>\n",
       "      <td>울산광역시 북구 천곡동  709-1</td>\n",
       "      <td>토지</td>\n",
       "      <td>임야</td>\n",
       "      <td>225.0</td>\n",
       "      <td>13770000.0</td>\n",
       "      <td>처분(매각수의)</td>\n",
       "      <td>2014-01-01</td>\n",
       "      <td>국유재산관리부</td>\n",
       "      <td>국유울산팀</td>\n",
       "    </tr>\n",
       "    <tr>\n",
       "      <th>2</th>\n",
       "      <td>2014</td>\n",
       "      <td>전라북도</td>\n",
       "      <td>전라북도 정읍시 산내면 종성리 727-21</td>\n",
       "      <td>토지</td>\n",
       "      <td>답</td>\n",
       "      <td>105.0</td>\n",
       "      <td>1075200.0</td>\n",
       "      <td>처분(매각수의)</td>\n",
       "      <td>2014-01-01</td>\n",
       "      <td>전북지역본부</td>\n",
       "      <td>국유재산관리1팀</td>\n",
       "    </tr>\n",
       "    <tr>\n",
       "      <th>3</th>\n",
       "      <td>2014</td>\n",
       "      <td>전라북도</td>\n",
       "      <td>전라북도 정읍시 산내면 종성리 727-16</td>\n",
       "      <td>토지</td>\n",
       "      <td>답</td>\n",
       "      <td>184.0</td>\n",
       "      <td>1884160.0</td>\n",
       "      <td>처분(매각수의)</td>\n",
       "      <td>2014-01-01</td>\n",
       "      <td>전북지역본부</td>\n",
       "      <td>국유재산관리1팀</td>\n",
       "    </tr>\n",
       "    <tr>\n",
       "      <th>4</th>\n",
       "      <td>2014</td>\n",
       "      <td>전라북도</td>\n",
       "      <td>전라북도 김제시 검산동  424-3</td>\n",
       "      <td>토지</td>\n",
       "      <td>전</td>\n",
       "      <td>2106.0</td>\n",
       "      <td>23797800.0</td>\n",
       "      <td>처분(매각수의)</td>\n",
       "      <td>2014-01-01</td>\n",
       "      <td>전북지역본부</td>\n",
       "      <td>국유재산관리2팀</td>\n",
       "    </tr>\n",
       "    <tr>\n",
       "      <th>...</th>\n",
       "      <td>...</td>\n",
       "      <td>...</td>\n",
       "      <td>...</td>\n",
       "      <td>...</td>\n",
       "      <td>...</td>\n",
       "      <td>...</td>\n",
       "      <td>...</td>\n",
       "      <td>...</td>\n",
       "      <td>...</td>\n",
       "      <td>...</td>\n",
       "      <td>...</td>\n",
       "    </tr>\n",
       "    <tr>\n",
       "      <th>141312</th>\n",
       "      <td>2022</td>\n",
       "      <td>제주특별자치도</td>\n",
       "      <td>제주특별자치도 서귀포시 표선면 하천리 1500-4</td>\n",
       "      <td>토지</td>\n",
       "      <td>임야</td>\n",
       "      <td>208.0</td>\n",
       "      <td>29952000.0</td>\n",
       "      <td>처분(매각수의)</td>\n",
       "      <td>2022-11-09</td>\n",
       "      <td>광주전남지역본부</td>\n",
       "      <td>국유제주지사</td>\n",
       "    </tr>\n",
       "    <tr>\n",
       "      <th>141313</th>\n",
       "      <td>2022</td>\n",
       "      <td>제주특별자치도</td>\n",
       "      <td>제주특별자치도 서귀포시 표선면 세화리 2451-3</td>\n",
       "      <td>토지</td>\n",
       "      <td>전</td>\n",
       "      <td>1257.0</td>\n",
       "      <td>56062200.0</td>\n",
       "      <td>처분(매각수의)</td>\n",
       "      <td>2022-12-29</td>\n",
       "      <td>광주전남지역본부</td>\n",
       "      <td>국유제주지사</td>\n",
       "    </tr>\n",
       "    <tr>\n",
       "      <th>141314</th>\n",
       "      <td>2022</td>\n",
       "      <td>제주특별자치도</td>\n",
       "      <td>제주특별자치도 서귀포시 표선면 세화리 2451-10</td>\n",
       "      <td>토지</td>\n",
       "      <td>전</td>\n",
       "      <td>2974.0</td>\n",
       "      <td>132640400.0</td>\n",
       "      <td>처분(매각수의)</td>\n",
       "      <td>2022-12-29</td>\n",
       "      <td>광주전남지역본부</td>\n",
       "      <td>국유제주지사</td>\n",
       "    </tr>\n",
       "    <tr>\n",
       "      <th>141315</th>\n",
       "      <td>2022</td>\n",
       "      <td>제주특별자치도</td>\n",
       "      <td>제주특별자치도 서귀포시 표선면 토산리 32-3</td>\n",
       "      <td>토지</td>\n",
       "      <td>유지</td>\n",
       "      <td>80.0</td>\n",
       "      <td>32160000.0</td>\n",
       "      <td>처분(매각수의)</td>\n",
       "      <td>2022-08-04</td>\n",
       "      <td>광주전남지역본부</td>\n",
       "      <td>국유제주지사</td>\n",
       "    </tr>\n",
       "    <tr>\n",
       "      <th>141316</th>\n",
       "      <td>2022</td>\n",
       "      <td>제주특별자치도</td>\n",
       "      <td>제주특별자치도 서귀포시 표선면 토산리 1033</td>\n",
       "      <td>토지</td>\n",
       "      <td>묘지</td>\n",
       "      <td>178.0</td>\n",
       "      <td>2776800.0</td>\n",
       "      <td>처분(매각수의)</td>\n",
       "      <td>2022-11-22</td>\n",
       "      <td>광주전남지역본부</td>\n",
       "      <td>국유제주지사</td>\n",
       "    </tr>\n",
       "  </tbody>\n",
       "</table>\n",
       "<p>141317 rows × 11 columns</p>\n",
       "</div>"
      ],
      "text/plain": [
       "        연도구분     지역구분                          소재지명 재산구분 공부지목  대장면적(제곱미터)  \\\n",
       "0       2014     전라북도              전라북도 정읍시 상동  725   토지    전        56.0   \n",
       "1       2014    울산광역시           울산광역시 북구 천곡동  709-1   토지   임야       225.0   \n",
       "2       2014     전라북도       전라북도 정읍시 산내면 종성리 727-21   토지    답       105.0   \n",
       "3       2014     전라북도       전라북도 정읍시 산내면 종성리 727-16   토지    답       184.0   \n",
       "4       2014     전라북도           전라북도 김제시 검산동  424-3   토지    전      2106.0   \n",
       "...      ...      ...                           ...  ...  ...         ...   \n",
       "141312  2022  제주특별자치도   제주특별자치도 서귀포시 표선면 하천리 1500-4   토지   임야       208.0   \n",
       "141313  2022  제주특별자치도   제주특별자치도 서귀포시 표선면 세화리 2451-3   토지    전      1257.0   \n",
       "141314  2022  제주특별자치도  제주특별자치도 서귀포시 표선면 세화리 2451-10   토지    전      2974.0   \n",
       "141315  2022  제주특별자치도     제주특별자치도 서귀포시 표선면 토산리 32-3   토지   유지        80.0   \n",
       "141316  2022  제주특별자치도     제주특별자치도 서귀포시 표선면 토산리 1033   토지   묘지       178.0   \n",
       "\n",
       "            대장금액(원)     처분구분명        계약일자       부점명        팀명  \n",
       "0         9968000.0  처분(매각수의)  2014-01-01    전북지역본부  국유재산관리1팀  \n",
       "1        13770000.0  처분(매각수의)  2014-01-01   국유재산관리부     국유울산팀  \n",
       "2         1075200.0  처분(매각수의)  2014-01-01    전북지역본부  국유재산관리1팀  \n",
       "3         1884160.0  처분(매각수의)  2014-01-01    전북지역본부  국유재산관리1팀  \n",
       "4        23797800.0  처분(매각수의)  2014-01-01    전북지역본부  국유재산관리2팀  \n",
       "...             ...       ...         ...       ...       ...  \n",
       "141312   29952000.0  처분(매각수의)  2022-11-09  광주전남지역본부    국유제주지사  \n",
       "141313   56062200.0  처분(매각수의)  2022-12-29  광주전남지역본부    국유제주지사  \n",
       "141314  132640400.0  처분(매각수의)  2022-12-29  광주전남지역본부    국유제주지사  \n",
       "141315   32160000.0  처분(매각수의)  2022-08-04  광주전남지역본부    국유제주지사  \n",
       "141316    2776800.0  처분(매각수의)  2022-11-22  광주전남지역본부    국유제주지사  \n",
       "\n",
       "[141317 rows x 11 columns]"
      ]
     },
     "execution_count": 172,
     "metadata": {},
     "output_type": "execute_result"
    }
   ],
   "source": [
    "df"
   ]
  },
  {
   "cell_type": "markdown",
   "id": "6b0557af",
   "metadata": {},
   "source": []
  },
  {
   "cell_type": "code",
   "execution_count": null,
   "id": "4dd8e7d1",
   "metadata": {},
   "outputs": [],
   "source": []
  },
  {
   "cell_type": "code",
   "execution_count": null,
   "id": "b851ba91",
   "metadata": {},
   "outputs": [],
   "source": []
  }
 ],
 "metadata": {
  "kernelspec": {
   "display_name": "Python 3 (ipykernel)",
   "language": "python",
   "name": "python3"
  },
  "language_info": {
   "codemirror_mode": {
    "name": "ipython",
    "version": 3
   },
   "file_extension": ".py",
   "mimetype": "text/x-python",
   "name": "python",
   "nbconvert_exporter": "python",
   "pygments_lexer": "ipython3",
   "version": "3.10.9"
  }
 },
 "nbformat": 4,
 "nbformat_minor": 5
}
