{
 "cells": [
  {
   "cell_type": "markdown",
   "id": "d493a40e",
   "metadata": {},
   "source": [
    "# 데이터 수집"
   ]
  },
  {
   "cell_type": "code",
   "execution_count": null,
   "id": "7d5c6cef",
   "metadata": {},
   "outputs": [],
   "source": [
    "통계청\n",
    "공공데이터포털\n",
    "논문 서칭 (주의해서 사용)\n",
    "크롤링"
   ]
  },
  {
   "cell_type": "code",
   "execution_count": 2,
   "id": "c66cf446",
   "metadata": {},
   "outputs": [
    {
     "name": "stdout",
     "output_type": "stream",
     "text": [
      "Defaulting to user installation because normal site-packages is not writeable\n",
      "Collecting selenium\n",
      "  Downloading selenium-4.10.0-py3-none-any.whl (6.7 MB)\n",
      "     ---------------------------------------- 6.7/6.7 MB 71.7 MB/s eta 0:00:00\n",
      "Requirement already satisfied: urllib3[socks]<3,>=1.26 in c:\\programdata\\anaconda3\\lib\\site-packages (from selenium) (1.26.14)\n",
      "Collecting trio~=0.17\n",
      "  Downloading trio-0.22.2-py3-none-any.whl (400 kB)\n",
      "     ---------------------------------------- 400.2/400.2 kB ? eta 0:00:00\n",
      "Requirement already satisfied: certifi>=2021.10.8 in c:\\programdata\\anaconda3\\lib\\site-packages (from selenium) (2022.12.7)\n",
      "Collecting trio-websocket~=0.9\n",
      "  Downloading trio_websocket-0.10.3-py3-none-any.whl (17 kB)\n",
      "Requirement already satisfied: idna in c:\\programdata\\anaconda3\\lib\\site-packages (from trio~=0.17->selenium) (3.4)\n",
      "Collecting exceptiongroup>=1.0.0rc9\n",
      "  Downloading exceptiongroup-1.1.2-py3-none-any.whl (14 kB)\n",
      "Requirement already satisfied: cffi>=1.14 in c:\\programdata\\anaconda3\\lib\\site-packages (from trio~=0.17->selenium) (1.15.1)\n",
      "Collecting outcome\n",
      "  Downloading outcome-1.2.0-py2.py3-none-any.whl (9.7 kB)\n",
      "Requirement already satisfied: attrs>=20.1.0 in c:\\programdata\\anaconda3\\lib\\site-packages (from trio~=0.17->selenium) (22.1.0)\n",
      "Requirement already satisfied: sniffio in c:\\programdata\\anaconda3\\lib\\site-packages (from trio~=0.17->selenium) (1.2.0)\n",
      "Requirement already satisfied: sortedcontainers in c:\\programdata\\anaconda3\\lib\\site-packages (from trio~=0.17->selenium) (2.4.0)\n",
      "Collecting wsproto>=0.14\n",
      "  Downloading wsproto-1.2.0-py3-none-any.whl (24 kB)\n",
      "Requirement already satisfied: PySocks!=1.5.7,<2.0,>=1.5.6 in c:\\programdata\\anaconda3\\lib\\site-packages (from urllib3[socks]<3,>=1.26->selenium) (1.7.1)\n",
      "Requirement already satisfied: pycparser in c:\\programdata\\anaconda3\\lib\\site-packages (from cffi>=1.14->trio~=0.17->selenium) (2.21)\n",
      "Collecting h11<1,>=0.9.0\n",
      "  Downloading h11-0.14.0-py3-none-any.whl (58 kB)\n",
      "     ---------------------------------------- 58.3/58.3 kB 3.2 MB/s eta 0:00:00\n",
      "Installing collected packages: outcome, h11, exceptiongroup, wsproto, trio, trio-websocket, selenium\n",
      "Successfully installed exceptiongroup-1.1.2 h11-0.14.0 outcome-1.2.0 selenium-4.10.0 trio-0.22.2 trio-websocket-0.10.3 wsproto-1.2.0\n"
     ]
    }
   ],
   "source": [
    "#!pip install selenium"
   ]
  },
  {
   "cell_type": "code",
   "execution_count": 3,
   "id": "25b448f2",
   "metadata": {},
   "outputs": [],
   "source": [
    "# 패키지 불러오기\n",
    "from selenium import webdriver"
   ]
  },
  {
   "cell_type": "code",
   "execution_count": 4,
   "id": "6b728a8a",
   "metadata": {},
   "outputs": [],
   "source": [
    "import pandas as pd"
   ]
  },
  {
   "cell_type": "code",
   "execution_count": 10,
   "id": "41618bc0",
   "metadata": {},
   "outputs": [],
   "source": [
    "driver = webdriver.Chrome()"
   ]
  },
  {
   "cell_type": "code",
   "execution_count": 11,
   "id": "230c846f",
   "metadata": {},
   "outputs": [],
   "source": [
    "# 검색어 입력 및 검색\n",
    "keyword = '서울 종로구 어학원'\n",
    "kakao_map_search_url = f\"https://map.kakao.com/?q={keyword}\""
   ]
  },
  {
   "cell_type": "code",
   "execution_count": 12,
   "id": "fe535686",
   "metadata": {},
   "outputs": [],
   "source": [
    "driver.get(kakao_map_search_url)"
   ]
  },
  {
   "cell_type": "code",
   "execution_count": 20,
   "id": "c349c40f",
   "metadata": {},
   "outputs": [],
   "source": [
    "driver.get(kakao_map_search_url)"
   ]
  },
  {
   "cell_type": "markdown",
   "id": "9c7fe450",
   "metadata": {},
   "source": [
    "//*[@id=\"info.search.place.list\"]/li[1]/div[3]/strong/a[2]\n",
    "\n",
    "\n",
    "//*[@id=\"info.search.place.list\"]/li[2]/div[3]/strong/a[2]\n",
    "\n",
    "\n",
    "//*[@id=\"info.search.place.list\"]/li[3]/div[3]/strong/a[2]\n",
    "\n",
    "//*[@id=\"info.search.place.list\"]/li[1]/div[5]/div[2]/p[1]"
   ]
  },
  {
   "cell_type": "code",
   "execution_count": 21,
   "id": "72d73eb0",
   "metadata": {},
   "outputs": [],
   "source": [
    "ind = 1  # 현재 복사한 순서\n",
    "no = 1  # 1~5페이지 중 위치한 곳\n",
    "page = 1  # 현재 페이지 번호\n",
    "list1 = []  # 결과물이 저장되는 리스트\n",
    "\n",
    "while 1:\n",
    "    try:\n",
    "        # 업체명, 주소\n",
    "        title = driver.find_element(by='xpath',value = f'//*[@id=\"info.search.place.list\"]/li[{ind}]/div[3]/strong/a[2]').text\n",
    "        addr = driver.find_element(by='xpath',value = f'//*[@id=\"info.search.place.list\"]/li[{ind}]/div[5]/div[2]/p[1]').text\n",
    "        list1.append([title, addr])\n",
    "        \n",
    "        ind += 1\n",
    "        \n",
    "    except:\n",
    "        # 더보기 버튼 찾기\n",
    "        if driver.find_element(by='xpath',value = f'//*[@id=\"info.search.place.more\"]').is_displayed():\n",
    "            driver.find_element(by='xpath',value = f'//*[@id=\"info.search.place.more\"]').click()\n",
    "            no += 1\n",
    "            ind = 1\n",
    "            page += 1\n",
    "            continue\n",
    "\n",
    "        # 5페이지 단위마다 다음 페이지 버튼 누르기\n",
    "        elif no >= 5:\n",
    "            driver.find_element(by='xpath',value = f'//*[@id=\"info.search.page.next\"]').click()\n",
    "            no = 1\n",
    "            ind = 1\n",
    "            page += 1\n",
    "            continue\n",
    "            \n",
    "        # 다음 페이지로 이동\n",
    "        elif driver.find_element(by='xpath',value = f'//*[@id=\"info.search.page.no{no+1}\"]').is_displayed():\n",
    "            no += 1\n",
    "            driver.find_element(by='xpath',value = f'//*[@id=\"info.search.page.no{no}\"]').click()\n",
    "            ind = 1\n",
    "            page += 1\n",
    "            continue\n",
    "        \n",
    "        # 더이상 이동할수 없을 경우 종료\n",
    "        else:\n",
    "            break"
   ]
  },
  {
   "cell_type": "code",
   "execution_count": 24,
   "id": "3a85ff23",
   "metadata": {},
   "outputs": [
    {
     "data": {
      "text/html": [
       "<div>\n",
       "<style scoped>\n",
       "    .dataframe tbody tr th:only-of-type {\n",
       "        vertical-align: middle;\n",
       "    }\n",
       "\n",
       "    .dataframe tbody tr th {\n",
       "        vertical-align: top;\n",
       "    }\n",
       "\n",
       "    .dataframe thead th {\n",
       "        text-align: right;\n",
       "    }\n",
       "</style>\n",
       "<table border=\"1\" class=\"dataframe\">\n",
       "  <thead>\n",
       "    <tr style=\"text-align: right;\">\n",
       "      <th></th>\n",
       "      <th>0</th>\n",
       "      <th>1</th>\n",
       "    </tr>\n",
       "  </thead>\n",
       "  <tbody>\n",
       "    <tr>\n",
       "      <th>0</th>\n",
       "      <td>YBM어학원 종로센터</td>\n",
       "      <td>서울 종로구 종로 104</td>\n",
       "    </tr>\n",
       "    <tr>\n",
       "      <th>1</th>\n",
       "      <td>파고다어학원 종로점</td>\n",
       "      <td>서울 종로구 청계천로 93</td>\n",
       "    </tr>\n",
       "    <tr>\n",
       "      <th>2</th>\n",
       "      <td>YBM어학원 종로e4u</td>\n",
       "      <td>서울 종로구 삼일대로20길 6 1~5층, 7~9층</td>\n",
       "    </tr>\n",
       "    <tr>\n",
       "      <th>3</th>\n",
       "      <td>해커스어학원 종로캠퍼스</td>\n",
       "      <td>서울 종로구 인사동길 12 대일빌딩 4층</td>\n",
       "    </tr>\n",
       "    <tr>\n",
       "      <th>4</th>\n",
       "      <td>YBM 종로CBT센터</td>\n",
       "      <td>서울 종로구 종로 104 본관지하</td>\n",
       "    </tr>\n",
       "    <tr>\n",
       "      <th>...</th>\n",
       "      <td>...</td>\n",
       "      <td>...</td>\n",
       "    </tr>\n",
       "    <tr>\n",
       "      <th>314</th>\n",
       "      <td>잉글리쉬무무 길음제1학원</td>\n",
       "      <td>서울 성북구 삼양로 80</td>\n",
       "    </tr>\n",
       "    <tr>\n",
       "      <th>315</th>\n",
       "      <td>YBM잉글루</td>\n",
       "      <td>서울 은평구 백련산로 38</td>\n",
       "    </tr>\n",
       "    <tr>\n",
       "      <th>316</th>\n",
       "      <td>파로영어교습소</td>\n",
       "      <td>서울 은평구 백련산로 38 205동 상가 1층 102호</td>\n",
       "    </tr>\n",
       "    <tr>\n",
       "      <th>317</th>\n",
       "      <td>뮤엠영어 퍼스트학원</td>\n",
       "      <td>서울 은평구 백련산로 38</td>\n",
       "    </tr>\n",
       "    <tr>\n",
       "      <th>318</th>\n",
       "      <td>예스윤선생 종암학원</td>\n",
       "      <td>서울 성북구 종암로27길 37 2층</td>\n",
       "    </tr>\n",
       "  </tbody>\n",
       "</table>\n",
       "<p>319 rows × 2 columns</p>\n",
       "</div>"
      ],
      "text/plain": [
       "                 0                               1\n",
       "0      YBM어학원 종로센터                   서울 종로구 종로 104\n",
       "1       파고다어학원 종로점                  서울 종로구 청계천로 93\n",
       "2     YBM어학원 종로e4u     서울 종로구 삼일대로20길 6 1~5층, 7~9층\n",
       "3     해커스어학원 종로캠퍼스          서울 종로구 인사동길 12 대일빌딩 4층\n",
       "4      YBM 종로CBT센터              서울 종로구 종로 104 본관지하\n",
       "..             ...                             ...\n",
       "314  잉글리쉬무무 길음제1학원                   서울 성북구 삼양로 80\n",
       "315         YBM잉글루                  서울 은평구 백련산로 38\n",
       "316        파로영어교습소  서울 은평구 백련산로 38 205동 상가 1층 102호\n",
       "317     뮤엠영어 퍼스트학원                  서울 은평구 백련산로 38\n",
       "318     예스윤선생 종암학원             서울 성북구 종암로27길 37 2층\n",
       "\n",
       "[319 rows x 2 columns]"
      ]
     },
     "execution_count": 24,
     "metadata": {},
     "output_type": "execute_result"
    }
   ],
   "source": [
    "pd.DataFrame(list1)"
   ]
  },
  {
   "cell_type": "markdown",
   "id": "8f19478a",
   "metadata": {},
   "source": [
    "//*[@id=\"info.search.place.more\"]"
   ]
  },
  {
   "cell_type": "markdown",
   "id": "8a164741",
   "metadata": {},
   "source": [
    "//*[@id=\"info.search.place.list\"]/li[1]/div[3]/strong/a[2]"
   ]
  },
  {
   "cell_type": "markdown",
   "id": "9cd37403",
   "metadata": {},
   "source": [
    "//*[@id=\"info.search.page.no3\"]\n",
    "\n",
    "//*[@id=\"info.search.page.no4\"]\n",
    "\n",
    "//*[@id=\"info.search.page.next\"]\n",
    "\n",
    "//*[@id=\"info.search.page.no1\"]\n",
    "\n",
    "//*[@id=\"info.search.page.next\"]"
   ]
  }
 ],
 "metadata": {
  "kernelspec": {
   "display_name": "Python 3 (ipykernel)",
   "language": "python",
   "name": "python3"
  },
  "language_info": {
   "codemirror_mode": {
    "name": "ipython",
    "version": 3
   },
   "file_extension": ".py",
   "mimetype": "text/x-python",
   "name": "python",
   "nbconvert_exporter": "python",
   "pygments_lexer": "ipython3",
   "version": "3.10.9"
  }
 },
 "nbformat": 4,
 "nbformat_minor": 5
}
